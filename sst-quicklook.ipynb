{
 "cells": [
  {
   "cell_type": "code",
   "execution_count": 95,
   "metadata": {},
   "outputs": [],
   "source": [
    "# import libraries related to querying links and downloading files from the web\n",
    "import requests\n",
    "import urllib.request\n",
    "from bs4 import BeautifulSoup\n",
    "import os\n",
    "from IPython.display import Video"
   ]
  },
  {
   "cell_type": "code",
   "execution_count": 96,
   "metadata": {},
   "outputs": [
    {
     "name": "stdout",
     "output_type": "stream",
     "text": [
      "2013\n",
      "2014\n",
      "2015\n",
      "2016\n",
      "2017\n",
      "2018\n",
      "2019\n",
      "2020\n",
      "2021\n",
      "2022\n"
     ]
    }
   ],
   "source": [
    "lapalma_url = 'http://tsih3.uio.no/lapalma/'\n",
    "# recursively get all the subdirectories in the parent url directory\n",
    "r = requests.get(lapalma_url)\n",
    "soup = BeautifulSoup(r.text, 'html.parser')\n",
    "obs_years = [a['href'] for a in soup.find_all('a', href=True) if a['href'].endswith('/')]\n",
    "# choose the subdirs of the of form 20?? and ignore the rest\n",
    "obs_years = [s for s in obs_years if s.startswith('20')]\n",
    "# print the observation years withouth the trailing slash\n",
    "for year in obs_years:\n",
    "    print(year[:-1])"
   ]
  },
  {
   "cell_type": "code",
   "execution_count": 97,
   "metadata": {},
   "outputs": [
    {
     "name": "stdout",
     "output_type": "stream",
     "text": [
      "first: 2013/2013-06-30, last: 2022/2022.09.08, total: 111\n"
     ]
    }
   ],
   "source": [
    "# recursively get all the subdirectories in the bs_years list\n",
    "obs_dates = []\n",
    "for subdir in obs_years:\n",
    "    r = requests.get(lapalma_url + subdir)\n",
    "    soup = BeautifulSoup(r.text, 'html.parser')\n",
    "    obs_dates.extend([subdir + a['href'] for a in soup.find_all('a', href=True) if a['href'].endswith('/')])\n",
    "# select the directories that are of the form 20??/20??-??-??/ and ignore the rest\n",
    "obs_dates = [s for s in obs_dates if s.startswith('20') and s.count('/') == 2]\n",
    "# print the first, last and total number of directories\n",
    "print(f'first: {obs_dates[0][:-1]}, last: {obs_dates[-1][:-1]}, total: {len(obs_dates)}')"
   ]
  },
  {
   "cell_type": "code",
   "execution_count": 98,
   "metadata": {},
   "outputs": [],
   "source": [
    "# define a function to print all the observing dates for a given year in the obs_dates list\n",
    "def print_obs_dates(year):\n",
    "    obs_dates_year = [s for s in obs_dates if s.startswith(year)]\n",
    "    print(f'first: {obs_dates_year[0][:-1]}, last: {obs_dates_year[-1][:-1]}, total: {len(obs_dates_year)}')\n",
    "    # remove the trailing slash and the year in the front, and return the list in the form 20??-??-??\n",
    "    obs_dates_year = [s[5:-1] for s in obs_dates_year]\n",
    "    formatted_obs_dates_year = []\n",
    "    # print an enumerated list of the observing dates\n",
    "    for i, obs_date in enumerate(obs_dates_year):\n",
    "       # obs_date = [s.replace('.', '-') for s in obs_date.split('/')]\n",
    "        # print i with 2 digits and the observing date\n",
    "        print(f'{i+1:02d}: {obs_date}')\n",
    "        formatted_obs_dates_year.append(obs_date)\n",
    "    return None"
   ]
  },
  {
   "cell_type": "code",
   "execution_count": 99,
   "metadata": {},
   "outputs": [],
   "source": [
    "# define a function that takes a partial string and returns all the strings that match it from the obs_dates list\n",
    "def find_obs_dates(partial_string):\n",
    "    obs_dates_partial = [s for s in obs_dates if partial_string in s]\n",
    "    # remove the trailing slash and the year in the front, and return the list in the form 20??-??-??\n",
    "    obs_dates_partial = [s[5:-1] for s in obs_dates_partial]\n",
    "    formatted_obs_dates_partial = []\n",
    "    # print an enumerated list of the observing dates\n",
    "    for i, obs_date in enumerate(obs_dates_partial):\n",
    "        # print i with 2 digits and the observing date\n",
    "        print(f'{i+1:02d}: {obs_date}')\n",
    "        formatted_obs_dates_partial.append(obs_date)\n",
    "    # if no match is found, print a message\n",
    "    if len(obs_dates_partial) == 0:\n",
    "        print('No observation dates found')\n",
    "    return None"
   ]
  },
  {
   "cell_type": "code",
   "execution_count": 100,
   "metadata": {},
   "outputs": [
    {
     "name": "stdout",
     "output_type": "stream",
     "text": [
      "No observation dates found\n"
     ]
    }
   ],
   "source": [
    "find_obs_dates('2020-04-')"
   ]
  },
  {
   "cell_type": "code",
   "execution_count": 101,
   "metadata": {},
   "outputs": [],
   "source": [
    "# write a function that takes obs_dates as input a returns a list of dates in the format 20??-??-??\n",
    "def get_obs_dates(obs_dates):\n",
    "    # remove the trailing slash and the year in the front, and return the list in the form 20??-??-??\n",
    "    obs_dates = [s[5:-1] for s in obs_dates]\n",
    "    # if the sepatator is not a dash, replace it with a dash\n",
    "    obs_dates = [s.replace('.', '-') for s in obs_dates]\n",
    "    return obs_dates"
   ]
  },
  {
   "cell_type": "code",
   "execution_count": 102,
   "metadata": {},
   "outputs": [],
   "source": [
    "obs_dates_list = get_obs_dates(obs_dates)"
   ]
  },
  {
   "cell_type": "code",
   "execution_count": 103,
   "metadata": {},
   "outputs": [
    {
     "data": {
      "text/plain": [
       "'2022-09-08'"
      ]
     },
     "execution_count": 103,
     "metadata": {},
     "output_type": "execute_result"
    }
   ],
   "source": [
    "obs_dates_list[110]"
   ]
  },
  {
   "cell_type": "code",
   "execution_count": 104,
   "metadata": {},
   "outputs": [
    {
     "data": {
      "text/plain": [
       "'2022/2022.09.08/'"
      ]
     },
     "execution_count": 104,
     "metadata": {},
     "output_type": "execute_result"
    }
   ],
   "source": [
    "obs_dates[110]"
   ]
  },
  {
   "cell_type": "code",
   "execution_count": 105,
   "metadata": {},
   "outputs": [],
   "source": [
    "# define a function that takes a url and a file extension as input and returns a list of files with the given extension, if the files are not founds it searches the subdirectories\n",
    "def get_files(url, file_extension):\n",
    "    # get the list of files with the given extension\n",
    "    r = requests.get(url)\n",
    "    soup = BeautifulSoup(r.text, 'html.parser')\n",
    "    files = [url + a['href'] for a in soup.find_all('a', href=True) if a['href'].endswith(file_extension)]\n",
    "    # if the list is empty, recursively search the subdirectories\n",
    "    if not files:\n",
    "        r = requests.get(url)\n",
    "        soup = BeautifulSoup(r.text, 'html.parser')\n",
    "        subdirs = [url + a['href'] for a in soup.find_all('a', href=True) if a['href'].endswith('/')]\n",
    "        for subdir in subdirs:\n",
    "            files.extend(get_files(subdir, file_extension))\n",
    "    return files"
   ]
  },
  {
   "cell_type": "code",
   "execution_count": 106,
   "metadata": {},
   "outputs": [
    {
     "data": {
      "text/plain": [
       "111"
      ]
     },
     "execution_count": 106,
     "metadata": {},
     "output_type": "execute_result"
    }
   ],
   "source": [
    "len(obs_dates_list)"
   ]
  },
  {
   "cell_type": "code",
   "execution_count": 107,
   "metadata": {},
   "outputs": [],
   "source": [
    "# for the obs_dates list, get the list of files with either .mp4 or .mov extension and save it as a dictionary wih the key being the observing date if the files are not founds then add a None value to the dictionary\n",
    "video_links = {}\n",
    "i = 0\n",
    "for obs_date in obs_dates:\n",
    "    # get the list of files with either .mp4 or .mov extension\n",
    "    files = get_files(lapalma_url + obs_date + '/', '.mp4') + get_files(lapalma_url + obs_date + '/', '.mov')\n",
    "    # if the list is not empty, save it as a dictionary wih the key being the observing date\n",
    "    key = obs_date[5:-1]\n",
    "    # replace the dots with dashes\n",
    "    key = key.replace('.', '-')\n",
    "    if files:\n",
    "        video_links[key] = files\n",
    "    # if the list is empty, add a None value to the dictionary\n",
    "    else:\n",
    "        video_links[key] = 'File not found'"
   ]
  },
  {
   "cell_type": "code",
   "execution_count": 108,
   "metadata": {},
   "outputs": [],
   "source": [
    "image_links = {}\n",
    "i = 0 \n",
    "for obs_date in obs_dates:\n",
    "    # get the list of files with either .mp4 or .mov extension\n",
    "    files = get_files(lapalma_url + obs_date + '/', '.jpg')\n",
    "    # if the list is not empty, save it as a dictionary wih the key being the observing date\n",
    "    key = obs_date[5:-1]\n",
    "    # replace the dots with dashes\n",
    "    key = key.replace('.', '-')\n",
    "    if files:\n",
    "        image_links[key] = files\n",
    "    # if the list is empty, add a None value to the dictionary\n",
    "    else:\n",
    "        image_links[key] = 'File not found'"
   ]
  },
  {
   "cell_type": "code",
   "execution_count": 109,
   "metadata": {},
   "outputs": [],
   "source": [
    "# write a function that plays the mp4 file in the url\n",
    "def play_mp4(url):\n",
    "    return Video(url, width=720, height=480)"
   ]
  },
  {
   "cell_type": "code",
   "execution_count": 119,
   "metadata": {},
   "outputs": [],
   "source": [
    "# define a function called video that takes a date string and prints an enumerated list of the video files for that date from the video_links dictionary\n",
    "def video(date_string):\n",
    "    # if the date is in the dictionary, print the list of video files\n",
    "    if date_string in video_links:\n",
    "        for i, video_link in enumerate(video_links[date_string]):\n",
    "            print(f'{i:02d}: {video_link}')\n",
    "    # if the date is not in the dictionary, print a message\n",
    "    else:\n",
    "        print('No video files found')\n",
    "    return None"
   ]
  },
  {
   "cell_type": "code",
   "execution_count": 116,
   "metadata": {},
   "outputs": [
    {
     "name": "stdout",
     "output_type": "stream",
     "text": [
      "01: 2020-09-18\n",
      "02: 2020-09-19\n",
      "03: 2020-09-20\n",
      "04: 2020-09-27\n",
      "05: 2020-09-28\n",
      "06: 2020-09-29\n"
     ]
    }
   ],
   "source": [
    "find_obs_dates('2020-09-')"
   ]
  },
  {
   "cell_type": "code",
   "execution_count": 120,
   "metadata": {},
   "outputs": [
    {
     "name": "stdout",
     "output_type": "stream",
     "text": [
      "00: http://tsih3.uio.no/lapalma/2020/2020-09-29//./nb_6173_2020-09-29T08:56:47_scans=0-74_stokes_corrected_im_-80_stokesV.mp4\n",
      "01: http://tsih3.uio.no/lapalma/2020/2020-09-29//./nb_6563_2020-09-29T08:56:47_scans=0-74_corrected_im_+0.mp4\n",
      "02: http://tsih3.uio.no/lapalma/2020/2020-09-29//./nb_6563_2020-09-29T08:56:47_scans=0-74_corrected_im_+1000.mp4\n",
      "03: http://tsih3.uio.no/lapalma/2020/2020-09-29//./nb_6563_2020-09-29T08:56:47_scans=0-74_corrected_im_-1000.mp4\n",
      "04: http://tsih3.uio.no/lapalma/2020/2020-09-29//./nb_8542_2020-09-29T08:56:47_scans=0-74_stokes_corrected_im_0_stokesI.mp4\n",
      "05: http://tsih3.uio.no/lapalma/2020/2020-09-29//./wb_6563_2020-09-29T08:56:47_scans=0-74_corrected_im.mp4\n",
      "06: http://tsih3.uio.no/lapalma/2020/2020-09-29//./Chromis-N_quick_2020-09-29_08:40:38_3969_3969_+0.mov\n",
      "07: http://tsih3.uio.no/lapalma/2020/2020-09-29//./Chromis-N_quick_2020-09-29_08:40:38_3969_3969_+1560.mov\n",
      "08: http://tsih3.uio.no/lapalma/2020/2020-09-29//./Chromis-N_quick_2020-09-29_08:56:47_3969_3969_+0.mov\n",
      "09: http://tsih3.uio.no/lapalma/2020/2020-09-29//./Chromis-N_quick_2020-09-29_08:56:47_3969_3969_+1560.mov\n",
      "10: http://tsih3.uio.no/lapalma/2020/2020-09-29//./Chromis-N_quick_2020-09-29_09:55:47_3969_3969_+0.mov\n",
      "11: http://tsih3.uio.no/lapalma/2020/2020-09-29//./Chromis-N_quick_2020-09-29_09:55:47_3969_3969_+1560.mov\n",
      "12: http://tsih3.uio.no/lapalma/2020/2020-09-29//./Chromis-N_quick_2020-09-29_09:58:47_3969_3969_+0.mov\n",
      "13: http://tsih3.uio.no/lapalma/2020/2020-09-29//./Chromis-N_quick_2020-09-29_09:58:47_3969_3969_+1560.mov\n",
      "14: http://tsih3.uio.no/lapalma/2020/2020-09-29//Crisp-T_quick_2020-09-29_084038.mov\n",
      "15: http://tsih3.uio.no/lapalma/2020/2020-09-29//Crisp-T_quick_2020-09-29_085647.mov\n",
      "16: http://tsih3.uio.no/lapalma/2020/2020-09-29//Crisp-T_quick_2020-09-29_095622.mov\n"
     ]
    }
   ],
   "source": [
    "video('2020-09-29')"
   ]
  },
  {
   "cell_type": "code",
   "execution_count": 121,
   "metadata": {},
   "outputs": [
    {
     "data": {
      "text/html": [
       "<video src=\"http://tsih3.uio.no/lapalma/2020/2020-09-29//./nb_6563_2020-09-29T08:56:47_scans=0-74_corrected_im_+0.mp4\" controls  width=\"720\"  height=\"480\">\n",
       "      Your browser does not support the <code>video</code> element.\n",
       "    </video>"
      ],
      "text/plain": [
       "<IPython.core.display.Video object>"
      ]
     },
     "execution_count": 121,
     "metadata": {},
     "output_type": "execute_result"
    }
   ],
   "source": [
    "play_mp4(video_links['2020-09-29'][1])"
   ]
  },
  {
   "cell_type": "code",
   "execution_count": null,
   "metadata": {},
   "outputs": [],
   "source": []
  }
 ],
 "metadata": {
  "kernelspec": {
   "display_name": "base",
   "language": "python",
   "name": "python3"
  },
  "language_info": {
   "codemirror_mode": {
    "name": "ipython",
    "version": 3
   },
   "file_extension": ".py",
   "mimetype": "text/x-python",
   "name": "python",
   "nbconvert_exporter": "python",
   "pygments_lexer": "ipython3",
   "version": "3.9.15"
  },
  "orig_nbformat": 4,
  "vscode": {
   "interpreter": {
    "hash": "5db7a3eee5c04f92c1a50807aa1b8c8ac7813ad473bcaa80a5b5d38354be480b"
   }
  }
 },
 "nbformat": 4,
 "nbformat_minor": 2
}
