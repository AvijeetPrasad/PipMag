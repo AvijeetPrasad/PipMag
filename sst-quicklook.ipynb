{
 "cells": [
  {
   "cell_type": "code",
   "execution_count": 1,
   "metadata": {},
   "outputs": [],
   "source": [
    "# import libraries related to querying links and downloading files from the web\n",
    "import requests\n",
    "import urllib.request\n",
    "import time\n",
    "from bs4 import BeautifulSoup\n",
    "import os\n",
    "import glob\n",
    "import shutil\n",
    "import zipfile\n",
    "import pandas as pd\n",
    "import numpy as np\n",
    "import matplotlib.pyplot as plt\n",
    "from IPython.display import Video"
   ]
  },
  {
   "cell_type": "code",
   "execution_count": 36,
   "metadata": {},
   "outputs": [
    {
     "name": "stdout",
     "output_type": "stream",
     "text": [
      "['2013/', '2014/', '2015/', '2016/', '2017/', '2018/', '2019/', '2020/', '2021/', '2022/']\n"
     ]
    }
   ],
   "source": [
    "lapalma_url = 'http://tsih3.uio.no/lapalma/'\n",
    "# recursively get all the subdirectories in the parent url directory\n",
    "r = requests.get(lapalma_url)\n",
    "soup = BeautifulSoup(r.text, 'html.parser')\n",
    "obs_years = [a['href'] for a in soup.find_all('a', href=True) if a['href'].endswith('/')]\n",
    "# choose the subdirs of the of form 20?? and ignore the rest\n",
    "obs_years = [s for s in obs_years if s.startswith('20')]\n",
    "print(obs_years)"
   ]
  },
  {
   "cell_type": "code",
   "execution_count": 38,
   "metadata": {},
   "outputs": [
    {
     "name": "stdout",
     "output_type": "stream",
     "text": [
      "first: 2013/2013-06-30/, last: 2022/2022.09.08/, total: 111\n"
     ]
    }
   ],
   "source": [
    "# recursively get all the subdirectories in the bs_years list\n",
    "obs_dates = []\n",
    "for subdir in obs_years:\n",
    "    r = requests.get(lapalma_url + subdir)\n",
    "    soup = BeautifulSoup(r.text, 'html.parser')\n",
    "    obs_dates.extend([subdir + a['href'] for a in soup.find_all('a', href=True) if a['href'].endswith('/')])\n",
    "# select the directories that are of the form 20??/20??-??-??/ and ignore the rest\n",
    "obs_dates = [s for s in obs_dates if s.startswith('20') and s.count('/') == 2]\n",
    "# print the first, last and total number of directories\n",
    "print(f'first: {obs_dates[0]}, last: {obs_dates[-1]}, total: {len(obs_dates)}')"
   ]
  },
  {
   "cell_type": "code",
   "execution_count": 39,
   "metadata": {},
   "outputs": [],
   "source": [
    "# for every date in the list obs_dates, write a function that get the links to mp4 files in that url\n",
    "def get_mp4_links(url):\n",
    "    r = requests.get(url)\n",
    "    soup = BeautifulSoup(r.text, 'html.parser')\n",
    "    return [url + a['href'] for a in soup.find_all('a', href=True) if a['href'].endswith('.mp4')]\n",
    "# run the get_mp4_links function for every date in the list obs_dates\n",
    "mp4_links = [get_mp4_links(lapalma_url + date) for date in obs_dates]"
   ]
  },
  {
   "cell_type": "code",
   "execution_count": 50,
   "metadata": {},
   "outputs": [],
   "source": [
    "# write a function that plays the mp4 file in the url\n",
    "def play_mp4(url):\n",
    "    return Video(url, width=720, height=480)"
   ]
  },
  {
   "cell_type": "code",
   "execution_count": 51,
   "metadata": {},
   "outputs": [
    {
     "data": {
      "text/html": [
       "<video src=\"http://tsih3.uio.no/lapalma/2013/2013-06-30/halpha_SDO_8pan_2013-06-30_091550.mp4\" controls  width=\"720\"  height=\"480\">\n",
       "      Your browser does not support the <code>video</code> element.\n",
       "    </video>"
      ],
      "text/plain": [
       "<IPython.core.display.Video object>"
      ]
     },
     "execution_count": 51,
     "metadata": {},
     "output_type": "execute_result"
    }
   ],
   "source": [
    "play_mp4(mp4_links[0][0])"
   ]
  }
 ],
 "metadata": {
  "kernelspec": {
   "display_name": "base",
   "language": "python",
   "name": "python3"
  },
  "language_info": {
   "codemirror_mode": {
    "name": "ipython",
    "version": 3
   },
   "file_extension": ".py",
   "mimetype": "text/x-python",
   "name": "python",
   "nbconvert_exporter": "python",
   "pygments_lexer": "ipython3",
   "version": "3.8.13"
  },
  "orig_nbformat": 4,
  "vscode": {
   "interpreter": {
    "hash": "299ac256f347ce469e22f80e5166284b65d1536be9469b7aad5fa661ff9749bd"
   }
  }
 },
 "nbformat": 4,
 "nbformat_minor": 2
}
