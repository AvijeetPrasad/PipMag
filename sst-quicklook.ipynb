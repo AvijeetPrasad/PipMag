{
 "cells": [
  {
   "cell_type": "code",
   "execution_count": 148,
   "metadata": {},
   "outputs": [],
   "source": [
    "# import libraries related to querying links and downloading files from the web\n",
    "import requests\n",
    "import urllib.request\n",
    "from bs4 import BeautifulSoup\n",
    "import os\n",
    "from IPython.display import Video\n",
    "from tqdm import tqdm\n",
    "import IPython\n",
    "from IPython.display import display\n",
    "import ipywidgets as widgets\n",
    "import numpy as np\n",
    "import csv\n"
   ]
  },
  {
   "cell_type": "code",
   "execution_count": 116,
   "metadata": {},
   "outputs": [
    {
     "name": "stdout",
     "output_type": "stream",
     "text": [
      "2013\n",
      "2014\n",
      "2015\n",
      "2016\n",
      "2017\n",
      "2018\n",
      "2019\n",
      "2020\n",
      "2021\n",
      "2022\n"
     ]
    }
   ],
   "source": [
    "lapalma_url = 'http://tsih3.uio.no/lapalma/'\n",
    "# recursively get all the subdirectories in the parent url directory\n",
    "r = requests.get(lapalma_url)\n",
    "soup = BeautifulSoup(r.text, 'html.parser')\n",
    "obs_years = [a['href'] for a in soup.find_all('a', href=True) if a['href'].endswith('/')]\n",
    "# choose the subdirs that are of the form 20?? and ignore the rest\n",
    "obs_years = [s for s in obs_years if s.startswith('20')]\n",
    "# print the observation years withouth the trailing slash\n",
    "for year in obs_years:\n",
    "    print(year[:-1])"
   ]
  },
  {
   "cell_type": "code",
   "execution_count": 117,
   "metadata": {},
   "outputs": [
    {
     "name": "stdout",
     "output_type": "stream",
     "text": [
      "first: 2013/2013-06-30, last: 2022/2022.09.08, total: 111\n"
     ]
    }
   ],
   "source": [
    "# recursively get all the subdirectories in the bs_years list\n",
    "obs_dates = []\n",
    "for subdir in obs_years:\n",
    "    r = requests.get(lapalma_url + subdir)\n",
    "    soup = BeautifulSoup(r.text, 'html.parser')\n",
    "    obs_dates.extend([subdir + a['href'] for a in soup.find_all('a', href=True) if a['href'].endswith('/')])\n",
    "# select the directories that are of the form 20??/20??-??-??/ and ignore the rest\n",
    "obs_dates = [s for s in obs_dates if s.startswith('20') and s.count('/') == 2]\n",
    "# print the first, last and total number of directories\n",
    "print(f'first: {obs_dates[0][:-1]}, last: {obs_dates[-1][:-1]}, total: {len(obs_dates)}')"
   ]
  },
  {
   "cell_type": "code",
   "execution_count": 118,
   "metadata": {},
   "outputs": [],
   "source": [
    "# define a function to print all the observing dates for a given year in the obs_dates list\n",
    "def print_obs_dates(year):\n",
    "    obs_dates_year = [s for s in obs_dates if s.startswith(year)]\n",
    "    print(f'first: {obs_dates_year[0][:-1]}, last: {obs_dates_year[-1][:-1]}, total: {len(obs_dates_year)}')\n",
    "    # remove the trailing slash and the year in the front, and return the list in the form 20??-??-??\n",
    "    obs_dates_year = [s[5:-1] for s in obs_dates_year]\n",
    "    formatted_obs_dates_year = []\n",
    "    # print an enumerated list of the observing dates\n",
    "    for i, obs_date in enumerate(obs_dates_year):\n",
    "        # obs_date = [s.replace('.', '-') for s in obs_date.split('/')]\n",
    "        # print i with 2 digits and the observing date\n",
    "        print(f'{i+1:02d}: {obs_date}')\n",
    "        formatted_obs_dates_year.append(obs_date)\n",
    "    return None"
   ]
  },
  {
   "cell_type": "code",
   "execution_count": 119,
   "metadata": {},
   "outputs": [],
   "source": [
    "# define a function that takes a partial string and returns all the strings that match it from the obs_dates list\n",
    "def find_obs_dates(partial_string):\n",
    "    obs_dates_partial = [s for s in obs_dates if partial_string in s]\n",
    "    # remove the trailing slash and the year in the front, and return the list in the form 20??-??-??\n",
    "    obs_dates_partial = [s[5:-1] for s in obs_dates_partial]\n",
    "    formatted_obs_dates_partial = []\n",
    "    # print an enumerated list of the observing dates\n",
    "    for i, obs_date in enumerate(obs_dates_partial):\n",
    "        # print i with 2 digits and the observing date\n",
    "        print(f'{i+1:02d}: {obs_date}')\n",
    "        formatted_obs_dates_partial.append(obs_date)\n",
    "    # if no match is found, print a message\n",
    "    if len(obs_dates_partial) == 0:\n",
    "        print('No observation dates found')\n",
    "    return None"
   ]
  },
  {
   "cell_type": "code",
   "execution_count": 120,
   "metadata": {},
   "outputs": [
    {
     "name": "stdout",
     "output_type": "stream",
     "text": [
      "No observation dates found\n"
     ]
    }
   ],
   "source": [
    "find_obs_dates('2020-04-')"
   ]
  },
  {
   "cell_type": "code",
   "execution_count": 121,
   "metadata": {},
   "outputs": [],
   "source": [
    "# write a function that takes obs_dates as input a returns a list of dates in the format 20??-??-??\n",
    "def get_obs_dates(obs_dates):\n",
    "    # remove the trailing slash and the year in the front, and return the list in the form 20??-??-??\n",
    "    obs_dates = [s[5:-1] for s in obs_dates]\n",
    "    # if the sepatator is not a dash, replace it with a dash\n",
    "    obs_dates = [s.replace('.', '-') for s in obs_dates]\n",
    "    return obs_dates"
   ]
  },
  {
   "cell_type": "code",
   "execution_count": 122,
   "metadata": {},
   "outputs": [],
   "source": [
    "obs_dates_list = get_obs_dates(obs_dates)"
   ]
  },
  {
   "cell_type": "code",
   "execution_count": 123,
   "metadata": {},
   "outputs": [
    {
     "data": {
      "text/plain": [
       "'2022-09-08'"
      ]
     },
     "execution_count": 123,
     "metadata": {},
     "output_type": "execute_result"
    }
   ],
   "source": [
    "obs_dates_list[110]"
   ]
  },
  {
   "cell_type": "code",
   "execution_count": 124,
   "metadata": {},
   "outputs": [
    {
     "data": {
      "text/plain": [
       "'2022/2022.09.08/'"
      ]
     },
     "execution_count": 124,
     "metadata": {},
     "output_type": "execute_result"
    }
   ],
   "source": [
    "obs_dates[110]"
   ]
  },
  {
   "cell_type": "code",
   "execution_count": 125,
   "metadata": {},
   "outputs": [],
   "source": [
    "# define a function that takes a url and a file extension as input and returns a list of files with the given extension, if the files are not founds it searches the subdirectories\n",
    "def get_files(url, file_extension):\n",
    "    # get the list of files with the given extension\n",
    "    r = requests.get(url)\n",
    "    soup = BeautifulSoup(r.text, 'html.parser')\n",
    "    files = [url + a['href'] for a in soup.find_all('a', href=True) if a['href'].endswith(file_extension)]\n",
    "    # if the list is empty, recursively search the subdirectories\n",
    "    if not files:\n",
    "        r = requests.get(url)\n",
    "        soup = BeautifulSoup(r.text, 'html.parser')\n",
    "        subdirs = [url + a['href'] for a in soup.find_all('a', href=True) if a['href'].endswith('/')]\n",
    "        for subdir in subdirs:\n",
    "            files.extend(get_files(subdir, file_extension))\n",
    "    return files"
   ]
  },
  {
   "cell_type": "code",
   "execution_count": 126,
   "metadata": {},
   "outputs": [
    {
     "data": {
      "text/plain": [
       "111"
      ]
     },
     "execution_count": 126,
     "metadata": {},
     "output_type": "execute_result"
    }
   ],
   "source": [
    "len(obs_dates_list)"
   ]
  },
  {
   "cell_type": "code",
   "execution_count": 127,
   "metadata": {},
   "outputs": [
    {
     "name": "stderr",
     "output_type": "stream",
     "text": [
      "100%|██████████| 111/111 [00:12<00:00,  9.13it/s]"
     ]
    },
    {
     "name": "stdout",
     "output_type": "stream",
     "text": [
      "video_links.csv loaded.\n"
     ]
    },
    {
     "name": "stderr",
     "output_type": "stream",
     "text": [
      "\n"
     ]
    }
   ],
   "source": [
    "# for the obs_dates list, get the list of files with either .mp4 or .mov extension and save it as a dictionary wih the key being the observing date if the files are not founds then add a None value to the dictionary\n",
    "file_video_links = 'video_links.csv'\n",
    "\n",
    "if os.path.isfile(file_video_links) is False:\n",
    "    video_links = {}\n",
    "    i = 0\n",
    "    for obs_date in tqdm(obs_dates):\n",
    "        # get the list of files with either .mp4 or .mov extension\n",
    "        files = get_files(lapalma_url + obs_date + '/', '.mp4') + get_files(lapalma_url + obs_date + '/', '.mov')\n",
    "        # if the list is not empty, save it as a dictionary wih the key being the observing date\n",
    "        key = obs_date[5:-1]\n",
    "        # replace the dots with dashes\n",
    "        key = key.replace('.', '-')\n",
    "        if files:\n",
    "            video_links[key] = files\n",
    "        # if the list is empty, add a None value to the dictionary\n",
    "        else:\n",
    "            video_links[key] = 'File not found'\n",
    "\n",
    "        # save the image_links in a csv file:\n",
    "        w = csv.writer(open(file_video_links, \"w\"))\n",
    "        for key, val in image_links.items():\n",
    "            w.writerow([key, val])\n",
    "\n",
    "else:\n",
    "    # load the image_links in a csv file:\n",
    "    reader = csv.reader(open(file_image_links, 'r'))\n",
    "    image_links = {}\n",
    "    for row in reader:\n",
    "        k, v = row\n",
    "        image_links[k] = v\n",
    "    print(file_video_links+' loaded.')"
   ]
  },
  {
   "cell_type": "code",
   "execution_count": 128,
   "metadata": {},
   "outputs": [
    {
     "name": "stdout",
     "output_type": "stream",
     "text": [
      "image_links.csv loaded.\n"
     ]
    }
   ],
   "source": [
    "file_image_links = 'image_links.csv'\n",
    "\n",
    "if os.path.isfile(file_image_links) is False:\n",
    "    image_links = {}\n",
    "    i = 0 \n",
    "    for obs_date in tqdm(obs_dates):\n",
    "        # get the list of files with either .mp4 or .mov extension\n",
    "        files = get_files(lapalma_url + obs_date + '/', '.jpg')\n",
    "        # if the list is not empty, save it as a dictionary wih the key being the observing date\n",
    "        key = obs_date[5:-1]\n",
    "        # replace the dots with dashes\n",
    "        key = key.replace('.', '-')\n",
    "        if files:\n",
    "            image_links[key] = files\n",
    "        # if the list is empty, add a None value to the dictionary\n",
    "        else:\n",
    "            image_links[key] = 'File not found'\n",
    "            \n",
    "    # save the image_links in a csv file:\n",
    "    w = csv.writer(open(file_image_links, \"w\"))\n",
    "    for key, val in image_links.items():\n",
    "        w.writerow([key, val])\n",
    "\n",
    "else:\n",
    "    # load the image_links in a csv file:\n",
    "    reader = csv.reader(open(file_image_links, 'r'))\n",
    "    image_links = {}\n",
    "    for row in reader:\n",
    "        k, v = row\n",
    "        image_links[k] = v\n",
    "    print(file_image_links+' loaded.')\n"
   ]
  },
  {
   "cell_type": "code",
   "execution_count": 129,
   "metadata": {},
   "outputs": [],
   "source": [
    "# write a function that plays the mp4 file in the url\n",
    "def play_mp4(url):\n",
    "    return Video(url, width=720, height=480)"
   ]
  },
  {
   "cell_type": "code",
   "execution_count": 130,
   "metadata": {},
   "outputs": [],
   "source": [
    "# define a function called video that takes a date string and prints an enumerated list of the video files for that date from the video_links dictionary\n",
    "def video(date_string):\n",
    "    # if the date is in the dictionary, print the list of video files\n",
    "    if date_string in video_links:\n",
    "        for i, video_link in enumerate(video_links[date_string]):\n",
    "            print(f'{i:02d}: {video_link}')\n",
    "    # if the date is not in the dictionary, print a message\n",
    "    else:\n",
    "        print('No video files found')\n",
    "    return None"
   ]
  },
  {
   "cell_type": "code",
   "execution_count": 131,
   "metadata": {},
   "outputs": [
    {
     "name": "stdout",
     "output_type": "stream",
     "text": [
      "01: 2015-09-05\n",
      "02: 2015-09-09\n"
     ]
    }
   ],
   "source": [
    "# find_obs_dates('2020-09-')\n",
    "find_obs_dates('2015-09-0')"
   ]
  },
  {
   "cell_type": "code",
   "execution_count": 132,
   "metadata": {},
   "outputs": [
    {
     "name": "stdout",
     "output_type": "stream",
     "text": [
      "00: http://tsih3.uio.no/lapalma/2015/2015-09-09//Bz+Bh_09Sep2015.mp4\n",
      "01: http://tsih3.uio.no/lapalma/2015/2015-09-09//Bz+Bh_09Sep2015_B250G.mp4\n",
      "02: http://tsih3.uio.no/lapalma/2015/2015-09-09//hacore+blos+sji2796_3pan_2015-09-09_075958.mp4\n"
     ]
    }
   ],
   "source": [
    "# video('2020-09-29')\n",
    "video('2015-09-09')"
   ]
  },
  {
   "cell_type": "code",
   "execution_count": 133,
   "metadata": {},
   "outputs": [
    {
     "data": {
      "text/html": [
       "<video src=\"http://tsih3.uio.no/lapalma/2015/2015-09-09//Bz+Bh_09Sep2015_B250G.mp4\" controls  width=\"720\"  height=\"480\">\n",
       "      Your browser does not support the <code>video</code> element.\n",
       "    </video>"
      ],
      "text/plain": [
       "<IPython.core.display.Video object>"
      ]
     },
     "execution_count": 133,
     "metadata": {},
     "output_type": "execute_result"
    }
   ],
   "source": [
    "# play_mp4(video_links['2020-09-29'][4])\n",
    "play_mp4(video_links['2015-09-09'][1])"
   ]
  },
  {
   "attachments": {},
   "cell_type": "markdown",
   "metadata": {},
   "source": [
    "# Creating the database"
   ]
  },
  {
   "cell_type": "code",
   "execution_count": 134,
   "metadata": {},
   "outputs": [],
   "source": [
    "import pandas as pd\n",
    "\n",
    "raw_data = {\n",
    "    'ID': ['2015-09-09 01'],\n",
    "    'date': ['2015-09-09'],\n",
    "    'url': ['2015-09-09'],\n",
    "    'Target': ['Sunspot'],\n",
    "    'Polarimetry': [False],\n",
    "    'Instruments':['CRISP+CHROMIS'],\n",
    "    'Photosphere': [False],\n",
    "    'Chromosphere': [True],\n",
    "    'Flux balance': [42],\n",
    "    'Dynamism': ['Quiet'],\n",
    "    }\n",
    "\n",
    "df = pd.DataFrame(raw_data)\n",
    "# Do not use print but display from IPython\n",
    "# print(df)"
   ]
  },
  {
   "cell_type": "code",
   "execution_count": null,
   "metadata": {},
   "outputs": [],
   "source": [
    "# Read https://ipywidgets.readthedocs.io/en/8.0.2/examples/Widget%20List.html for more information."
   ]
  },
  {
   "cell_type": "code",
   "execution_count": 135,
   "metadata": {},
   "outputs": [
    {
     "data": {
      "text/html": [
       "<div>\n",
       "<style scoped>\n",
       "    .dataframe tbody tr th:only-of-type {\n",
       "        vertical-align: middle;\n",
       "    }\n",
       "\n",
       "    .dataframe tbody tr th {\n",
       "        vertical-align: top;\n",
       "    }\n",
       "\n",
       "    .dataframe thead th {\n",
       "        text-align: right;\n",
       "    }\n",
       "</style>\n",
       "<table border=\"1\" class=\"dataframe\">\n",
       "  <thead>\n",
       "    <tr style=\"text-align: right;\">\n",
       "      <th></th>\n",
       "      <th>ID</th>\n",
       "      <th>date</th>\n",
       "      <th>url</th>\n",
       "      <th>Target</th>\n",
       "    </tr>\n",
       "  </thead>\n",
       "  <tbody>\n",
       "    <tr>\n",
       "      <th>0</th>\n",
       "      <td>2013-06-30_0</td>\n",
       "      <td>2013-06-30</td>\n",
       "      <td>http://tsih3.uio.no/lapalma/2013/2013-06-30//halpha_SDO_8pan_2013-06-30_091550.mp4</td>\n",
       "      <td></td>\n",
       "    </tr>\n",
       "    <tr>\n",
       "      <th>1</th>\n",
       "      <td>2013-06-30_1</td>\n",
       "      <td>2013-06-30</td>\n",
       "      <td>http://tsih3.uio.no/lapalma/2013/2013-06-30//halpha_scan_30Jun2013_giant_tornado.mp4</td>\n",
       "      <td></td>\n",
       "    </tr>\n",
       "    <tr>\n",
       "      <th>2</th>\n",
       "      <td>2013-06-30_2</td>\n",
       "      <td>2013-06-30</td>\n",
       "      <td>http://tsih3.uio.no/lapalma/2013/2013-06-30//wb6563_30Jun2013_ff_framesel_1s.mp4</td>\n",
       "      <td></td>\n",
       "    </tr>\n",
       "    <tr>\n",
       "      <th>3</th>\n",
       "      <td>2013-06-30_3</td>\n",
       "      <td>2013-06-30</td>\n",
       "      <td>http://tsih3.uio.no/lapalma/2013/2013-06-30//./wb_6563_2013-06-30T09:15:50_scans=0-2133_histoopt.mp4</td>\n",
       "      <td></td>\n",
       "    </tr>\n",
       "    <tr>\n",
       "      <th>4</th>\n",
       "      <td>2013-06-30_4</td>\n",
       "      <td>2013-06-30</td>\n",
       "      <td>http://tsih3.uio.no/lapalma/2013/2013-06-30//./wb_6563_2013-06-30T09:15:50_scans=0-2133_minmax.mp4</td>\n",
       "      <td></td>\n",
       "    </tr>\n",
       "    <tr>\n",
       "      <th>...</th>\n",
       "      <td>...</td>\n",
       "      <td>...</td>\n",
       "      <td>...</td>\n",
       "      <td>...</td>\n",
       "    </tr>\n",
       "    <tr>\n",
       "      <th>3911</th>\n",
       "      <td>2022-09-08_10</td>\n",
       "      <td>2022-09-08</td>\n",
       "      <td>http://tsih3.uio.no/lapalma/2022/2022.09.08//./08:40:11/./Chromis-N_quick_2022-09-08_08:40:11.mov</td>\n",
       "      <td></td>\n",
       "    </tr>\n",
       "    <tr>\n",
       "      <th>3912</th>\n",
       "      <td>2022-09-08_11</td>\n",
       "      <td>2022-09-08</td>\n",
       "      <td>http://tsih3.uio.no/lapalma/2022/2022.09.08//./08:40:11/./Chromis-N_quick_2022-09-08_08:40:11_3934_3934_+0.mov</td>\n",
       "      <td></td>\n",
       "    </tr>\n",
       "    <tr>\n",
       "      <th>3913</th>\n",
       "      <td>2022-09-08_12</td>\n",
       "      <td>2022-09-08</td>\n",
       "      <td>http://tsih3.uio.no/lapalma/2022/2022.09.08//./08:40:11/./Chromis-N_quick_2022-09-08_08:40:11_3934_3934_+657.mov</td>\n",
       "      <td></td>\n",
       "    </tr>\n",
       "    <tr>\n",
       "      <th>3914</th>\n",
       "      <td>2022-09-08_13</td>\n",
       "      <td>2022-09-08</td>\n",
       "      <td>http://tsih3.uio.no/lapalma/2022/2022.09.08//./08:40:11/./Chromis-N_quick_2022-09-08_08:40:11_3934_3934_-657.mov</td>\n",
       "      <td></td>\n",
       "    </tr>\n",
       "    <tr>\n",
       "      <th>3915</th>\n",
       "      <td>2022-09-08_14</td>\n",
       "      <td>2022-09-08</td>\n",
       "      <td>http://tsih3.uio.no/lapalma/2022/2022.09.08//./08:40:11/./Chromis-N_quick_2022-09-08_08:40:11_3999_4000_+1249.mov</td>\n",
       "      <td></td>\n",
       "    </tr>\n",
       "  </tbody>\n",
       "</table>\n",
       "<p>3916 rows × 4 columns</p>\n",
       "</div>"
      ],
      "text/plain": [
       "                 ID        date  \\\n",
       "0      2013-06-30_0  2013-06-30   \n",
       "1      2013-06-30_1  2013-06-30   \n",
       "2      2013-06-30_2  2013-06-30   \n",
       "3      2013-06-30_3  2013-06-30   \n",
       "4      2013-06-30_4  2013-06-30   \n",
       "...             ...         ...   \n",
       "3911  2022-09-08_10  2022-09-08   \n",
       "3912  2022-09-08_11  2022-09-08   \n",
       "3913  2022-09-08_12  2022-09-08   \n",
       "3914  2022-09-08_13  2022-09-08   \n",
       "3915  2022-09-08_14  2022-09-08   \n",
       "\n",
       "                                                                                                                    url  \\\n",
       "0                                    http://tsih3.uio.no/lapalma/2013/2013-06-30//halpha_SDO_8pan_2013-06-30_091550.mp4   \n",
       "1                                  http://tsih3.uio.no/lapalma/2013/2013-06-30//halpha_scan_30Jun2013_giant_tornado.mp4   \n",
       "2                                      http://tsih3.uio.no/lapalma/2013/2013-06-30//wb6563_30Jun2013_ff_framesel_1s.mp4   \n",
       "3                  http://tsih3.uio.no/lapalma/2013/2013-06-30//./wb_6563_2013-06-30T09:15:50_scans=0-2133_histoopt.mp4   \n",
       "4                    http://tsih3.uio.no/lapalma/2013/2013-06-30//./wb_6563_2013-06-30T09:15:50_scans=0-2133_minmax.mp4   \n",
       "...                                                                                                                 ...   \n",
       "3911                  http://tsih3.uio.no/lapalma/2022/2022.09.08//./08:40:11/./Chromis-N_quick_2022-09-08_08:40:11.mov   \n",
       "3912     http://tsih3.uio.no/lapalma/2022/2022.09.08//./08:40:11/./Chromis-N_quick_2022-09-08_08:40:11_3934_3934_+0.mov   \n",
       "3913   http://tsih3.uio.no/lapalma/2022/2022.09.08//./08:40:11/./Chromis-N_quick_2022-09-08_08:40:11_3934_3934_+657.mov   \n",
       "3914   http://tsih3.uio.no/lapalma/2022/2022.09.08//./08:40:11/./Chromis-N_quick_2022-09-08_08:40:11_3934_3934_-657.mov   \n",
       "3915  http://tsih3.uio.no/lapalma/2022/2022.09.08//./08:40:11/./Chromis-N_quick_2022-09-08_08:40:11_3999_4000_+1249.mov   \n",
       "\n",
       "     Target  \n",
       "0            \n",
       "1            \n",
       "2            \n",
       "3            \n",
       "4            \n",
       "...     ...  \n",
       "3911         \n",
       "3912         \n",
       "3913         \n",
       "3914         \n",
       "3915         \n",
       "\n",
       "[3916 rows x 4 columns]"
      ]
     },
     "metadata": {},
     "output_type": "display_data"
    }
   ],
   "source": [
    "# Create a pandas-table of all the movies in the database:\n",
    "video_dates = list(video_links.keys())\n",
    "ids = []; dates = []; urls = [];\n",
    "for days in range(len(video_dates)):\n",
    "    # Every id is the date and the video of that day\n",
    "    for movie in range(len(video_links[video_dates[days]])):\n",
    "        ids.append(video_dates[days]+'_'+str(movie))\n",
    "        dates.append(video_dates[days])\n",
    "        urls.append(video_links[video_dates[days]][movie])\n",
    "\n",
    "# Creating the container for the database:    \n",
    "from_links = {\n",
    "    'ID': ids,\n",
    "    'date': dates,\n",
    "    'url': urls,\n",
    "    'Target': np.empty_like(dates),\n",
    "    }\n",
    "db_from_links = pd.DataFrame(from_links)\n",
    "\n",
    "# Display the database:\n",
    "display(db_from_links)"
   ]
  },
  {
   "cell_type": "code",
   "execution_count": 151,
   "metadata": {},
   "outputs": [
    {
     "data": {
      "application/vnd.jupyter.widget-view+json": {
       "model_id": "a7375bba38b7432f809d408568cd2022",
       "version_major": 2,
       "version_minor": 0
      },
      "text/plain": [
       "Dropdown(description='Dates:', index=108, options=('2013-06-30', '2013-09-01', '2014-09-09', '2014-09-15', '20…"
      ]
     },
     "metadata": {},
     "output_type": "display_data"
    }
   ],
   "source": [
    "video_dates_widget = widgets.Dropdown(options=video_dates, value=video_dates[-1], description='Dates:', disabled=False)\n",
    "display(video_dates_widget)"
   ]
  },
  {
   "cell_type": "code",
   "execution_count": 152,
   "metadata": {},
   "outputs": [
    {
     "data": {
      "text/html": [
       "<div>\n",
       "<style scoped>\n",
       "    .dataframe tbody tr th:only-of-type {\n",
       "        vertical-align: middle;\n",
       "    }\n",
       "\n",
       "    .dataframe tbody tr th {\n",
       "        vertical-align: top;\n",
       "    }\n",
       "\n",
       "    .dataframe thead th {\n",
       "        text-align: right;\n",
       "    }\n",
       "</style>\n",
       "<table border=\"1\" class=\"dataframe\">\n",
       "  <thead>\n",
       "    <tr style=\"text-align: right;\">\n",
       "      <th></th>\n",
       "      <th>ID</th>\n",
       "      <th>date</th>\n",
       "      <th>url</th>\n",
       "      <th>Target</th>\n",
       "    </tr>\n",
       "  </thead>\n",
       "  <tbody>\n",
       "    <tr>\n",
       "      <th>3665</th>\n",
       "      <td>2022-09-17_0</td>\n",
       "      <td>2022-09-17</td>\n",
       "      <td>http://tsih3.uio.no/lapalma/2022/2022-09-17//halpha+blos+AIA+HMI_6pan_2022.09.17_102405.mp4</td>\n",
       "      <td></td>\n",
       "    </tr>\n",
       "    <tr>\n",
       "      <th>3666</th>\n",
       "      <td>2022-09-17_1</td>\n",
       "      <td>2022-09-17</td>\n",
       "      <td>http://tsih3.uio.no/lapalma/2022/2022-09-17//halpha+blos+AIA_6pan_2022.09.17_102405.mp4</td>\n",
       "      <td></td>\n",
       "    </tr>\n",
       "    <tr>\n",
       "      <th>3667</th>\n",
       "      <td>2022-09-17_2</td>\n",
       "      <td>2022-09-17</td>\n",
       "      <td>http://tsih3.uio.no/lapalma/2022/2022-09-17//halpha+blos_3pan_2022.09.17_102405.mp4</td>\n",
       "      <td></td>\n",
       "    </tr>\n",
       "    <tr>\n",
       "      <th>3668</th>\n",
       "      <td>2022-09-17_3</td>\n",
       "      <td>2022-09-17</td>\n",
       "      <td>http://tsih3.uio.no/lapalma/2022/2022-09-17//halpha+blos_3pan_2022.09.17_125133.mp4</td>\n",
       "      <td></td>\n",
       "    </tr>\n",
       "    <tr>\n",
       "      <th>3669</th>\n",
       "      <td>2022-09-17_4</td>\n",
       "      <td>2022-09-17</td>\n",
       "      <td>http://tsih3.uio.no/lapalma/2022/2022-09-17//halpha_3pan_2022-09-17_102405.mp4</td>\n",
       "      <td></td>\n",
       "    </tr>\n",
       "    <tr>\n",
       "      <th>...</th>\n",
       "      <td>...</td>\n",
       "      <td>...</td>\n",
       "      <td>...</td>\n",
       "      <td>...</td>\n",
       "    </tr>\n",
       "    <tr>\n",
       "      <th>3764</th>\n",
       "      <td>2022-09-17_99</td>\n",
       "      <td>2022-09-17</td>\n",
       "      <td>http://tsih3.uio.no/lapalma/2022/2022-09-17//./14:34:13/./Chromis-N_quick_2022-09-17_14:34:13_3969_3969_+0.mov</td>\n",
       "      <td></td>\n",
       "    </tr>\n",
       "    <tr>\n",
       "      <th>3765</th>\n",
       "      <td>2022-09-17_100</td>\n",
       "      <td>2022-09-17</td>\n",
       "      <td>http://tsih3.uio.no/lapalma/2022/2022-09-17//./14:34:13/./Crisp-R_quick_2022-09-17_14:34:13.mov</td>\n",
       "      <td></td>\n",
       "    </tr>\n",
       "    <tr>\n",
       "      <th>3766</th>\n",
       "      <td>2022-09-17_101</td>\n",
       "      <td>2022-09-17</td>\n",
       "      <td>http://tsih3.uio.no/lapalma/2022/2022-09-17//./14:34:13/./Crisp-R_quick_2022-09-17_14:34:13_6563_6563_+0.mov</td>\n",
       "      <td></td>\n",
       "    </tr>\n",
       "    <tr>\n",
       "      <th>3767</th>\n",
       "      <td>2022-09-17_102</td>\n",
       "      <td>2022-09-17</td>\n",
       "      <td>http://tsih3.uio.no/lapalma/2022/2022-09-17//./14:34:13/./Crisp-R_quick_2022-09-17_14:34:13_6563_6563_+800.mov</td>\n",
       "      <td></td>\n",
       "    </tr>\n",
       "    <tr>\n",
       "      <th>3768</th>\n",
       "      <td>2022-09-17_103</td>\n",
       "      <td>2022-09-17</td>\n",
       "      <td>http://tsih3.uio.no/lapalma/2022/2022-09-17//./14:34:13/./Crisp-R_quick_2022-09-17_14:34:13_6563_6563_-800.mov</td>\n",
       "      <td></td>\n",
       "    </tr>\n",
       "  </tbody>\n",
       "</table>\n",
       "<p>104 rows × 4 columns</p>\n",
       "</div>"
      ],
      "text/plain": [
       "                  ID        date  \\\n",
       "3665    2022-09-17_0  2022-09-17   \n",
       "3666    2022-09-17_1  2022-09-17   \n",
       "3667    2022-09-17_2  2022-09-17   \n",
       "3668    2022-09-17_3  2022-09-17   \n",
       "3669    2022-09-17_4  2022-09-17   \n",
       "...              ...         ...   \n",
       "3764   2022-09-17_99  2022-09-17   \n",
       "3765  2022-09-17_100  2022-09-17   \n",
       "3766  2022-09-17_101  2022-09-17   \n",
       "3767  2022-09-17_102  2022-09-17   \n",
       "3768  2022-09-17_103  2022-09-17   \n",
       "\n",
       "                                                                                                                 url  \\\n",
       "3665                     http://tsih3.uio.no/lapalma/2022/2022-09-17//halpha+blos+AIA+HMI_6pan_2022.09.17_102405.mp4   \n",
       "3666                         http://tsih3.uio.no/lapalma/2022/2022-09-17//halpha+blos+AIA_6pan_2022.09.17_102405.mp4   \n",
       "3667                             http://tsih3.uio.no/lapalma/2022/2022-09-17//halpha+blos_3pan_2022.09.17_102405.mp4   \n",
       "3668                             http://tsih3.uio.no/lapalma/2022/2022-09-17//halpha+blos_3pan_2022.09.17_125133.mp4   \n",
       "3669                                  http://tsih3.uio.no/lapalma/2022/2022-09-17//halpha_3pan_2022-09-17_102405.mp4   \n",
       "...                                                                                                              ...   \n",
       "3764  http://tsih3.uio.no/lapalma/2022/2022-09-17//./14:34:13/./Chromis-N_quick_2022-09-17_14:34:13_3969_3969_+0.mov   \n",
       "3765                 http://tsih3.uio.no/lapalma/2022/2022-09-17//./14:34:13/./Crisp-R_quick_2022-09-17_14:34:13.mov   \n",
       "3766    http://tsih3.uio.no/lapalma/2022/2022-09-17//./14:34:13/./Crisp-R_quick_2022-09-17_14:34:13_6563_6563_+0.mov   \n",
       "3767  http://tsih3.uio.no/lapalma/2022/2022-09-17//./14:34:13/./Crisp-R_quick_2022-09-17_14:34:13_6563_6563_+800.mov   \n",
       "3768  http://tsih3.uio.no/lapalma/2022/2022-09-17//./14:34:13/./Crisp-R_quick_2022-09-17_14:34:13_6563_6563_-800.mov   \n",
       "\n",
       "     Target  \n",
       "3665         \n",
       "3666         \n",
       "3667         \n",
       "3668         \n",
       "3669         \n",
       "...     ...  \n",
       "3764         \n",
       "3765         \n",
       "3766         \n",
       "3767         \n",
       "3768         \n",
       "\n",
       "[104 rows x 4 columns]"
      ]
     },
     "metadata": {},
     "output_type": "display_data"
    }
   ],
   "source": [
    "# Display all the things for a given day:\n",
    "display(db_from_links[db_from_links['date']==video_dates_widget.value])"
   ]
  },
  {
   "cell_type": "code",
   "execution_count": 138,
   "metadata": {},
   "outputs": [],
   "source": [
    "df.to_csv('raw_data.csv', index=False)"
   ]
  },
  {
   "cell_type": "code",
   "execution_count": null,
   "metadata": {},
   "outputs": [],
   "source": []
  }
 ],
 "metadata": {
  "kernelspec": {
   "display_name": "pykdb",
   "language": "python",
   "name": "python3"
  },
  "language_info": {
   "codemirror_mode": {
    "name": "ipython",
    "version": 3
   },
   "file_extension": ".py",
   "mimetype": "text/x-python",
   "name": "python",
   "nbconvert_exporter": "python",
   "pygments_lexer": "ipython3",
   "version": "3.10.8"
  },
  "orig_nbformat": 4,
  "vscode": {
   "interpreter": {
    "hash": "6c8567001ca5a0a7e6099826caabffa3b011ec79102511fb94826b99891f6c65"
   }
  }
 },
 "nbformat": 4,
 "nbformat_minor": 2
}
