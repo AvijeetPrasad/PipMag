{
 "cells": [
  {
   "cell_type": "code",
   "execution_count": 1,
   "metadata": {},
   "outputs": [],
   "source": [
    "# import libraries related to querying links and downloading files from the web\n",
    "import os\n",
    "from IPython.display import Video\n",
    "from tqdm import tqdm\n",
    "import importlib\n",
    "from IPython.display import display\n",
    "import ipywidgets as widgets\n",
    "import numpy as np\n",
    "import csv\n",
    "import pandas as pd\n",
    "from datetime import datetime\n",
    "import re\n",
    "import pipmag as pm"
   ]
  },
  {
   "cell_type": "code",
   "execution_count": 2,
   "metadata": {},
   "outputs": [
    {
     "name": "stdout",
     "output_type": "stream",
     "text": [
      "Imported updated pipmag.py\n"
     ]
    }
   ],
   "source": [
    "# reload the pipmag module to make sure that the latest version is used\n",
    "importlib.reload(pm)\n",
    "print('Imported updated pipmag.py')"
   ]
  },
  {
   "cell_type": "code",
   "execution_count": 3,
   "metadata": {},
   "outputs": [],
   "source": [
    "# Print the years for which the La Palma Observatory has data at UiO\n",
    "obs_years = pm.get_obs_years()"
   ]
  },
  {
   "cell_type": "code",
   "execution_count": 4,
   "metadata": {},
   "outputs": [
    {
     "name": "stdout",
     "output_type": "stream",
     "text": [
      "first entry: 2021-06-23\n",
      "last entry : 2015-10-11\n",
      "total observing dates: 109\n"
     ]
    }
   ],
   "source": [
    "# Get the observing dates for all the years\n",
    "obs_dates = pm.get_obs_dates(obs_years)\n",
    "obs_dates_list = pm.get_obs_dates_list(obs_dates)\n",
    "# print the first, last and total number of observing dates\n",
    "print(f'first entry: {obs_dates_list[0]}\\nlast entry : {obs_dates_list[-1]}\\ntotal observing dates: {len(obs_dates_list)}')"
   ]
  },
  {
   "cell_type": "code",
   "execution_count": 5,
   "metadata": {},
   "outputs": [
    {
     "name": "stdout",
     "output_type": "stream",
     "text": [
      "loaded all_media_links.pkl successfully\n",
      "total number of media links: 6861\n"
     ]
    }
   ],
   "source": [
    "# check if all_media_links.pkl exists then load the pickle file, otherwise get the links\n",
    "if not os.path.isfile('all_media_links.pkl'):\n",
    "    video_links = pm.get_video_liks(obs_dates) # get the video links, one for each observing date\n",
    "    image_links = pm.get_image_links(obs_dates) # get the image links, one for each observing date\n",
    "    all_image_links = pm.get_all_links(image_links) # get all the image links, one for each image\n",
    "    all_video_links = pm.get_all_links(video_links) # get all the video links, one for each video\n",
    "    # print the number of video and image links and all the video and image links \n",
    "    print(f'number of video links: {len(all_video_links)}\\nnumber of image links: {len(all_image_links)}')\n",
    "    print(f'video links: {len(all_video_links)}\\nimage links: {len(all_image_links)}')\n",
    "    all_media_links = all_image_links + all_video_links # combine the image and video links\n",
    "    all_media_links = sorted(all_media_links) #sort the list of links\n",
    "    # print the total number of media links\n",
    "    print(f'total number of media links: {len(all_media_links)}')\n",
    "    # save all the media links as a pickle file\n",
    "    pm.save_pickle(all_media_links, 'all_media_links.pkl')\n",
    "else:\n",
    "    # load the pickle file\n",
    "    all_media_links = pm.load_pickle('all_media_links.pkl')\n",
    "    print(f'total number of media links: {len(all_media_links)}')"
   ]
  },
  {
   "cell_type": "code",
   "execution_count": 6,
   "metadata": {},
   "outputs": [
    {
     "name": "stdout",
     "output_type": "stream",
     "text": [
      "number of links with date and time: 6817\n",
      "number of links without date and time: 44\n",
      "All dates in date_time_list are valid\n"
     ]
    }
   ],
   "source": [
    "# get the date and time from the links and find the links that do not have date and time and save them as a list\n",
    "date_time_from_all_media_links, date_time_not_found = pm.get_date_time_from_link_list(all_media_links)\n",
    "# remove all the links that do not have a date and time from all_media_links\n",
    "all_media_links_with_date_time = [link for link in all_media_links if link not in date_time_not_found]\n",
    "# print the number of links that contain date and time and the number of links that do not contain date and time\n",
    "print(f'number of links with date and time: {len(all_media_links_with_date_time)}\\nnumber of links without date and time: {len(date_time_not_found)}')\n",
    "invalid_date = pm.get_invalid_dates(date_time_from_all_media_links)"
   ]
  },
  {
   "cell_type": "code",
   "execution_count": 7,
   "metadata": {},
   "outputs": [],
   "source": [
    "# remove the entries from date_time_from_all_media_links that are not in the correct format\n",
    "# date_time_from_all_media_links = [date for date in date_time_from_all_media_links if date not in invalid_dates]"
   ]
  },
  {
   "cell_type": "code",
   "execution_count": 8,
   "metadata": {},
   "outputs": [],
   "source": [
    "# convert the date and time to datetime format\n",
    "date_time_from_all_media_links_datetime = pm.convert_to_datetime(date_time_from_all_media_links)"
   ]
  },
  {
   "cell_type": "code",
   "execution_count": 9,
   "metadata": {},
   "outputs": [
    {
     "name": "stdout",
     "output_type": "stream",
     "text": [
      "number of unique date_time_from_all_media_links_datetime values: 749\n"
     ]
    }
   ],
   "source": [
    "# get the unique date_time_from_all_media_links_datetime  values\n",
    "unique_date_time_from_all_media_links_datetime = list(set(date_time_from_all_media_links_datetime))\n",
    "# print the number of unique date_time_from_all_media_links_datetime values\n",
    "print(f'number of unique date_time_from_all_media_links_datetime values: {len(unique_date_time_from_all_media_links_datetime)}')"
   ]
  },
  {
   "cell_type": "code",
   "execution_count": 19,
   "metadata": {},
   "outputs": [
    {
     "name": "stdout",
     "output_type": "stream",
     "text": [
      "first entry: 2013-06-30 09:15:50\n",
      "last entry : 2022-09-08 08:40:11\n",
      "total entries: 6817\n"
     ]
    }
   ],
   "source": [
    "# create a dataframe with the date_time_from_all_media_links_datetime as the index and the all_media_links as the column\n",
    "df = pd.DataFrame(all_media_links_with_date_time, index=date_time_from_all_media_links_datetime, columns=['links'])\n",
    "#print first, last and total number of entries in the dataframe\n",
    "print(f'first entry: {df.index[0]}\\nlast entry : {df.index[-1]}\\ntotal entries: {len(df.index)}')"
   ]
  },
  {
   "cell_type": "code",
   "execution_count": 20,
   "metadata": {},
   "outputs": [
    {
     "name": "stdout",
     "output_type": "stream",
     "text": [
      "first entry: 2013-06-30 09:15:50\n",
      "last entry : 2022-09-17 14:34:13\n",
      "total entries: 749\n"
     ]
    }
   ],
   "source": [
    "# group the dataframe by the time index and combine the links into a list\n",
    "df = df.groupby(df.index).agg({'links': lambda x: list(x)})\n",
    "# print the first, last and total number of entries in the dataframe\n",
    "print(f'first entry: {df.index[0]}\\nlast entry : {df.index[-1]}\\ntotal entries: {len(df.index)}')"
   ]
  },
  {
   "cell_type": "code",
   "execution_count": 21,
   "metadata": {},
   "outputs": [
    {
     "name": "stdout",
     "output_type": "stream",
     "text": [
      "<class 'pandas.core.frame.DataFrame'>\n",
      "Int64Index: 749 entries, 1 to 749\n",
      "Data columns (total 11 columns):\n",
      " #   Column       Non-Null Count  Dtype         \n",
      "---  ------       --------------  -----         \n",
      " 0   date_time    749 non-null    datetime64[ns]\n",
      " 1   year         749 non-null    int64         \n",
      " 2   month        749 non-null    int64         \n",
      " 3   day          749 non-null    int64         \n",
      " 4   time         749 non-null    object        \n",
      " 5   instruments  534 non-null    object        \n",
      " 6   target       0 non-null      object        \n",
      " 7   video_links  749 non-null    object        \n",
      " 8   image_links  749 non-null    object        \n",
      " 9   links        749 non-null    object        \n",
      " 10  num_links    749 non-null    int64         \n",
      "dtypes: datetime64[ns](1), int64(4), object(6)\n",
      "memory usage: 70.2+ KB\n"
     ]
    }
   ],
   "source": [
    "# add a column called 'obs_id' and set it equal to the row number of the dataframe\n",
    "# add the 'id' column\n",
    "df['obs_id'] = range(1, len(df) + 1)\n",
    "# set the index as 'obs_id' and add a column for the date and time\n",
    "df['date_time'] = df.index\n",
    "df = df.set_index('obs_id')\n",
    "# add a column for the number of links in each row\n",
    "df['num_links'] = df['links'].apply(lambda x: len(x))\n",
    "# add columns for the year, month and day to the dataframe\n",
    "df['year'] = df['date_time'].apply(lambda x: x.year)\n",
    "df['month'] = df['date_time'].apply(lambda x: x.month)\n",
    "df['day'] = df['date_time'].apply(lambda x: x.day)\n",
    "# add a column for the time of day\n",
    "df['time'] = df['date_time'].apply(lambda x: x.time())\n",
    "# add a column called 'target' and set it equal to None\n",
    "df['target'] = None\n",
    "instrument_keywords={'CRISP': ['wb_6563','ha','Crisp-R'],'CROMIS':['Chromis'],'IRIS':['sji']}\n",
    "# apply the get_instrument_info function to the 'links' column of the dataframe and add the result to a new column called 'instruments'\n",
    "df['instruments'] = df['links'].apply(lambda x: pm.get_instrument_info(x, instrument_keywords))\n",
    "# apply the get_links_with_string function to the 'links' column of the dataframe with the strings 'mp4' and 'mov' and add the result to a new column called 'video_links'\n",
    "df['video_links'] = df['links'].apply(lambda x: pm.get_links_with_string(x, ['mp4','mov']))\n",
    "# apply the get_links_with_string function to the 'links' column of the dataframe with the strings 'jpg' and 'png' and add the result to a new column called 'image_links'\n",
    "df['image_links'] = df['links'].apply(lambda x: pm.get_links_with_string(x, ['jpg','png']))\n",
    "#pm.get_links_with_string(df.iloc[0]['links'], ['mp4','mov'])\n",
    "# make the columns date-time, year, month, day, time, instruments, target, video_links, image_links, links, num_links\n",
    "df = df[['date_time', 'year', 'month', 'day', 'time', 'instruments', 'target', 'video_links', 'image_links', 'links', 'num_links']]\n",
    "# print a summary of the dataframe\n",
    "df.info()\n",
    "# save the dataframe as a pickle file\n",
    "df.to_pickle('la_palma_obs_data.pkl')"
   ]
  },
  {
   "cell_type": "code",
   "execution_count": 22,
   "metadata": {},
   "outputs": [
    {
     "name": "stdout",
     "output_type": "stream",
     "text": [
      "<class 'pandas.core.frame.DataFrame'>\n",
      "Int64Index: 749 entries, 1 to 749\n",
      "Data columns (total 11 columns):\n",
      " #   Column       Non-Null Count  Dtype         \n",
      "---  ------       --------------  -----         \n",
      " 0   date_time    749 non-null    datetime64[ns]\n",
      " 1   year         749 non-null    int64         \n",
      " 2   month        749 non-null    int64         \n",
      " 3   day          749 non-null    int64         \n",
      " 4   time         749 non-null    object        \n",
      " 5   instruments  534 non-null    object        \n",
      " 6   target       0 non-null      object        \n",
      " 7   video_links  749 non-null    object        \n",
      " 8   image_links  749 non-null    object        \n",
      " 9   links        749 non-null    object        \n",
      " 10  num_links    749 non-null    int64         \n",
      "dtypes: datetime64[ns](1), int64(4), object(6)\n",
      "memory usage: 70.2+ KB\n"
     ]
    }
   ],
   "source": [
    "df = pd.read_pickle('la_palma_obs_data.pkl')\n",
    "df.info()"
   ]
  },
  {
   "cell_type": "code",
   "execution_count": 48,
   "metadata": {},
   "outputs": [],
   "source": [
    "#import interact \n",
    "from ipywidgets import interact\n",
    "import pandas as pd\n",
    "import ipywidgets as widgets\n",
    "from IPython.display import display, clear_output"
   ]
  },
  {
   "cell_type": "code",
   "execution_count": 99,
   "metadata": {},
   "outputs": [
    {
     "data": {
      "text/plain": [
       "Timestamp('2013-06-30 09:15:50')"
      ]
     },
     "execution_count": 99,
     "metadata": {},
     "output_type": "execute_result"
    }
   ],
   "source": [
    "df.iloc[0]['date_time']"
   ]
  },
  {
   "cell_type": "code",
   "execution_count": 103,
   "metadata": {},
   "outputs": [
    {
     "data": {
      "text/plain": [
       "['http://tsih3.uio.no/lapalma/2013/2013-06-30//./wb_6563_2013-06-30T09:15:50_scans=0-2133_minmax.mp4']"
      ]
     },
     "execution_count": 103,
     "metadata": {},
     "output_type": "execute_result"
    }
   ],
   "source": [
    "df[df['date_time'] == df.iloc[0]['date_time']]['video_links'].values[0]"
   ]
  },
  {
   "cell_type": "code",
   "execution_count": 105,
   "metadata": {},
   "outputs": [
    {
     "name": "stdout",
     "output_type": "stream",
     "text": [
      "http://tsih3.uio.no/lapalma/2013/2013-06-30//./wb_6563_2013-06-30T09:15:50_scans=0-2133_histoopt.mp4\n",
      "http://tsih3.uio.no/lapalma/2013/2013-06-30//./wb_6563_2013-06-30T09:15:50_scans=0-2133_minmax.mp4\n",
      "http://tsih3.uio.no/lapalma/2013/2013-06-30//halpha_SDO_8pan_2013-06-30_091550.mp4\n"
     ]
    }
   ],
   "source": [
    "# print all the video links for a given date_time\n",
    "def print_video_links(date_time):\n",
    "    # get the video links for the given date_time\n",
    "    video_links = df[df['date_time'] == date_time]['links'].values[0]\n",
    "    # print the video links\n",
    "    for link in video_links:\n",
    "        print(link)\n",
    "print_video_links(df.iloc[0]['date_time'])"
   ]
  },
  {
   "cell_type": "code",
   "execution_count": null,
   "metadata": {},
   "outputs": [],
   "source": [
    "\n",
    "def get_links(date_time):\n",
    "    return df[df['date_time'] == date_time]['video_links'].values[0]\n",
    "\n",
    "# function that takes a list of movie links and displays them\n",
    "def display_movies(links):\n",
    "    for link in links:\n",
    "        display(widgets.HTML('<video width=\"720\" height=\"640\" controls><source src=\"{}\" type=\"video/mp4\"></video>'.format(link)))\n",
    "        print(120*'=')\n",
    "        \n",
    "def print_links(links):\n",
    "    for link in links:\n",
    "        print(link)\n",
    "    print(120*'=')\n",
    "# Create a dropdown widget for the date_time column\n",
    "date_time_dropdown = widgets.Dropdown(options=df['date_time'], description='Date Time:')\n",
    "\n",
    "# Create an output widget to display the selected links\n",
    "output = widgets.Output()\n",
    "\n",
    "# Create a function that updates the output widget when the dropdown value changes\n",
    "def dropdown_value_changed(change):\n",
    "    with output:\n",
    "        clear_output()\n",
    "        links = get_links(change.new)\n",
    "        for link in links:\n",
    "            display(Video(link))\n",
    "        #display_movies(links)\n",
    "        #print_links(links)\n",
    "\n",
    "# Register the function to be called when the dropdown value changes\n",
    "date_time_dropdown.observe(dropdown_value_changed, names='value')\n",
    "\n",
    "# Display the dropdown widget and the output widget\n",
    "display(date_time_dropdown)\n",
    "display(output)\n"
   ]
  },
  {
   "cell_type": "code",
   "execution_count": 167,
   "metadata": {},
   "outputs": [
    {
     "data": {
      "application/vnd.jupyter.widget-view+json": {
       "model_id": "45f0294a08a04bccab5d7ac2153b4a61",
       "version_major": 2,
       "version_minor": 0
      },
      "text/plain": [
       "Dropdown(description='Date Time:', options=(Timestamp('2013-06-30 09:15:50'), Timestamp('2014-09-09 08:13:40')…"
      ]
     },
     "metadata": {},
     "output_type": "display_data"
    },
    {
     "data": {
      "application/vnd.jupyter.widget-view+json": {
       "model_id": "3d4940fb53d44f2bab1ee00f0a8e5ade",
       "version_major": 2,
       "version_minor": 0
      },
      "text/plain": [
       "Dropdown(description='Movie Links:', options=(), value=None)"
      ]
     },
     "metadata": {},
     "output_type": "display_data"
    },
    {
     "data": {
      "application/vnd.jupyter.widget-view+json": {
       "model_id": "c56e1e19555645cba64f2255cbd246e0",
       "version_major": 2,
       "version_minor": 0
      },
      "text/plain": [
       "Button(description='Show', style=ButtonStyle())"
      ]
     },
     "metadata": {},
     "output_type": "display_data"
    },
    {
     "data": {
      "application/vnd.jupyter.widget-view+json": {
       "model_id": "390a6f3aa9e147ecaa6754f9f5223a00",
       "version_major": 2,
       "version_minor": 0
      },
      "text/plain": [
       "Output()"
      ]
     },
     "metadata": {},
     "output_type": "display_data"
    }
   ],
   "source": [
    "def get_links(date_time):\n",
    "    return df[df['date_time'] == date_time]['video_links'].values[0]\n",
    "        \n",
    "# Create a dropdown widget for the date_time column\n",
    "date_time_dropdown = widgets.Dropdown(options=df['date_time'], description='Date Time:')\n",
    "\n",
    "# Create a dropdown widget for the movie links column\n",
    "links_dropdown = widgets.Dropdown(options=[], description='Movie Links:')\n",
    "\n",
    "# Create a variable to store the selected link\n",
    "selected_link = ''\n",
    "\n",
    "# Create an output widget to display the selected link\n",
    "output = widgets.Output()\n",
    "\n",
    "# Function to update the links dropdown based on the selected date_time\n",
    "def update_links(change):\n",
    "    date_time = change.new\n",
    "    links = get_links(date_time)\n",
    "    links_dropdown.options = links\n",
    "\n",
    "# Function to update the selected link when the links dropdown value changes\n",
    "def links_value_changed(change):\n",
    "    global selected_link\n",
    "    selected_link = change.new\n",
    "\n",
    "# Register the function to be called when the date_time dropdown value changes\n",
    "date_time_dropdown.observe(update_links, names='value')\n",
    "\n",
    "# Register the function to be called when the links dropdown value changes\n",
    "links_dropdown.observe(links_value_changed, names='value')\n",
    "\n",
    "# Display the dropdown widgets and the output widget\n",
    "display(date_time_dropdown)\n",
    "display(links_dropdown)\n",
    "\n",
    "def display_selected_link_button(b):\n",
    "    with output:\n",
    "        clear_output()\n",
    "        #display_selected_link(selected_link)\n",
    "        display(Video(selected_link))\n",
    "\n",
    "display_button = widgets.Button(description='Show')\n",
    "display_button.on_click(display_selected_link_button)\n",
    "display(display_button)\n",
    "display(output)\n"
   ]
  },
  {
   "cell_type": "code",
   "execution_count": 209,
   "metadata": {},
   "outputs": [
    {
     "name": "stdout",
     "output_type": "stream",
     "text": [
      "<class 'pandas.core.frame.DataFrame'>\n",
      "Int64Index: 6817 entries, 1 to 6817\n",
      "Data columns (total 12 columns):\n",
      " #   Column       Non-Null Count  Dtype         \n",
      "---  ------       --------------  -----         \n",
      " 0   date_time    6817 non-null   datetime64[ns]\n",
      " 1   links        6817 non-null   object        \n",
      " 2   num_links    6817 non-null   int64         \n",
      " 3   instruments  0 non-null      object        \n",
      " 4   video_links  6817 non-null   object        \n",
      " 5   image_links  6817 non-null   object        \n",
      " 6   target       0 non-null      object        \n",
      " 7   year         6817 non-null   int64         \n",
      " 8   month        6817 non-null   int64         \n",
      " 9   day          6817 non-null   int64         \n",
      " 10  time         6817 non-null   object        \n",
      " 11  link_name    6817 non-null   object        \n",
      "dtypes: datetime64[ns](1), int64(4), object(7)\n",
      "memory usage: 692.4+ KB\n"
     ]
    }
   ],
   "source": [
    "df.info()"
   ]
  },
  {
   "cell_type": "code",
   "execution_count": 186,
   "metadata": {},
   "outputs": [
    {
     "data": {
      "application/vnd.jupyter.widget-view+json": {
       "model_id": "94273b27524d468c8c8af486a1687ad4",
       "version_major": 2,
       "version_minor": 0
      },
      "text/plain": [
       "Dropdown(description='Year:', options=(2013, 2014, 2015, 2016, 2017, 2018, 2019, 2020, 2021, 2022), value=2013…"
      ]
     },
     "metadata": {},
     "output_type": "display_data"
    },
    {
     "data": {
      "application/vnd.jupyter.widget-view+json": {
       "model_id": "3b2a14fb40d040ad9ada506f0df1b1a9",
       "version_major": 2,
       "version_minor": 0
      },
      "text/plain": [
       "Dropdown(description='Month:', options=(), value=None)"
      ]
     },
     "metadata": {},
     "output_type": "display_data"
    },
    {
     "data": {
      "application/vnd.jupyter.widget-view+json": {
       "model_id": "2e8b4972f6ae45b2b61e6979607ec715",
       "version_major": 2,
       "version_minor": 0
      },
      "text/plain": [
       "Dropdown(description='Day:', options=(), value=None)"
      ]
     },
     "metadata": {},
     "output_type": "display_data"
    },
    {
     "data": {
      "application/vnd.jupyter.widget-view+json": {
       "model_id": "117aea0357064740b71082db532d3ad7",
       "version_major": 2,
       "version_minor": 0
      },
      "text/plain": [
       "Dropdown(description='Time:', options=(), value=None)"
      ]
     },
     "metadata": {},
     "output_type": "display_data"
    },
    {
     "data": {
      "application/vnd.jupyter.widget-view+json": {
       "model_id": "a9014b3845ba40a9bf973e367168d923",
       "version_major": 2,
       "version_minor": 0
      },
      "text/plain": [
       "Dropdown(description='Links:', options=(), value=None)"
      ]
     },
     "metadata": {},
     "output_type": "display_data"
    },
    {
     "data": {
      "application/vnd.jupyter.widget-view+json": {
       "model_id": "006ec2d065b64fb0a9591fcce34982a3",
       "version_major": 2,
       "version_minor": 0
      },
      "text/plain": [
       "Button(description='Show', style=ButtonStyle())"
      ]
     },
     "metadata": {},
     "output_type": "display_data"
    },
    {
     "data": {
      "application/vnd.jupyter.widget-view+json": {
       "model_id": "a0fffea1b117445299a1d1b5204727ea",
       "version_major": 2,
       "version_minor": 0
      },
      "text/plain": [
       "Output()"
      ]
     },
     "metadata": {},
     "output_type": "display_data"
    }
   ],
   "source": [
    "# Create a dropdown widget for the year column\n",
    "year_dropdown = widgets.Dropdown(options=df['year'].unique(), description='Year:')\n",
    "\n",
    "# Create a dropdown widget for the month column\n",
    "month_dropdown = widgets.Dropdown(options=[], description='Month:')\n",
    "\n",
    "# Create a dropdown widget for the day column\n",
    "day_dropdown = widgets.Dropdown(options=[], description='Day:')\n",
    "\n",
    "# Create a dropdown widget for the time column\n",
    "time_dropdown = widgets.Dropdown(options=[], description='Time:')\n",
    "\n",
    "# Create a dropdown widget for the links column\n",
    "links_dropdown = widgets.Dropdown(options=[], description='Links:')\n",
    "\n",
    "# Create a variable to store the selected link\n",
    "selected_link = ''\n",
    "\n",
    "# Create a variable to store the selected link for display\n",
    "selected_link_for_display = ''\n",
    "\n",
    "# Create an output widget to display the selected link\n",
    "output = widgets.Output()\n",
    "\n",
    "# Function to update the month dropdown based on the selected year\n",
    "def update_months(change):\n",
    "    year = change.new\n",
    "    months = df[df['year'] == year]['month'].unique()\n",
    "    month_dropdown.options = months\n",
    "\n",
    "# Function to update the day dropdown based on the selected month and year\n",
    "def update_days(change):\n",
    "    year = year_dropdown.value\n",
    "    month = change.new\n",
    "    days = df[(df['year'] == year) & (df['month'] == month)]['day'].unique()\n",
    "    day_dropdown.options = days\n",
    "\n",
    "# Function to update the time dropdown based on the selected day, month, and year\n",
    "def update_time(change):\n",
    "    year = year_dropdown.value\n",
    "    month = month_dropdown.value\n",
    "    day = change.new\n",
    "    time = df[(df['year'] == year) & (df['month'] == month) & (df['day'] == day)]['time'].unique()\n",
    "    time_dropdown.options = time\n",
    "\n",
    "# Function to update the links dropdown based on the selected time\n",
    "def update_links(change):\n",
    "    time = change.new\n",
    "    links = list(df[df['time'] == time]['links'].values[0])\n",
    "    links_dropdown.options = links\n",
    "\n",
    "# Function to update the selected link when the links dropdown value changes\n",
    "def links_value_changed(change):\n",
    "    global selected_link\n",
    "    global selected_link_for_display\n",
    "    selected_link = change.new\n",
    "    selected_link_for_display = selected_link\n",
    "\n",
    "# Function to display the selected link when the display button is pressed\n",
    "def display_selected_link(b):\n",
    "    with output:\n",
    "        clear_output()\n",
    "        display(Video(selected_link_for_display, html_attributes='controls autoplay loop'))\n",
    "\n",
    "# Register the functions to be called when the year, month, and day dropdown values change\n",
    "year_dropdown.observe(update_months, names='value')\n",
    "month_dropdown.observe(update_days, names='value')\n",
    "day_dropdown.observe(update_time, names='value')\n",
    "\n",
    "# Register the function to be called when the time dropdown value changes\n",
    "time_dropdown.observe(update_links, names='value')\n",
    "\n",
    "# Register the function to be called when the links dropdown value changes\n",
    "links_dropdown.observe(links_value_changed, names='value')\n",
    "\n",
    "#Create a button widget to display the selected link\n",
    "display_button = widgets.Button(description='Show')\n",
    "display_button.on_click(display_selected_link)\n",
    "\n",
    "#Display the dropdown widgets, the button, and the output widget\n",
    "display(year_dropdown)\n",
    "display(month_dropdown)\n",
    "display(day_dropdown)\n",
    "display(time_dropdown)\n",
    "display(links_dropdown)\n",
    "display(display_button)\n",
    "display(output)\n"
   ]
  },
  {
   "cell_type": "code",
   "execution_count": 158,
   "metadata": {},
   "outputs": [],
   "source": [
    "url1=df.loc[1]['video_links'][0]\n",
    "# write a function that plays the mp4 file in the url\n",
    "def play_mp4(url):\n",
    "    return Video(url, width=720, height=480)"
   ]
  },
  {
   "cell_type": "code",
   "execution_count": 159,
   "metadata": {},
   "outputs": [
    {
     "data": {
      "text/html": [
       "<video src=\"http://tsih3.uio.no/lapalma/2013/2013-06-30//./wb_6563_2013-06-30T09:15:50_scans=0-2133_histoopt.mp4\" controls  width=\"720\"  height=\"480\">\n",
       "      Your browser does not support the <code>video</code> element.\n",
       "    </video>"
      ],
      "text/plain": [
       "<IPython.core.display.Video object>"
      ]
     },
     "execution_count": 159,
     "metadata": {},
     "output_type": "execute_result"
    }
   ],
   "source": [
    "play_mp4(url1)"
   ]
  },
  {
   "cell_type": "code",
   "execution_count": 79,
   "metadata": {},
   "outputs": [
    {
     "name": "stdout",
     "output_type": "stream",
     "text": [
      "Total number of observations: 749\n"
     ]
    }
   ],
   "source": [
    "# find the total number of observations\n",
    "total_obs = len(df)\n",
    "print(f\"Total number of observations: {total_obs}\")"
   ]
  },
  {
   "cell_type": "code",
   "execution_count": 80,
   "metadata": {},
   "outputs": [
    {
     "name": "stdout",
     "output_type": "stream",
     "text": [
      "Total number of links: 6817\n"
     ]
    }
   ],
   "source": [
    "# find the total number of links for all dates and times\n",
    "total_links = len(all_media_links_with_date_time)\n",
    "print(f\"Total number of links: {total_links}\")"
   ]
  },
  {
   "cell_type": "code",
   "execution_count": 86,
   "metadata": {},
   "outputs": [
    {
     "name": "stdout",
     "output_type": "stream",
     "text": [
      "Maximum number of links for a single observation: 1\n"
     ]
    }
   ],
   "source": [
    "# find the obsid with the most links\n",
    "max_links = df['links'].value_counts().max()\n",
    "print(f\"Maximum number of links for a single observation: {max_links}\")\n"
   ]
  },
  {
   "cell_type": "code",
   "execution_count": 66,
   "metadata": {},
   "outputs": [
    {
     "data": {
      "text/plain": [
       "'http://tsih3.uio.no/lapalma/2014/2014-09-09//ha+ca+sji_6pan_2014-09-09_20140909_075943_3860256865.mp4'"
      ]
     },
     "execution_count": 66,
     "metadata": {},
     "output_type": "execute_result"
    }
   ],
   "source": [
    "df.iloc[3]['links']"
   ]
  },
  {
   "cell_type": "code",
   "execution_count": 32,
   "metadata": {},
   "outputs": [],
   "source": [
    "all_date_time_from_image_list = pm.get_date_time_from_link_list(all_image_links)"
   ]
  },
  {
   "cell_type": "code",
   "execution_count": 33,
   "metadata": {},
   "outputs": [],
   "source": [
    "all_date_time_from_video_list = pm.get_date_time_from_link_list(all_video_links)"
   ]
  },
  {
   "cell_type": "code",
   "execution_count": 34,
   "metadata": {},
   "outputs": [
    {
     "data": {
      "text/plain": [
       "2945"
      ]
     },
     "execution_count": 34,
     "metadata": {},
     "output_type": "execute_result"
    }
   ],
   "source": [
    "len(all_date_time_from_image_list)"
   ]
  },
  {
   "cell_type": "code",
   "execution_count": 35,
   "metadata": {},
   "outputs": [
    {
     "data": {
      "text/plain": [
       "3345"
      ]
     },
     "execution_count": 35,
     "metadata": {},
     "output_type": "execute_result"
    }
   ],
   "source": [
    "len(all_date_time_from_video_list)"
   ]
  },
  {
   "cell_type": "code",
   "execution_count": 36,
   "metadata": {},
   "outputs": [
    {
     "data": {
      "text/plain": [
       "'2018-08-28_13:45:09'"
      ]
     },
     "execution_count": 36,
     "metadata": {},
     "output_type": "execute_result"
    }
   ],
   "source": [
    "all_date_time_from_image_list[0]"
   ]
  },
  {
   "cell_type": "code",
   "execution_count": 37,
   "metadata": {},
   "outputs": [
    {
     "data": {
      "text/plain": [
       "'2013-06-30_09:15:50'"
      ]
     },
     "execution_count": 37,
     "metadata": {},
     "output_type": "execute_result"
    }
   ],
   "source": [
    "all_date_time_from_video_list[0]"
   ]
  },
  {
   "cell_type": "code",
   "execution_count": null,
   "metadata": {},
   "outputs": [],
   "source": [
    "# combine the two lists\n",
    "all_date_time_from_image_list.extend(all_date_time_from_video_list)\n",
    "# sort the list\n",
    "all_date_time_from_image_list.sort()\n",
    "# remove duplicates"
   ]
  },
  {
   "cell_type": "code",
   "execution_count": 293,
   "metadata": {},
   "outputs": [
    {
     "data": {
      "text/html": [
       "<div>\n",
       "<style scoped>\n",
       "    .dataframe tbody tr th:only-of-type {\n",
       "        vertical-align: middle;\n",
       "    }\n",
       "\n",
       "    .dataframe tbody tr th {\n",
       "        vertical-align: top;\n",
       "    }\n",
       "\n",
       "    .dataframe thead th {\n",
       "        text-align: right;\n",
       "    }\n",
       "</style>\n",
       "<table border=\"1\" class=\"dataframe\">\n",
       "  <thead>\n",
       "    <tr style=\"text-align: right;\">\n",
       "      <th></th>\n",
       "      <th>date</th>\n",
       "      <th>time</th>\n",
       "    </tr>\n",
       "    <tr>\n",
       "      <th>datetime</th>\n",
       "      <th></th>\n",
       "      <th></th>\n",
       "    </tr>\n",
       "  </thead>\n",
       "  <tbody>\n",
       "    <tr>\n",
       "      <th>2018-08-28 13:45:09</th>\n",
       "      <td>2018-08-28</td>\n",
       "      <td>13:45:09</td>\n",
       "    </tr>\n",
       "    <tr>\n",
       "      <th>2018-08-28 13:45:09</th>\n",
       "      <td>2018-08-28</td>\n",
       "      <td>13:45:09</td>\n",
       "    </tr>\n",
       "    <tr>\n",
       "      <th>2021-06-22 08:17:48</th>\n",
       "      <td>2021-06-22</td>\n",
       "      <td>08:17:48</td>\n",
       "    </tr>\n",
       "    <tr>\n",
       "      <th>2021-06-23 07:56:27</th>\n",
       "      <td>2021-06-23</td>\n",
       "      <td>07:56:27</td>\n",
       "    </tr>\n",
       "    <tr>\n",
       "      <th>2021-06-23 08:35:52</th>\n",
       "      <td>2021-06-23</td>\n",
       "      <td>08:35:52</td>\n",
       "    </tr>\n",
       "  </tbody>\n",
       "</table>\n",
       "</div>"
      ],
      "text/plain": [
       "                           date      time\n",
       "datetime                                 \n",
       "2018-08-28 13:45:09  2018-08-28  13:45:09\n",
       "2018-08-28 13:45:09  2018-08-28  13:45:09\n",
       "2021-06-22 08:17:48  2021-06-22  08:17:48\n",
       "2021-06-23 07:56:27  2021-06-23  07:56:27\n",
       "2021-06-23 08:35:52  2021-06-23  08:35:52"
      ]
     },
     "execution_count": 293,
     "metadata": {},
     "output_type": "execute_result"
    }
   ],
   "source": [
    "# create a dataframe with the date and time as columns\n",
    "df = pd.DataFrame({'date': all_dates, 'time': all_times})\n",
    "# add a column with the datetime object combining the date and time\n",
    "df['datetime'] = pd.to_datetime(df['date'] + ' ' + df['time'])\n",
    "# sort the dataframe by the datetime column\n",
    "df = df.sort_values(by='datetime')\n",
    "# use datetime as index\n",
    "df = df.set_index('datetime')\n",
    "df.head()"
   ]
  },
  {
   "cell_type": "code",
   "execution_count": 294,
   "metadata": {},
   "outputs": [
    {
     "data": {
      "text/html": [
       "<div>\n",
       "<style scoped>\n",
       "    .dataframe tbody tr th:only-of-type {\n",
       "        vertical-align: middle;\n",
       "    }\n",
       "\n",
       "    .dataframe tbody tr th {\n",
       "        vertical-align: top;\n",
       "    }\n",
       "\n",
       "    .dataframe thead th {\n",
       "        text-align: right;\n",
       "    }\n",
       "</style>\n",
       "<table border=\"1\" class=\"dataframe\">\n",
       "  <thead>\n",
       "    <tr style=\"text-align: right;\">\n",
       "      <th></th>\n",
       "      <th>date</th>\n",
       "      <th>time</th>\n",
       "      <th>image_link</th>\n",
       "    </tr>\n",
       "    <tr>\n",
       "      <th>datetime</th>\n",
       "      <th></th>\n",
       "      <th></th>\n",
       "      <th></th>\n",
       "    </tr>\n",
       "  </thead>\n",
       "  <tbody>\n",
       "    <tr>\n",
       "      <th>2018-08-28 13:45:09</th>\n",
       "      <td>2018-08-28</td>\n",
       "      <td>13:45:09</td>\n",
       "      <td>http://tsih3.uio.no/lapalma/2018/2018-08-28//....</td>\n",
       "    </tr>\n",
       "    <tr>\n",
       "      <th>2018-08-28 13:45:09</th>\n",
       "      <td>2018-08-28</td>\n",
       "      <td>13:45:09</td>\n",
       "      <td>http://tsih3.uio.no/lapalma/2018/2018-08-28//....</td>\n",
       "    </tr>\n",
       "    <tr>\n",
       "      <th>2021-06-22 08:17:48</th>\n",
       "      <td>2021-06-22</td>\n",
       "      <td>08:17:48</td>\n",
       "      <td>http://tsih3.uio.no/lapalma/2021/2021-06-22//....</td>\n",
       "    </tr>\n",
       "    <tr>\n",
       "      <th>2021-06-23 07:56:27</th>\n",
       "      <td>2021-06-23</td>\n",
       "      <td>07:56:27</td>\n",
       "      <td>http://tsih3.uio.no/lapalma/2021/2021-06-23//C...</td>\n",
       "    </tr>\n",
       "    <tr>\n",
       "      <th>2021-06-23 08:35:52</th>\n",
       "      <td>2021-06-23</td>\n",
       "      <td>08:35:52</td>\n",
       "      <td>http://tsih3.uio.no/lapalma/2021/2021-06-23//C...</td>\n",
       "    </tr>\n",
       "  </tbody>\n",
       "</table>\n",
       "</div>"
      ],
      "text/plain": [
       "                           date      time  \\\n",
       "datetime                                    \n",
       "2018-08-28 13:45:09  2018-08-28  13:45:09   \n",
       "2018-08-28 13:45:09  2018-08-28  13:45:09   \n",
       "2021-06-22 08:17:48  2021-06-22  08:17:48   \n",
       "2021-06-23 07:56:27  2021-06-23  07:56:27   \n",
       "2021-06-23 08:35:52  2021-06-23  08:35:52   \n",
       "\n",
       "                                                            image_link  \n",
       "datetime                                                                \n",
       "2018-08-28 13:45:09  http://tsih3.uio.no/lapalma/2018/2018-08-28//....  \n",
       "2018-08-28 13:45:09  http://tsih3.uio.no/lapalma/2018/2018-08-28//....  \n",
       "2021-06-22 08:17:48  http://tsih3.uio.no/lapalma/2021/2021-06-22//....  \n",
       "2021-06-23 07:56:27  http://tsih3.uio.no/lapalma/2021/2021-06-23//C...  \n",
       "2021-06-23 08:35:52  http://tsih3.uio.no/lapalma/2021/2021-06-23//C...  "
      ]
     },
     "execution_count": 294,
     "metadata": {},
     "output_type": "execute_result"
    }
   ],
   "source": [
    "# add image links to the dataframe as a column\n",
    "df['image_link'] = all_image_links\n",
    "df.head()"
   ]
  },
  {
   "cell_type": "code",
   "execution_count": null,
   "metadata": {},
   "outputs": [],
   "source": [
    "# add column called 'instrum"
   ]
  },
  {
   "cell_type": "code",
   "execution_count": 236,
   "metadata": {},
   "outputs": [
    {
     "data": {
      "text/plain": [
       "'http://tsih3.uio.no/lapalma/2021/2021-06-23//Crisp-T_quick_2021-06-23_083552.jpg'"
      ]
     },
     "execution_count": 236,
     "metadata": {},
     "output_type": "execute_result"
    }
   ],
   "source": [
    "all_image_links[4]"
   ]
  },
  {
   "cell_type": "code",
   "execution_count": null,
   "metadata": {},
   "outputs": [],
   "source": []
  },
  {
   "cell_type": "code",
   "execution_count": 189,
   "metadata": {},
   "outputs": [
    {
     "data": {
      "text/plain": [
       "'2018-08-28'"
      ]
     },
     "execution_count": 189,
     "metadata": {},
     "output_type": "execute_result"
    }
   ],
   "source": [
    "# define a regex pattern to capture the observing date from the image link\n",
    "import re\n",
    "pattern = re.compile(r'\\d{4}-\\d{2}-\\d{2}')\n",
    "date_string = pattern.findall(all_image_links[0])[0]\n",
    "date_string"
   ]
  },
  {
   "cell_type": "code",
   "execution_count": 190,
   "metadata": {},
   "outputs": [
    {
     "data": {
      "text/plain": [
       "'13:45:09'"
      ]
     },
     "execution_count": 190,
     "metadata": {},
     "output_type": "execute_result"
    }
   ],
   "source": [
    "# define a regex pattern to capture the observing time from the image link\n",
    "pattern = re.compile(r'\\d{2}:\\d{2}:\\d{2}')\n",
    "time_string = pattern.findall(all_image_links[0])[0]\n",
    "time_string"
   ]
  },
  {
   "cell_type": "code",
   "execution_count": 202,
   "metadata": {},
   "outputs": [
    {
     "data": {
      "text/plain": [
       "'2018-08-28'"
      ]
     },
     "execution_count": 202,
     "metadata": {},
     "output_type": "execute_result"
    }
   ],
   "source": [
    "date_pattern = re.compile(r'\\d{4}-\\d{2}-\\d{2}')\n",
    "list(set(date_pattern.findall(all_image_links[0])))[0]\n"
   ]
  },
  {
   "cell_type": "code",
   "execution_count": 209,
   "metadata": {},
   "outputs": [
    {
     "data": {
      "text/plain": [
       "['http://tsih3.uio.no/lapalma/2022/2022.09.08//./08:40:11/./Chromis-N_quick_2022-09-08_08:40:11.jpg',\n",
       " 'http://tsih3.uio.no/lapalma/2022/2022.09.08//./08:40:11/./Chromis-N_quick_2022-09-08_08:40:11_3934_3934_+0_scan=186.jpg',\n",
       " 'http://tsih3.uio.no/lapalma/2022/2022.09.08//./08:40:11/./Chromis-N_quick_2022-09-08_08:40:11_3934_3934_+657_scan=4.jpg',\n",
       " 'http://tsih3.uio.no/lapalma/2022/2022.09.08//./08:40:11/./Chromis-N_quick_2022-09-08_08:40:11_3934_3934_-657_scan=4.jpg',\n",
       " 'http://tsih3.uio.no/lapalma/2022/2022.09.08//./08:40:11/./Chromis-N_quick_2022-09-08_08:40:11_3999_4000_+1249_scan=76.jpg']"
      ]
     },
     "execution_count": 209,
     "metadata": {},
     "output_type": "execute_result"
    }
   ],
   "source": [
    "all_image_links[-5:]"
   ]
  },
  {
   "cell_type": "code",
   "execution_count": null,
   "metadata": {},
   "outputs": [],
   "source": [
    "# write a regex that matches the date in either 'YYYY-MM-DD' or 'YYYY.MM.DD' format\n",
    "date_pattern = re.compile(r'\\d{4}[-.]\\d{2}[-.]\\d{2}')\n",
    "# write a regex that matches the time in either 'HH:MM:SS', 'HH.MM.SS' or 'HHMMSS' format and it should not match a longer string\n",
    "time_pattern = re.compile(r'\\d{2}[:.]\\d{2}[:.]\\d{2}')"
   ]
  },
  {
   "cell_type": "code",
   "execution_count": 215,
   "metadata": {},
   "outputs": [
    {
     "data": {
      "text/plain": [
       "'2022-09-08'"
      ]
     },
     "execution_count": 215,
     "metadata": {},
     "output_type": "execute_result"
    }
   ],
   "source": [
    "date_pattern = re.compile(r'\\d{4}[-.]\\d{2}[-.]\\d{2}')\n",
    "date_pattern.findall(all_image_links[-1])[1]"
   ]
  },
  {
   "cell_type": "code",
   "execution_count": 230,
   "metadata": {},
   "outputs": [
    {
     "ename": "IndexError",
     "evalue": "list index out of range",
     "output_type": "error",
     "traceback": [
      "\u001b[0;31m---------------------------------------------------------------------------\u001b[0m",
      "\u001b[0;31mIndexError\u001b[0m                                Traceback (most recent call last)",
      "Cell \u001b[0;32mIn[230], line 6\u001b[0m\n\u001b[1;32m      4\u001b[0m time_pattern \u001b[39m=\u001b[39m re\u001b[39m.\u001b[39mcompile(\u001b[39mr\u001b[39m\u001b[39m'\u001b[39m\u001b[39m\\\u001b[39m\u001b[39md\u001b[39m\u001b[39m{2}\u001b[39;00m\u001b[39m[:.]\u001b[39m\u001b[39m\\\u001b[39m\u001b[39md\u001b[39m\u001b[39m{2}\u001b[39;00m\u001b[39m[:.]\u001b[39m\u001b[39m\\\u001b[39m\u001b[39md\u001b[39m\u001b[39m{2}\u001b[39;00m\u001b[39m'\u001b[39m)\n\u001b[1;32m      5\u001b[0m date_string \u001b[39m=\u001b[39m date_pattern\u001b[39m.\u001b[39mfindall(test_string)[\u001b[39m0\u001b[39m]\n\u001b[0;32m----> 6\u001b[0m time_string \u001b[39m=\u001b[39m time_pattern\u001b[39m.\u001b[39;49mfindall(test_string)[\u001b[39m0\u001b[39;49m]\n\u001b[1;32m      7\u001b[0m \u001b[39mprint\u001b[39m(\u001b[39mf\u001b[39m\u001b[39m'\u001b[39m\u001b[39mdate: \u001b[39m\u001b[39m{\u001b[39;00mdate_string\u001b[39m}\u001b[39;00m\u001b[39m\\n\u001b[39;00m\u001b[39mtime: \u001b[39m\u001b[39m{\u001b[39;00mtime_string\u001b[39m}\u001b[39;00m\u001b[39m'\u001b[39m)\n",
      "\u001b[0;31mIndexError\u001b[0m: list index out of range"
     ]
    }
   ],
   "source": [
    "# parse the date and time in the string = '2021-06-23_075627'\n",
    "test_string = '2021-06-23_075627'\n",
    "date_pattern = re.compile(r'\\d{4}[-.]\\d{2}[-.]\\d{2}')\n",
    "time_pattern = re.compile(r'\\d{2}[:.]\\d{2}[:.]\\d{2}')\n",
    "date_string = date_pattern.findall(test_string)[0]\n",
    "time_string = time_pattern.findall(test_string)[0]\n",
    "print(f'date: {date_string}\\ntime: {time_string}')"
   ]
  },
  {
   "cell_type": "code",
   "execution_count": 217,
   "metadata": {},
   "outputs": [
    {
     "data": {
      "text/plain": [
       "'http://tsih3.uio.no/lapalma/2022/2022.09.08//./08:40:11/./Chromis-N_quick_2022-09-08_08:40:11_3999_4000_+1249_scan=76.jpg'"
      ]
     },
     "execution_count": 217,
     "metadata": {},
     "output_type": "execute_result"
    }
   ],
   "source": [
    "all_image_links[-1]"
   ]
  },
  {
   "cell_type": "code",
   "execution_count": 224,
   "metadata": {},
   "outputs": [
    {
     "data": {
      "text/plain": [
       "[]"
      ]
     },
     "execution_count": 224,
     "metadata": {},
     "output_type": "execute_result"
    }
   ],
   "source": [
    "time_pattern = re.compile(r'(?<=_)(\\d{2}[:.]){2}\\d{2}|\\d{6}(?=_)')\n",
    "time_pattern.findall(all_image_links[3])"
   ]
  },
  {
   "cell_type": "code",
   "execution_count": 222,
   "metadata": {},
   "outputs": [
    {
     "data": {
      "text/plain": [
       "'http://tsih3.uio.no/lapalma/2021/2021-06-23//Crisp-T_quick_2021-06-23_075627.jpg'"
      ]
     },
     "execution_count": 222,
     "metadata": {},
     "output_type": "execute_result"
    }
   ],
   "source": [
    "all_image_links[3]"
   ]
  },
  {
   "cell_type": "code",
   "execution_count": 220,
   "metadata": {},
   "outputs": [
    {
     "name": "stdout",
     "output_type": "stream",
     "text": [
      "2018-08-28 ['13:45:09']\n",
      "2018-08-28 ['13:45:09']\n",
      "2021-06-22 ['08:17:48']\n",
      "2021-06-23 []\n",
      "2021-06-23 []\n"
     ]
    }
   ],
   "source": [
    "# run through the all_image_links list and extract the observing date and time for each image and return a datetime object for each image\n",
    "date_pattern = re.compile(r'\\d{4}[-.]\\d{2}[-.]\\d{2}')\n",
    "# match \n",
    "time_pattern = re.compile(r'(?<=_)\\d{2}[:.]\\d{2}[:.]\\d{2}(?=_)')\n",
    "date_time_list = []\n",
    "for image_link in all_image_links[:5]:\n",
    "    date_string = date_pattern.findall(image_link)[0]\n",
    "    time_string = time_pattern.findall(image_link)\n",
    "    print(date_string, time_string)\n"
   ]
  },
  {
   "cell_type": "code",
   "execution_count": 191,
   "metadata": {},
   "outputs": [
    {
     "data": {
      "text/plain": [
       "'lapalma'"
      ]
     },
     "execution_count": 191,
     "metadata": {},
     "output_type": "execute_result"
    }
   ],
   "source": [
    "# define a regex pattern to caputure the instument name from the image link using an instument name list\n",
    "instrument_list = ['Crisp-T']\n",
    "pattern = re.compile(r'(?<=/)\\w+(?=/)')\n",
    "instrument_string = pattern.findall(all_image_links[0])[0]\n",
    "instrument_string"
   ]
  },
  {
   "cell_type": "code",
   "execution_count": 183,
   "metadata": {},
   "outputs": [],
   "source": [
    "# define a function that parses date and time from the file name and returns a list of dictionaries with the date and time as keys and the file name as value\n",
    "def get_date_time(all_image_links):\n",
    "    date_time = []\n",
    "    for link in all_image_links:\n",
    "        # get the file name from the link\n",
    "        file_name = link.split('/')[-1]\n",
    "        # parse the date and time from the file name\n",
    "        date = file_name.split('_')[0]\n",
    "        time = file_name.split('_')[1]\n",
    "        # append the date and time to the date_time list\n",
    "        date_time.append({'date': date, 'time': time, 'file_name': file_name})\n",
    "    return date_time"
   ]
  },
  {
   "cell_type": "code",
   "execution_count": 184,
   "metadata": {},
   "outputs": [],
   "source": [
    "obs_date_time = get_date_time(get_all_image_links(image_links))"
   ]
  },
  {
   "cell_type": "code",
   "execution_count": 186,
   "metadata": {},
   "outputs": [
    {
     "data": {
      "text/plain": [
       "{'date': 'Chromis-N',\n",
       " 'time': 'quick',\n",
       " 'file_name': 'Chromis-N_quick_2021-06-22_08:17:48_4862_4861_-600_scan=232.jpg'}"
      ]
     },
     "execution_count": 186,
     "metadata": {},
     "output_type": "execute_result"
    }
   ],
   "source": [
    "obs_date_time[2]"
   ]
  },
  {
   "cell_type": "code",
   "execution_count": 178,
   "metadata": {},
   "outputs": [],
   "source": [
    "all_image_links = get_all_image_links(image_links)"
   ]
  },
  {
   "cell_type": "code",
   "execution_count": 182,
   "metadata": {},
   "outputs": [
    {
     "data": {
      "text/plain": [
       "2945"
      ]
     },
     "execution_count": 182,
     "metadata": {},
     "output_type": "execute_result"
    }
   ],
   "source": [
    "len(all_image_links)"
   ]
  },
  {
   "cell_type": "code",
   "execution_count": 129,
   "metadata": {},
   "outputs": [],
   "source": [
    "obs_dates_list = pm.get_obs_dates_list(obs_dates)"
   ]
  },
  {
   "cell_type": "code",
   "execution_count": 164,
   "metadata": {},
   "outputs": [
    {
     "data": {
      "text/html": [
       "<div>\n",
       "<style scoped>\n",
       "    .dataframe tbody tr th:only-of-type {\n",
       "        vertical-align: middle;\n",
       "    }\n",
       "\n",
       "    .dataframe tbody tr th {\n",
       "        vertical-align: top;\n",
       "    }\n",
       "\n",
       "    .dataframe thead th {\n",
       "        text-align: right;\n",
       "    }\n",
       "</style>\n",
       "<table border=\"1\" class=\"dataframe\">\n",
       "  <thead>\n",
       "    <tr style=\"text-align: right;\">\n",
       "      <th></th>\n",
       "      <th>videos</th>\n",
       "      <th>images</th>\n",
       "      <th>num_videos</th>\n",
       "      <th>num_images</th>\n",
       "    </tr>\n",
       "  </thead>\n",
       "  <tbody>\n",
       "    <tr>\n",
       "      <th>2013-06-30</th>\n",
       "      <td>[http://tsih3.uio.no/lapalma/2013/2013-06-30//...</td>\n",
       "      <td>File not found</td>\n",
       "      <td>7</td>\n",
       "      <td>14</td>\n",
       "    </tr>\n",
       "    <tr>\n",
       "      <th>2013-09-01</th>\n",
       "      <td>[http://tsih3.uio.no/lapalma/2013/2013-09-01//...</td>\n",
       "      <td>File not found</td>\n",
       "      <td>4</td>\n",
       "      <td>14</td>\n",
       "    </tr>\n",
       "    <tr>\n",
       "      <th>2014-09-09</th>\n",
       "      <td>[http://tsih3.uio.no/lapalma/2014/2014-09-09//...</td>\n",
       "      <td>File not found</td>\n",
       "      <td>7</td>\n",
       "      <td>14</td>\n",
       "    </tr>\n",
       "    <tr>\n",
       "      <th>2014-09-15</th>\n",
       "      <td>[http://tsih3.uio.no/lapalma/2014/2014-09-15//...</td>\n",
       "      <td>File not found</td>\n",
       "      <td>2</td>\n",
       "      <td>14</td>\n",
       "    </tr>\n",
       "    <tr>\n",
       "      <th>2015-06-18</th>\n",
       "      <td>[http://tsih3.uio.no/lapalma/2015/2015-06-18//...</td>\n",
       "      <td>File not found</td>\n",
       "      <td>4</td>\n",
       "      <td>14</td>\n",
       "    </tr>\n",
       "    <tr>\n",
       "      <th>...</th>\n",
       "      <td>...</td>\n",
       "      <td>...</td>\n",
       "      <td>...</td>\n",
       "      <td>...</td>\n",
       "    </tr>\n",
       "    <tr>\n",
       "      <th>2022-09-13</th>\n",
       "      <td>[http://tsih3.uio.no/lapalma/2022/2022-09-13//...</td>\n",
       "      <td>[http://tsih3.uio.no/lapalma/2022/2022-09-13//...</td>\n",
       "      <td>14</td>\n",
       "      <td>14</td>\n",
       "    </tr>\n",
       "    <tr>\n",
       "      <th>2022-09-14</th>\n",
       "      <td>[http://tsih3.uio.no/lapalma/2022/2022-09-14//...</td>\n",
       "      <td>[http://tsih3.uio.no/lapalma/2022/2022-09-14//...</td>\n",
       "      <td>91</td>\n",
       "      <td>91</td>\n",
       "    </tr>\n",
       "    <tr>\n",
       "      <th>2022-09-15</th>\n",
       "      <td>[http://tsih3.uio.no/lapalma/2022/2022-09-15//...</td>\n",
       "      <td>[http://tsih3.uio.no/lapalma/2022/2022-09-15//...</td>\n",
       "      <td>48</td>\n",
       "      <td>48</td>\n",
       "    </tr>\n",
       "    <tr>\n",
       "      <th>2022-09-16</th>\n",
       "      <td>[http://tsih3.uio.no/lapalma/2022/2022-09-16//...</td>\n",
       "      <td>[http://tsih3.uio.no/lapalma/2022/2022-09-16//...</td>\n",
       "      <td>43</td>\n",
       "      <td>43</td>\n",
       "    </tr>\n",
       "    <tr>\n",
       "      <th>2022-09-17</th>\n",
       "      <td>[http://tsih3.uio.no/lapalma/2022/2022-09-17//...</td>\n",
       "      <td>[http://tsih3.uio.no/lapalma/2022/2022-09-17//...</td>\n",
       "      <td>104</td>\n",
       "      <td>76</td>\n",
       "    </tr>\n",
       "  </tbody>\n",
       "</table>\n",
       "<p>109 rows × 4 columns</p>\n",
       "</div>"
      ],
      "text/plain": [
       "                                                       videos  \\\n",
       "2013-06-30  [http://tsih3.uio.no/lapalma/2013/2013-06-30//...   \n",
       "2013-09-01  [http://tsih3.uio.no/lapalma/2013/2013-09-01//...   \n",
       "2014-09-09  [http://tsih3.uio.no/lapalma/2014/2014-09-09//...   \n",
       "2014-09-15  [http://tsih3.uio.no/lapalma/2014/2014-09-15//...   \n",
       "2015-06-18  [http://tsih3.uio.no/lapalma/2015/2015-06-18//...   \n",
       "...                                                       ...   \n",
       "2022-09-13  [http://tsih3.uio.no/lapalma/2022/2022-09-13//...   \n",
       "2022-09-14  [http://tsih3.uio.no/lapalma/2022/2022-09-14//...   \n",
       "2022-09-15  [http://tsih3.uio.no/lapalma/2022/2022-09-15//...   \n",
       "2022-09-16  [http://tsih3.uio.no/lapalma/2022/2022-09-16//...   \n",
       "2022-09-17  [http://tsih3.uio.no/lapalma/2022/2022-09-17//...   \n",
       "\n",
       "                                                       images  num_videos  \\\n",
       "2013-06-30                                     File not found           7   \n",
       "2013-09-01                                     File not found           4   \n",
       "2014-09-09                                     File not found           7   \n",
       "2014-09-15                                     File not found           2   \n",
       "2015-06-18                                     File not found           4   \n",
       "...                                                       ...         ...   \n",
       "2022-09-13  [http://tsih3.uio.no/lapalma/2022/2022-09-13//...          14   \n",
       "2022-09-14  [http://tsih3.uio.no/lapalma/2022/2022-09-14//...          91   \n",
       "2022-09-15  [http://tsih3.uio.no/lapalma/2022/2022-09-15//...          48   \n",
       "2022-09-16  [http://tsih3.uio.no/lapalma/2022/2022-09-16//...          43   \n",
       "2022-09-17  [http://tsih3.uio.no/lapalma/2022/2022-09-17//...         104   \n",
       "\n",
       "            num_images  \n",
       "2013-06-30          14  \n",
       "2013-09-01          14  \n",
       "2014-09-09          14  \n",
       "2014-09-15          14  \n",
       "2015-06-18          14  \n",
       "...                ...  \n",
       "2022-09-13          14  \n",
       "2022-09-14          91  \n",
       "2022-09-15          48  \n",
       "2022-09-16          43  \n",
       "2022-09-17          76  \n",
       "\n",
       "[109 rows x 4 columns]"
      ]
     },
     "execution_count": 164,
     "metadata": {},
     "output_type": "execute_result"
    }
   ],
   "source": [
    "# create a pandas dataframe with obs_dates_list as index and no columns, sort the index\n",
    "obs_dates_df = pd.DataFrame(index=obs_dates_list)\n",
    "obs_dates_df.sort_index(inplace=True)\n",
    "# use the obs_dates_list as index for the video_links and image_links lists\n",
    "obs_dates_df['videos'] = video_links\n",
    "obs_dates_df['images'] = image_links\n",
    "# add the numeber of videos and images for each date as columns\n",
    "obs_dates_df['num_videos'] = obs_dates_df['videos'].apply(len)\n",
    "obs_dates_df['num_images'] = obs_dates_df['images'].apply(len)\n",
    "obs_dates_df"
   ]
  },
  {
   "cell_type": "code",
   "execution_count": null,
   "metadata": {},
   "outputs": [],
   "source": [
    "obs_dates_df.loc['2022-09-03', 'videos']"
   ]
  },
  {
   "cell_type": "code",
   "execution_count": 163,
   "metadata": {},
   "outputs": [
    {
     "name": "stdout",
     "output_type": "stream",
     "text": [
      "Number of videos for 2022-09-03: 72\n"
     ]
    }
   ],
   "source": [
    "# print the number of videos for df entry for '2022-09-03'\n",
    "print(f'Number of videos for 2022-09-03: {len(obs_dates_df.loc[\"2022-09-03\", \"videos\"])}')"
   ]
  },
  {
   "cell_type": "code",
   "execution_count": 137,
   "metadata": {},
   "outputs": [
    {
     "ename": "ValueError",
     "evalue": "Mixing dicts with non-Series may lead to ambiguous ordering.",
     "output_type": "error",
     "traceback": [
      "\u001b[0;31m---------------------------------------------------------------------------\u001b[0m",
      "\u001b[0;31mValueError\u001b[0m                                Traceback (most recent call last)",
      "Cell \u001b[0;32mIn[137], line 3\u001b[0m\n\u001b[1;32m      1\u001b[0m \u001b[39m#import pandas as pd and create a dataframe with the dates as index and the links as columns\u001b[39;00m\n\u001b[1;32m      2\u001b[0m \u001b[39mimport\u001b[39;00m \u001b[39mpandas\u001b[39;00m \u001b[39mas\u001b[39;00m \u001b[39mpd\u001b[39;00m\n\u001b[0;32m----> 3\u001b[0m df \u001b[39m=\u001b[39m pd\u001b[39m.\u001b[39;49mDataFrame({\u001b[39m'\u001b[39;49m\u001b[39mobs_dates\u001b[39;49m\u001b[39m'\u001b[39;49m: obs_dates_list, \u001b[39m'\u001b[39;49m\u001b[39mvideo_links\u001b[39;49m\u001b[39m'\u001b[39;49m: video_links, \u001b[39m'\u001b[39;49m\u001b[39mimage_links\u001b[39;49m\u001b[39m'\u001b[39;49m: image_links})\n\u001b[1;32m      4\u001b[0m df\n",
      "File \u001b[0;32m~/mambaforge/lib/python3.10/site-packages/pandas/core/frame.py:663\u001b[0m, in \u001b[0;36mDataFrame.__init__\u001b[0;34m(self, data, index, columns, dtype, copy)\u001b[0m\n\u001b[1;32m    657\u001b[0m     mgr \u001b[39m=\u001b[39m \u001b[39mself\u001b[39m\u001b[39m.\u001b[39m_init_mgr(\n\u001b[1;32m    658\u001b[0m         data, axes\u001b[39m=\u001b[39m{\u001b[39m\"\u001b[39m\u001b[39mindex\u001b[39m\u001b[39m\"\u001b[39m: index, \u001b[39m\"\u001b[39m\u001b[39mcolumns\u001b[39m\u001b[39m\"\u001b[39m: columns}, dtype\u001b[39m=\u001b[39mdtype, copy\u001b[39m=\u001b[39mcopy\n\u001b[1;32m    659\u001b[0m     )\n\u001b[1;32m    661\u001b[0m \u001b[39melif\u001b[39;00m \u001b[39misinstance\u001b[39m(data, \u001b[39mdict\u001b[39m):\n\u001b[1;32m    662\u001b[0m     \u001b[39m# GH#38939 de facto copy defaults to False only in non-dict cases\u001b[39;00m\n\u001b[0;32m--> 663\u001b[0m     mgr \u001b[39m=\u001b[39m dict_to_mgr(data, index, columns, dtype\u001b[39m=\u001b[39;49mdtype, copy\u001b[39m=\u001b[39;49mcopy, typ\u001b[39m=\u001b[39;49mmanager)\n\u001b[1;32m    664\u001b[0m \u001b[39melif\u001b[39;00m \u001b[39misinstance\u001b[39m(data, ma\u001b[39m.\u001b[39mMaskedArray):\n\u001b[1;32m    665\u001b[0m     \u001b[39mimport\u001b[39;00m \u001b[39mnumpy\u001b[39;00m\u001b[39m.\u001b[39;00m\u001b[39mma\u001b[39;00m\u001b[39m.\u001b[39;00m\u001b[39mmrecords\u001b[39;00m \u001b[39mas\u001b[39;00m \u001b[39mmrecords\u001b[39;00m\n",
      "File \u001b[0;32m~/mambaforge/lib/python3.10/site-packages/pandas/core/internals/construction.py:493\u001b[0m, in \u001b[0;36mdict_to_mgr\u001b[0;34m(data, index, columns, dtype, typ, copy)\u001b[0m\n\u001b[1;32m    489\u001b[0m     \u001b[39melse\u001b[39;00m:\n\u001b[1;32m    490\u001b[0m         \u001b[39m# dtype check to exclude e.g. range objects, scalars\u001b[39;00m\n\u001b[1;32m    491\u001b[0m         arrays \u001b[39m=\u001b[39m [x\u001b[39m.\u001b[39mcopy() \u001b[39mif\u001b[39;00m \u001b[39mhasattr\u001b[39m(x, \u001b[39m\"\u001b[39m\u001b[39mdtype\u001b[39m\u001b[39m\"\u001b[39m) \u001b[39melse\u001b[39;00m x \u001b[39mfor\u001b[39;00m x \u001b[39min\u001b[39;00m arrays]\n\u001b[0;32m--> 493\u001b[0m \u001b[39mreturn\u001b[39;00m arrays_to_mgr(arrays, columns, index, dtype\u001b[39m=\u001b[39;49mdtype, typ\u001b[39m=\u001b[39;49mtyp, consolidate\u001b[39m=\u001b[39;49mcopy)\n",
      "File \u001b[0;32m~/mambaforge/lib/python3.10/site-packages/pandas/core/internals/construction.py:118\u001b[0m, in \u001b[0;36marrays_to_mgr\u001b[0;34m(arrays, columns, index, dtype, verify_integrity, typ, consolidate)\u001b[0m\n\u001b[1;32m    115\u001b[0m \u001b[39mif\u001b[39;00m verify_integrity:\n\u001b[1;32m    116\u001b[0m     \u001b[39m# figure out the index, if necessary\u001b[39;00m\n\u001b[1;32m    117\u001b[0m     \u001b[39mif\u001b[39;00m index \u001b[39mis\u001b[39;00m \u001b[39mNone\u001b[39;00m:\n\u001b[0;32m--> 118\u001b[0m         index \u001b[39m=\u001b[39m _extract_index(arrays)\n\u001b[1;32m    119\u001b[0m     \u001b[39melse\u001b[39;00m:\n\u001b[1;32m    120\u001b[0m         index \u001b[39m=\u001b[39m ensure_index(index)\n",
      "File \u001b[0;32m~/mambaforge/lib/python3.10/site-packages/pandas/core/internals/construction.py:669\u001b[0m, in \u001b[0;36m_extract_index\u001b[0;34m(data)\u001b[0m\n\u001b[1;32m    666\u001b[0m     \u001b[39mraise\u001b[39;00m \u001b[39mValueError\u001b[39;00m(\u001b[39m\"\u001b[39m\u001b[39mAll arrays must be of the same length\u001b[39m\u001b[39m\"\u001b[39m)\n\u001b[1;32m    668\u001b[0m \u001b[39mif\u001b[39;00m have_dicts:\n\u001b[0;32m--> 669\u001b[0m     \u001b[39mraise\u001b[39;00m \u001b[39mValueError\u001b[39;00m(\n\u001b[1;32m    670\u001b[0m         \u001b[39m\"\u001b[39m\u001b[39mMixing dicts with non-Series may lead to ambiguous ordering.\u001b[39m\u001b[39m\"\u001b[39m\n\u001b[1;32m    671\u001b[0m     )\n\u001b[1;32m    673\u001b[0m \u001b[39mif\u001b[39;00m have_series:\n\u001b[1;32m    674\u001b[0m     \u001b[39massert\u001b[39;00m index \u001b[39mis\u001b[39;00m \u001b[39mnot\u001b[39;00m \u001b[39mNone\u001b[39;00m  \u001b[39m# for mypy\u001b[39;00m\n",
      "\u001b[0;31mValueError\u001b[0m: Mixing dicts with non-Series may lead to ambiguous ordering."
     ]
    }
   ],
   "source": [
    "#import pandas as pd and create a dataframe with the dates as index and the links as columns\n",
    "\n",
    "df = pd.DataFrame({'video_links': video_links, 'image_links': image_links}, index=obs_dates_list)\n",
    "df.index.name = 'obs_dates'\n",
    "df"
   ]
  },
  {
   "cell_type": "code",
   "execution_count": 134,
   "metadata": {},
   "outputs": [],
   "source": [
    "# get all the video links for a given date\n",
    "def get_video_links(date):\n",
    "    return df.loc[date]['video_links']"
   ]
  },
  {
   "cell_type": "code",
   "execution_count": 99,
   "metadata": {},
   "outputs": [
    {
     "name": "stdout",
     "output_type": "stream",
     "text": [
      "first: 2015/2015-06-18, last: 2015/2015-10-11, total: 4\n",
      "01: 2015-06-18\n",
      "02: 2015-09-05\n",
      "03: 2015-09-09\n",
      "04: 2015-10-11\n"
     ]
    }
   ],
   "source": [
    "pm.print_obs_dates('2015',obs_dates)"
   ]
  },
  {
   "cell_type": "code",
   "execution_count": 75,
   "metadata": {},
   "outputs": [
    {
     "name": "stdout",
     "output_type": "stream",
     "text": [
      "01: 2015-09-05\n",
      "02: 2015-09-09\n"
     ]
    }
   ],
   "source": [
    "pm.find_obs_dates('2015-09-',obs_dates)"
   ]
  },
  {
   "cell_type": "code",
   "execution_count": 76,
   "metadata": {},
   "outputs": [],
   "source": [
    "obs_dates_list = pm.get_obs_dates_list(obs_dates)"
   ]
  },
  {
   "cell_type": "code",
   "execution_count": 77,
   "metadata": {},
   "outputs": [
    {
     "data": {
      "text/plain": [
       "'2022-09-08'"
      ]
     },
     "execution_count": 77,
     "metadata": {},
     "output_type": "execute_result"
    }
   ],
   "source": [
    "obs_dates_list[110]"
   ]
  },
  {
   "cell_type": "code",
   "execution_count": 78,
   "metadata": {},
   "outputs": [
    {
     "data": {
      "text/plain": [
       "'2022/2022.09.08/'"
      ]
     },
     "execution_count": 78,
     "metadata": {},
     "output_type": "execute_result"
    }
   ],
   "source": [
    "obs_dates[110]"
   ]
  },
  {
   "cell_type": "code",
   "execution_count": 125,
   "metadata": {},
   "outputs": [],
   "source": []
  },
  {
   "cell_type": "code",
   "execution_count": 126,
   "metadata": {},
   "outputs": [
    {
     "data": {
      "text/plain": [
       "111"
      ]
     },
     "execution_count": 126,
     "metadata": {},
     "output_type": "execute_result"
    }
   ],
   "source": [
    "len(obs_dates_list)"
   ]
  },
  {
   "cell_type": "code",
   "execution_count": 127,
   "metadata": {},
   "outputs": [
    {
     "name": "stderr",
     "output_type": "stream",
     "text": [
      "100%|██████████| 111/111 [00:12<00:00,  9.13it/s]"
     ]
    },
    {
     "name": "stdout",
     "output_type": "stream",
     "text": [
      "video_links.csv loaded.\n"
     ]
    },
    {
     "name": "stderr",
     "output_type": "stream",
     "text": [
      "\n"
     ]
    }
   ],
   "source": [
    "# for the obs_dates list, get the list of files with either .mp4 or .mov extension and save it as a dictionary wih the key being the observing date if the files are not founds then add a None value to the dictionary\n",
    "file_video_links = 'video_links.csv'\n",
    "\n",
    "if os.path.isfile(file_video_links) is False:\n",
    "    video_links = {}\n",
    "    i = 0\n",
    "    for obs_date in tqdm(obs_dates):\n",
    "        # get the list of files with either .mp4 or .mov extension\n",
    "        files = pm.get_files(lapalma_url + obs_date + '/', '.mp4') + pm.get_files(lapalma_url + obs_date + '/', '.mov')\n",
    "        # if the list is not empty, save it as a dictionary wih the key being the observing date\n",
    "        key = obs_date[5:-1]\n",
    "        # replace the dots with dashes\n",
    "        key = key.replace('.', '-')\n",
    "        if files:\n",
    "            video_links[key] = files\n",
    "        # if the list is empty, add a None value to the dictionary\n",
    "        else:\n",
    "            video_links[key] = 'File not found'\n",
    "\n",
    "        # save the image_links in a csv file:\n",
    "        w = csv.writer(open(file_video_links, \"w\"))\n",
    "        for key, val in image_links.items():\n",
    "            w.writerow([key, val])\n",
    "\n",
    "else:\n",
    "    # load the image_links in a csv file:\n",
    "    reader = csv.reader(open(file_image_links, 'r'))\n",
    "    image_links = {}\n",
    "    for row in reader:\n",
    "        k, v = row\n",
    "        image_links[k] = v\n",
    "    print(file_video_links+' loaded.')"
   ]
  },
  {
   "cell_type": "code",
   "execution_count": 128,
   "metadata": {},
   "outputs": [
    {
     "name": "stdout",
     "output_type": "stream",
     "text": [
      "image_links.csv loaded.\n"
     ]
    }
   ],
   "source": [
    "file_image_links = 'image_links.csv'\n",
    "\n",
    "if os.path.isfile(file_image_links) is False:\n",
    "    image_links = {}\n",
    "    i = 0 \n",
    "    for obs_date in tqdm(obs_dates):\n",
    "        # get the list of files with either .mp4 or .mov extension\n",
    "        files = get_files(lapalma_url + obs_date + '/', '.jpg')\n",
    "        # if the list is not empty, save it as a dictionary wih the key being the observing date\n",
    "        key = obs_date[5:-1]\n",
    "        # replace the dots with dashes\n",
    "        key = key.replace('.', '-')\n",
    "        if files:\n",
    "            image_links[key] = files\n",
    "        # if the list is empty, add a None value to the dictionary\n",
    "        else:\n",
    "            image_links[key] = 'File not found'\n",
    "            \n",
    "    # save the image_links in a csv file:\n",
    "    w = csv.writer(open(file_image_links, \"w\"))\n",
    "    for key, val in image_links.items():\n",
    "        w.writerow([key, val])\n",
    "\n",
    "else:\n",
    "    # load the image_links in a csv file:\n",
    "    reader = csv.reader(open(file_image_links, 'r'))\n",
    "    image_links = {}\n",
    "    for row in reader:\n",
    "        k, v = row\n",
    "        image_links[k] = v\n",
    "    print(file_image_links+' loaded.')\n"
   ]
  },
  {
   "cell_type": "code",
   "execution_count": 129,
   "metadata": {},
   "outputs": [],
   "source": [
    "# write a function that plays the mp4 file in the url\n",
    "def play_mp4(url):\n",
    "    return Video(url, width=720, height=480)"
   ]
  },
  {
   "cell_type": "code",
   "execution_count": 130,
   "metadata": {},
   "outputs": [],
   "source": [
    "# define a function called video that takes a date string and prints an enumerated list of the video files for that date from the video_links dictionary\n",
    "def video(date_string):\n",
    "    # if the date is in the dictionary, print the list of video files\n",
    "    if date_string in video_links:\n",
    "        for i, video_link in enumerate(video_links[date_string]):\n",
    "            print(f'{i:02d}: {video_link}')\n",
    "    # if the date is not in the dictionary, print a message\n",
    "    else:\n",
    "        print('No video files found')\n",
    "    return None"
   ]
  },
  {
   "cell_type": "code",
   "execution_count": 131,
   "metadata": {},
   "outputs": [
    {
     "name": "stdout",
     "output_type": "stream",
     "text": [
      "01: 2015-09-05\n",
      "02: 2015-09-09\n"
     ]
    }
   ],
   "source": [
    "# find_obs_dates('2020-09-')\n",
    "find_obs_dates('2015-09-0')"
   ]
  },
  {
   "cell_type": "code",
   "execution_count": 132,
   "metadata": {},
   "outputs": [
    {
     "name": "stdout",
     "output_type": "stream",
     "text": [
      "00: http://tsih3.uio.no/lapalma/2015/2015-09-09//Bz+Bh_09Sep2015.mp4\n",
      "01: http://tsih3.uio.no/lapalma/2015/2015-09-09//Bz+Bh_09Sep2015_B250G.mp4\n",
      "02: http://tsih3.uio.no/lapalma/2015/2015-09-09//hacore+blos+sji2796_3pan_2015-09-09_075958.mp4\n"
     ]
    }
   ],
   "source": [
    "# video('2020-09-29')\n",
    "video('2015-09-09')"
   ]
  },
  {
   "cell_type": "code",
   "execution_count": 133,
   "metadata": {},
   "outputs": [
    {
     "data": {
      "text/html": [
       "<video src=\"http://tsih3.uio.no/lapalma/2015/2015-09-09//Bz+Bh_09Sep2015_B250G.mp4\" controls  width=\"720\"  height=\"480\">\n",
       "      Your browser does not support the <code>video</code> element.\n",
       "    </video>"
      ],
      "text/plain": [
       "<IPython.core.display.Video object>"
      ]
     },
     "execution_count": 133,
     "metadata": {},
     "output_type": "execute_result"
    }
   ],
   "source": [
    "# play_mp4(video_links['2020-09-29'][4])\n",
    "play_mp4(video_links['2015-09-09'][1])"
   ]
  },
  {
   "attachments": {},
   "cell_type": "markdown",
   "metadata": {},
   "source": [
    "# Creating the database"
   ]
  },
  {
   "cell_type": "code",
   "execution_count": 134,
   "metadata": {},
   "outputs": [],
   "source": [
    "import pandas as pd\n",
    "\n",
    "raw_data = {\n",
    "    'ID': ['2015-09-09 01'],\n",
    "    'date': ['2015-09-09'],\n",
    "    'url': ['2015-09-09'],\n",
    "    'Target': ['Sunspot'],\n",
    "    'Polarimetry': [False],\n",
    "    'Instruments':['CRISP+CHROMIS'],\n",
    "    'Photosphere': [False],\n",
    "    'Chromosphere': [True],\n",
    "    'Flux balance': [42],\n",
    "    'Dynamism': ['Quiet'],\n",
    "    }\n",
    "\n",
    "df = pd.DataFrame(raw_data)\n",
    "# Do not use print but display from IPython\n",
    "# print(df)"
   ]
  },
  {
   "cell_type": "code",
   "execution_count": null,
   "metadata": {},
   "outputs": [],
   "source": [
    "# Read https://ipywidgets.readthedocs.io/en/8.0.2/examples/Widget%20List.html for more information."
   ]
  },
  {
   "cell_type": "code",
   "execution_count": 135,
   "metadata": {},
   "outputs": [
    {
     "data": {
      "text/html": [
       "<div>\n",
       "<style scoped>\n",
       "    .dataframe tbody tr th:only-of-type {\n",
       "        vertical-align: middle;\n",
       "    }\n",
       "\n",
       "    .dataframe tbody tr th {\n",
       "        vertical-align: top;\n",
       "    }\n",
       "\n",
       "    .dataframe thead th {\n",
       "        text-align: right;\n",
       "    }\n",
       "</style>\n",
       "<table border=\"1\" class=\"dataframe\">\n",
       "  <thead>\n",
       "    <tr style=\"text-align: right;\">\n",
       "      <th></th>\n",
       "      <th>ID</th>\n",
       "      <th>date</th>\n",
       "      <th>url</th>\n",
       "      <th>Target</th>\n",
       "    </tr>\n",
       "  </thead>\n",
       "  <tbody>\n",
       "    <tr>\n",
       "      <th>0</th>\n",
       "      <td>2013-06-30_0</td>\n",
       "      <td>2013-06-30</td>\n",
       "      <td>http://tsih3.uio.no/lapalma/2013/2013-06-30//halpha_SDO_8pan_2013-06-30_091550.mp4</td>\n",
       "      <td></td>\n",
       "    </tr>\n",
       "    <tr>\n",
       "      <th>1</th>\n",
       "      <td>2013-06-30_1</td>\n",
       "      <td>2013-06-30</td>\n",
       "      <td>http://tsih3.uio.no/lapalma/2013/2013-06-30//halpha_scan_30Jun2013_giant_tornado.mp4</td>\n",
       "      <td></td>\n",
       "    </tr>\n",
       "    <tr>\n",
       "      <th>2</th>\n",
       "      <td>2013-06-30_2</td>\n",
       "      <td>2013-06-30</td>\n",
       "      <td>http://tsih3.uio.no/lapalma/2013/2013-06-30//wb6563_30Jun2013_ff_framesel_1s.mp4</td>\n",
       "      <td></td>\n",
       "    </tr>\n",
       "    <tr>\n",
       "      <th>3</th>\n",
       "      <td>2013-06-30_3</td>\n",
       "      <td>2013-06-30</td>\n",
       "      <td>http://tsih3.uio.no/lapalma/2013/2013-06-30//./wb_6563_2013-06-30T09:15:50_scans=0-2133_histoopt.mp4</td>\n",
       "      <td></td>\n",
       "    </tr>\n",
       "    <tr>\n",
       "      <th>4</th>\n",
       "      <td>2013-06-30_4</td>\n",
       "      <td>2013-06-30</td>\n",
       "      <td>http://tsih3.uio.no/lapalma/2013/2013-06-30//./wb_6563_2013-06-30T09:15:50_scans=0-2133_minmax.mp4</td>\n",
       "      <td></td>\n",
       "    </tr>\n",
       "    <tr>\n",
       "      <th>...</th>\n",
       "      <td>...</td>\n",
       "      <td>...</td>\n",
       "      <td>...</td>\n",
       "      <td>...</td>\n",
       "    </tr>\n",
       "    <tr>\n",
       "      <th>3911</th>\n",
       "      <td>2022-09-08_10</td>\n",
       "      <td>2022-09-08</td>\n",
       "      <td>http://tsih3.uio.no/lapalma/2022/2022.09.08//./08:40:11/./Chromis-N_quick_2022-09-08_08:40:11.mov</td>\n",
       "      <td></td>\n",
       "    </tr>\n",
       "    <tr>\n",
       "      <th>3912</th>\n",
       "      <td>2022-09-08_11</td>\n",
       "      <td>2022-09-08</td>\n",
       "      <td>http://tsih3.uio.no/lapalma/2022/2022.09.08//./08:40:11/./Chromis-N_quick_2022-09-08_08:40:11_3934_3934_+0.mov</td>\n",
       "      <td></td>\n",
       "    </tr>\n",
       "    <tr>\n",
       "      <th>3913</th>\n",
       "      <td>2022-09-08_12</td>\n",
       "      <td>2022-09-08</td>\n",
       "      <td>http://tsih3.uio.no/lapalma/2022/2022.09.08//./08:40:11/./Chromis-N_quick_2022-09-08_08:40:11_3934_3934_+657.mov</td>\n",
       "      <td></td>\n",
       "    </tr>\n",
       "    <tr>\n",
       "      <th>3914</th>\n",
       "      <td>2022-09-08_13</td>\n",
       "      <td>2022-09-08</td>\n",
       "      <td>http://tsih3.uio.no/lapalma/2022/2022.09.08//./08:40:11/./Chromis-N_quick_2022-09-08_08:40:11_3934_3934_-657.mov</td>\n",
       "      <td></td>\n",
       "    </tr>\n",
       "    <tr>\n",
       "      <th>3915</th>\n",
       "      <td>2022-09-08_14</td>\n",
       "      <td>2022-09-08</td>\n",
       "      <td>http://tsih3.uio.no/lapalma/2022/2022.09.08//./08:40:11/./Chromis-N_quick_2022-09-08_08:40:11_3999_4000_+1249.mov</td>\n",
       "      <td></td>\n",
       "    </tr>\n",
       "  </tbody>\n",
       "</table>\n",
       "<p>3916 rows × 4 columns</p>\n",
       "</div>"
      ],
      "text/plain": [
       "                 ID        date  \\\n",
       "0      2013-06-30_0  2013-06-30   \n",
       "1      2013-06-30_1  2013-06-30   \n",
       "2      2013-06-30_2  2013-06-30   \n",
       "3      2013-06-30_3  2013-06-30   \n",
       "4      2013-06-30_4  2013-06-30   \n",
       "...             ...         ...   \n",
       "3911  2022-09-08_10  2022-09-08   \n",
       "3912  2022-09-08_11  2022-09-08   \n",
       "3913  2022-09-08_12  2022-09-08   \n",
       "3914  2022-09-08_13  2022-09-08   \n",
       "3915  2022-09-08_14  2022-09-08   \n",
       "\n",
       "                                                                                                                    url  \\\n",
       "0                                    http://tsih3.uio.no/lapalma/2013/2013-06-30//halpha_SDO_8pan_2013-06-30_091550.mp4   \n",
       "1                                  http://tsih3.uio.no/lapalma/2013/2013-06-30//halpha_scan_30Jun2013_giant_tornado.mp4   \n",
       "2                                      http://tsih3.uio.no/lapalma/2013/2013-06-30//wb6563_30Jun2013_ff_framesel_1s.mp4   \n",
       "3                  http://tsih3.uio.no/lapalma/2013/2013-06-30//./wb_6563_2013-06-30T09:15:50_scans=0-2133_histoopt.mp4   \n",
       "4                    http://tsih3.uio.no/lapalma/2013/2013-06-30//./wb_6563_2013-06-30T09:15:50_scans=0-2133_minmax.mp4   \n",
       "...                                                                                                                 ...   \n",
       "3911                  http://tsih3.uio.no/lapalma/2022/2022.09.08//./08:40:11/./Chromis-N_quick_2022-09-08_08:40:11.mov   \n",
       "3912     http://tsih3.uio.no/lapalma/2022/2022.09.08//./08:40:11/./Chromis-N_quick_2022-09-08_08:40:11_3934_3934_+0.mov   \n",
       "3913   http://tsih3.uio.no/lapalma/2022/2022.09.08//./08:40:11/./Chromis-N_quick_2022-09-08_08:40:11_3934_3934_+657.mov   \n",
       "3914   http://tsih3.uio.no/lapalma/2022/2022.09.08//./08:40:11/./Chromis-N_quick_2022-09-08_08:40:11_3934_3934_-657.mov   \n",
       "3915  http://tsih3.uio.no/lapalma/2022/2022.09.08//./08:40:11/./Chromis-N_quick_2022-09-08_08:40:11_3999_4000_+1249.mov   \n",
       "\n",
       "     Target  \n",
       "0            \n",
       "1            \n",
       "2            \n",
       "3            \n",
       "4            \n",
       "...     ...  \n",
       "3911         \n",
       "3912         \n",
       "3913         \n",
       "3914         \n",
       "3915         \n",
       "\n",
       "[3916 rows x 4 columns]"
      ]
     },
     "metadata": {},
     "output_type": "display_data"
    }
   ],
   "source": [
    "# Create a pandas-table of all the movies in the database:\n",
    "video_dates = list(video_links.keys())\n",
    "ids = []; dates = []; urls = [];\n",
    "for days in range(len(video_dates)):\n",
    "    # Every id is the date and the video of that day\n",
    "    for movie in range(len(video_links[video_dates[days]])):\n",
    "        ids.append(video_dates[days]+'_'+str(movie))\n",
    "        dates.append(video_dates[days])\n",
    "        urls.append(video_links[video_dates[days]][movie])\n",
    "\n",
    "# Creating the container for the database:    \n",
    "from_links = {\n",
    "    'ID': ids,\n",
    "    'date': dates,\n",
    "    'url': urls,\n",
    "    'Target': np.empty_like(dates),\n",
    "    }\n",
    "db_from_links = pd.DataFrame(from_links)\n",
    "\n",
    "# Display the database:\n",
    "display(db_from_links)"
   ]
  },
  {
   "cell_type": "code",
   "execution_count": 151,
   "metadata": {},
   "outputs": [
    {
     "data": {
      "application/vnd.jupyter.widget-view+json": {
       "model_id": "a7375bba38b7432f809d408568cd2022",
       "version_major": 2,
       "version_minor": 0
      },
      "text/plain": [
       "Dropdown(description='Dates:', index=108, options=('2013-06-30', '2013-09-01', '2014-09-09', '2014-09-15', '20…"
      ]
     },
     "metadata": {},
     "output_type": "display_data"
    }
   ],
   "source": [
    "video_dates_widget = widgets.Dropdown(options=video_dates, value=video_dates[-1], description='Dates:', disabled=False)\n",
    "display(video_dates_widget)"
   ]
  },
  {
   "cell_type": "code",
   "execution_count": 152,
   "metadata": {},
   "outputs": [
    {
     "data": {
      "text/html": [
       "<div>\n",
       "<style scoped>\n",
       "    .dataframe tbody tr th:only-of-type {\n",
       "        vertical-align: middle;\n",
       "    }\n",
       "\n",
       "    .dataframe tbody tr th {\n",
       "        vertical-align: top;\n",
       "    }\n",
       "\n",
       "    .dataframe thead th {\n",
       "        text-align: right;\n",
       "    }\n",
       "</style>\n",
       "<table border=\"1\" class=\"dataframe\">\n",
       "  <thead>\n",
       "    <tr style=\"text-align: right;\">\n",
       "      <th></th>\n",
       "      <th>ID</th>\n",
       "      <th>date</th>\n",
       "      <th>url</th>\n",
       "      <th>Target</th>\n",
       "    </tr>\n",
       "  </thead>\n",
       "  <tbody>\n",
       "    <tr>\n",
       "      <th>3665</th>\n",
       "      <td>2022-09-17_0</td>\n",
       "      <td>2022-09-17</td>\n",
       "      <td>http://tsih3.uio.no/lapalma/2022/2022-09-17//halpha+blos+AIA+HMI_6pan_2022.09.17_102405.mp4</td>\n",
       "      <td></td>\n",
       "    </tr>\n",
       "    <tr>\n",
       "      <th>3666</th>\n",
       "      <td>2022-09-17_1</td>\n",
       "      <td>2022-09-17</td>\n",
       "      <td>http://tsih3.uio.no/lapalma/2022/2022-09-17//halpha+blos+AIA_6pan_2022.09.17_102405.mp4</td>\n",
       "      <td></td>\n",
       "    </tr>\n",
       "    <tr>\n",
       "      <th>3667</th>\n",
       "      <td>2022-09-17_2</td>\n",
       "      <td>2022-09-17</td>\n",
       "      <td>http://tsih3.uio.no/lapalma/2022/2022-09-17//halpha+blos_3pan_2022.09.17_102405.mp4</td>\n",
       "      <td></td>\n",
       "    </tr>\n",
       "    <tr>\n",
       "      <th>3668</th>\n",
       "      <td>2022-09-17_3</td>\n",
       "      <td>2022-09-17</td>\n",
       "      <td>http://tsih3.uio.no/lapalma/2022/2022-09-17//halpha+blos_3pan_2022.09.17_125133.mp4</td>\n",
       "      <td></td>\n",
       "    </tr>\n",
       "    <tr>\n",
       "      <th>3669</th>\n",
       "      <td>2022-09-17_4</td>\n",
       "      <td>2022-09-17</td>\n",
       "      <td>http://tsih3.uio.no/lapalma/2022/2022-09-17//halpha_3pan_2022-09-17_102405.mp4</td>\n",
       "      <td></td>\n",
       "    </tr>\n",
       "    <tr>\n",
       "      <th>...</th>\n",
       "      <td>...</td>\n",
       "      <td>...</td>\n",
       "      <td>...</td>\n",
       "      <td>...</td>\n",
       "    </tr>\n",
       "    <tr>\n",
       "      <th>3764</th>\n",
       "      <td>2022-09-17_99</td>\n",
       "      <td>2022-09-17</td>\n",
       "      <td>http://tsih3.uio.no/lapalma/2022/2022-09-17//./14:34:13/./Chromis-N_quick_2022-09-17_14:34:13_3969_3969_+0.mov</td>\n",
       "      <td></td>\n",
       "    </tr>\n",
       "    <tr>\n",
       "      <th>3765</th>\n",
       "      <td>2022-09-17_100</td>\n",
       "      <td>2022-09-17</td>\n",
       "      <td>http://tsih3.uio.no/lapalma/2022/2022-09-17//./14:34:13/./Crisp-R_quick_2022-09-17_14:34:13.mov</td>\n",
       "      <td></td>\n",
       "    </tr>\n",
       "    <tr>\n",
       "      <th>3766</th>\n",
       "      <td>2022-09-17_101</td>\n",
       "      <td>2022-09-17</td>\n",
       "      <td>http://tsih3.uio.no/lapalma/2022/2022-09-17//./14:34:13/./Crisp-R_quick_2022-09-17_14:34:13_6563_6563_+0.mov</td>\n",
       "      <td></td>\n",
       "    </tr>\n",
       "    <tr>\n",
       "      <th>3767</th>\n",
       "      <td>2022-09-17_102</td>\n",
       "      <td>2022-09-17</td>\n",
       "      <td>http://tsih3.uio.no/lapalma/2022/2022-09-17//./14:34:13/./Crisp-R_quick_2022-09-17_14:34:13_6563_6563_+800.mov</td>\n",
       "      <td></td>\n",
       "    </tr>\n",
       "    <tr>\n",
       "      <th>3768</th>\n",
       "      <td>2022-09-17_103</td>\n",
       "      <td>2022-09-17</td>\n",
       "      <td>http://tsih3.uio.no/lapalma/2022/2022-09-17//./14:34:13/./Crisp-R_quick_2022-09-17_14:34:13_6563_6563_-800.mov</td>\n",
       "      <td></td>\n",
       "    </tr>\n",
       "  </tbody>\n",
       "</table>\n",
       "<p>104 rows × 4 columns</p>\n",
       "</div>"
      ],
      "text/plain": [
       "                  ID        date  \\\n",
       "3665    2022-09-17_0  2022-09-17   \n",
       "3666    2022-09-17_1  2022-09-17   \n",
       "3667    2022-09-17_2  2022-09-17   \n",
       "3668    2022-09-17_3  2022-09-17   \n",
       "3669    2022-09-17_4  2022-09-17   \n",
       "...              ...         ...   \n",
       "3764   2022-09-17_99  2022-09-17   \n",
       "3765  2022-09-17_100  2022-09-17   \n",
       "3766  2022-09-17_101  2022-09-17   \n",
       "3767  2022-09-17_102  2022-09-17   \n",
       "3768  2022-09-17_103  2022-09-17   \n",
       "\n",
       "                                                                                                                 url  \\\n",
       "3665                     http://tsih3.uio.no/lapalma/2022/2022-09-17//halpha+blos+AIA+HMI_6pan_2022.09.17_102405.mp4   \n",
       "3666                         http://tsih3.uio.no/lapalma/2022/2022-09-17//halpha+blos+AIA_6pan_2022.09.17_102405.mp4   \n",
       "3667                             http://tsih3.uio.no/lapalma/2022/2022-09-17//halpha+blos_3pan_2022.09.17_102405.mp4   \n",
       "3668                             http://tsih3.uio.no/lapalma/2022/2022-09-17//halpha+blos_3pan_2022.09.17_125133.mp4   \n",
       "3669                                  http://tsih3.uio.no/lapalma/2022/2022-09-17//halpha_3pan_2022-09-17_102405.mp4   \n",
       "...                                                                                                              ...   \n",
       "3764  http://tsih3.uio.no/lapalma/2022/2022-09-17//./14:34:13/./Chromis-N_quick_2022-09-17_14:34:13_3969_3969_+0.mov   \n",
       "3765                 http://tsih3.uio.no/lapalma/2022/2022-09-17//./14:34:13/./Crisp-R_quick_2022-09-17_14:34:13.mov   \n",
       "3766    http://tsih3.uio.no/lapalma/2022/2022-09-17//./14:34:13/./Crisp-R_quick_2022-09-17_14:34:13_6563_6563_+0.mov   \n",
       "3767  http://tsih3.uio.no/lapalma/2022/2022-09-17//./14:34:13/./Crisp-R_quick_2022-09-17_14:34:13_6563_6563_+800.mov   \n",
       "3768  http://tsih3.uio.no/lapalma/2022/2022-09-17//./14:34:13/./Crisp-R_quick_2022-09-17_14:34:13_6563_6563_-800.mov   \n",
       "\n",
       "     Target  \n",
       "3665         \n",
       "3666         \n",
       "3667         \n",
       "3668         \n",
       "3669         \n",
       "...     ...  \n",
       "3764         \n",
       "3765         \n",
       "3766         \n",
       "3767         \n",
       "3768         \n",
       "\n",
       "[104 rows x 4 columns]"
      ]
     },
     "metadata": {},
     "output_type": "display_data"
    }
   ],
   "source": [
    "# Display all the things for a given day:\n",
    "display(db_from_links[db_from_links['date']==video_dates_widget.value])"
   ]
  },
  {
   "cell_type": "code",
   "execution_count": 138,
   "metadata": {},
   "outputs": [],
   "source": [
    "df.to_csv('raw_data.csv', index=False)"
   ]
  },
  {
   "cell_type": "code",
   "execution_count": null,
   "metadata": {},
   "outputs": [],
   "source": []
  }
 ],
 "metadata": {
  "kernelspec": {
   "display_name": "base",
   "language": "python",
   "name": "python3"
  },
  "language_info": {
   "codemirror_mode": {
    "name": "ipython",
    "version": 3
   },
   "file_extension": ".py",
   "mimetype": "text/x-python",
   "name": "python",
   "nbconvert_exporter": "python",
   "pygments_lexer": "ipython3",
   "version": "3.10.8"
  },
  "orig_nbformat": 4,
  "vscode": {
   "interpreter": {
    "hash": "e9c47ff23585fbec4947b7f0007bbdf74b9e597c4059f45241d6a64956280f2b"
   }
  }
 },
 "nbformat": 4,
 "nbformat_minor": 2
}
