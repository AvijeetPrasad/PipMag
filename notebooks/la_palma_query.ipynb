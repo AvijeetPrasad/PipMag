{
 "cells": [
  {
   "cell_type": "code",
   "execution_count": null,
   "metadata": {},
   "outputs": [],
   "source": [
    "import pandas as pd\n",
    "import ipywidgets as widgets\n",
    "from IPython.display import display, clear_output\n",
    "from pipmag import selector_utils as su"
   ]
  },
  {
   "cell_type": "code",
   "execution_count": null,
   "metadata": {},
   "outputs": [],
   "source": [
    "# reload the from pipmag import selector_utils as su line\n",
    "import importlib\n",
    "importlib.reload(su)"
   ]
  },
  {
   "cell_type": "code",
   "execution_count": null,
   "metadata": {},
   "outputs": [],
   "source": [
    "# get the latest csv file\n",
    "la_palma_obs_data_file = '../data/la_palma_obs_data.csv'"
   ]
  },
  {
   "cell_type": "code",
   "execution_count": null,
   "metadata": {},
   "outputs": [],
   "source": [
    "# Load the DataFrame from the CSV file\n",
    "df = pd.read_csv(la_palma_obs_data_file)"
   ]
  },
  {
   "cell_type": "code",
   "execution_count": null,
   "metadata": {},
   "outputs": [],
   "source": [
    "# List of columns to convert from NaN to None \n",
    "columns_to_convert = ['comments', 'polarimetry', 'target']\n",
    "\n",
    "# Convert the NaNs in each column back to None\n",
    "for col in columns_to_convert:\n",
    "    df[col] = df[col].apply(lambda x: 'None' if pd.isna(x) else x)"
   ]
  },
  {
   "cell_type": "code",
   "execution_count": null,
   "metadata": {},
   "outputs": [],
   "source": [
    "query = su.Query(df)\n",
    "query.create_widget()"
   ]
  },
  {
   "attachments": {},
   "cell_type": "markdown",
   "metadata": {},
   "source": [
    "### To get a closer look at the observations, load the filtered data frame and display the movies. "
   ]
  },
  {
   "cell_type": "code",
   "execution_count": null,
   "metadata": {},
   "outputs": [],
   "source": [
    "# Read the new dataframe\n",
    "df_new = pd.read_csv('../data/la_palma_query.csv')\n",
    "\n",
    "# Read the date_time column as datetime\n",
    "df_new['date_time'] = pd.to_datetime(df_new['date_time'])\n",
    "\n",
    "# List of columns to convert from strings to lists\n",
    "columns_to_convert = ['links', 'video_links', 'image_links', 'instruments']\n",
    "\n",
    "# Convert the strings in each column back to lists\n",
    "for col in columns_to_convert:\n",
    "    df_new[col] = df_new[col].apply(lambda x: x.split(';') if isinstance(x, str) else [])\n",
    "\n",
    "# List of columns to convert from NaN to None \n",
    "columns_to_convert = ['comments', 'polarimetry', 'target']\n",
    "\n",
    "# Convert the NaNs in each column back to None\n",
    "for col in columns_to_convert:\n",
    "    df_new[col] = df_new[col].apply(lambda x: None if pd.isna(x) else x)\n",
    "\n",
    "# Convert the 'polarimetry' column to string \n",
    "df_new['polarimetry'] = df_new['polarimetry'].apply(lambda x: str(x))\n",
    "\n",
    "df_new.info()"
   ]
  },
  {
   "cell_type": "code",
   "execution_count": null,
   "metadata": {},
   "outputs": [],
   "source": [
    "movie = su.VideoSelector2(df_new, ['target', 'instruments', 'polarimetry', 'comments'])\n",
    "movie.create_widget()"
   ]
  },
  {
   "attachments": {},
   "cell_type": "markdown",
   "metadata": {},
   "source": [
    "#### Contact RoCS for the observations you would like. "
   ]
  },
  {
   "attachments": {},
   "cell_type": "markdown",
   "metadata": {},
   "source": []
  }
 ],
 "metadata": {
  "kernelspec": {
   "display_name": "Python 3",
   "language": "python",
   "name": "python3"
  },
  "language_info": {
   "codemirror_mode": {
    "name": "ipython",
    "version": 3
   },
   "file_extension": ".py",
   "mimetype": "text/x-python",
   "name": "python",
   "nbconvert_exporter": "python",
   "pygments_lexer": "ipython3",
   "version": "3.11.0"
  },
  "orig_nbformat": 4
 },
 "nbformat": 4,
 "nbformat_minor": 2
}
