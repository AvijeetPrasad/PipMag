{
 "cells": [
  {
   "cell_type": "code",
   "execution_count": 1,
   "metadata": {},
   "outputs": [],
   "source": [
    "import pandas as pd\n",
    "import ipywidgets as widgets\n",
    "from IPython.display import display, clear_output\n",
    "from pipmag import selector_utils as su"
   ]
  },
  {
   "cell_type": "code",
   "execution_count": 2,
   "metadata": {},
   "outputs": [],
   "source": [
    "# get the latest csv file\n",
    "la_palma_obs_data_file = '../data/la_palma_obs_data.csv'"
   ]
  },
  {
   "cell_type": "code",
   "execution_count": 3,
   "metadata": {},
   "outputs": [],
   "source": [
    "# Load the DataFrame from the CSV file\n",
    "df = pd.read_csv(la_palma_obs_data_file)"
   ]
  },
  {
   "cell_type": "code",
   "execution_count": 6,
   "metadata": {},
   "outputs": [],
   "source": [
    "# List of columns to convert from NaN to None \n",
    "columns_to_convert = ['comments', 'polarimetry', 'target']\n",
    "\n",
    "# Convert the NaNs in each column back to None\n",
    "for col in columns_to_convert:\n",
    "    df[col] = df[col].apply(lambda x: 'None' if pd.isna(x) else x)"
   ]
  },
  {
   "cell_type": "code",
   "execution_count": 7,
   "metadata": {},
   "outputs": [
    {
     "data": {
      "application/vnd.jupyter.widget-view+json": {
       "model_id": "9ae90fb8ac79498291b1a97ce0dc3b82",
       "version_major": 2,
       "version_minor": 0
      },
      "text/plain": [
       "SelectMultiple(description='Instruments:', layout=Layout(width='300px'), options=('CRISP', 'IRIS', 'CHROMIS'),…"
      ]
     },
     "metadata": {},
     "output_type": "display_data"
    },
    {
     "data": {
      "application/vnd.jupyter.widget-view+json": {
       "model_id": "3ce3c06f02404f76beb782942261b041",
       "version_major": 2,
       "version_minor": 0
      },
      "text/plain": [
       "DatePicker(value=None, description='Start Date:')"
      ]
     },
     "metadata": {},
     "output_type": "display_data"
    },
    {
     "data": {
      "application/vnd.jupyter.widget-view+json": {
       "model_id": "bcab8ed855ea43bd8ee8280b715dd351",
       "version_major": 2,
       "version_minor": 0
      },
      "text/plain": [
       "DatePicker(value=None, description='End Date:')"
      ]
     },
     "metadata": {},
     "output_type": "display_data"
    },
    {
     "data": {
      "application/vnd.jupyter.widget-view+json": {
       "model_id": "c448ac397ab84fc19539027cef3e18f8",
       "version_major": 2,
       "version_minor": 0
      },
      "text/plain": [
       "Text(value='00:00', description='Start Time:')"
      ]
     },
     "metadata": {},
     "output_type": "display_data"
    },
    {
     "data": {
      "application/vnd.jupyter.widget-view+json": {
       "model_id": "d8a2c0f3f3fe40f29e6206cbcff4bdde",
       "version_major": 2,
       "version_minor": 0
      },
      "text/plain": [
       "Text(value='23:59', description='End Time:')"
      ]
     },
     "metadata": {},
     "output_type": "display_data"
    },
    {
     "data": {
      "application/vnd.jupyter.widget-view+json": {
       "model_id": "0d3f73cebf87438095050fce63847e2b",
       "version_major": 2,
       "version_minor": 0
      },
      "text/plain": [
       "Dropdown(description='Select Target:', layout=Layout(width='200px'), options=('Spicules', 'Flare', 'None', 'Ac…"
      ]
     },
     "metadata": {},
     "output_type": "display_data"
    },
    {
     "data": {
      "application/vnd.jupyter.widget-view+json": {
       "model_id": "5e62835ba70142dca20f4207c9a47564",
       "version_major": 2,
       "version_minor": 0
      },
      "text/plain": [
       "Button(description='Search Data', style=ButtonStyle())"
      ]
     },
     "metadata": {},
     "output_type": "display_data"
    },
    {
     "data": {
      "application/vnd.jupyter.widget-view+json": {
       "model_id": "7f7fdf88b0664c508f277c80738e5643",
       "version_major": 2,
       "version_minor": 0
      },
      "text/plain": [
       "Output()"
      ]
     },
     "metadata": {},
     "output_type": "display_data"
    }
   ],
   "source": [
    "query = su.Query(df)\n",
    "query.create_widget()"
   ]
  },
  {
   "cell_type": "code",
   "execution_count": 6,
   "metadata": {},
   "outputs": [],
   "source": [
    "# #ISSUE: date_time and time keywords are not working\n",
    "\n",
    "\n",
    "# ## OLD CODE FOR HANDLING DATES AND TIMES ## \n",
    "\n",
    "# # Function to filter available dates based on selected instruments, start date, end date, start time, and end time\n",
    "# def filter_dates(instruments, start_date, end_date, start_time, end_time):\n",
    "#     df_filtered = self.df\n",
    "\n",
    "#     if instruments:\n",
    "#         df_filtered = df_filtered[df_filtered['instruments'].apply(lambda x: any(item in instruments for item in x.split(';')))]\n",
    "#     if start_date:\n",
    "#         df_filtered = df_filtered[pd.to_datetime(df_filtered['date_time']).dt.date >= pd.to_datetime(start_date).date()]\n",
    "#     if end_date:\n",
    "#         df_filtered = df_filtered[pd.to_datetime(df_filtered['date_time']).dt.date <= pd.to_datetime(end_date).date()]\n",
    "#     if start_time:\n",
    "#         df_filtered = df_filtered[pd.to_datetime(df_filtered['time']).dt.time >= pd.to_datetime(start_time).time()]\n",
    "#     if end_time:\n",
    "#         df_filtered = df_filtered[pd.to_datetime(df_filtered['time']).dt.time <= pd.to_datetime(end_time).time()]\n",
    "#     return df_filtered['time'].dropna().unique()\n"
   ]
  }
 ],
 "metadata": {
  "kernelspec": {
   "display_name": "Python 3",
   "language": "python",
   "name": "python3"
  },
  "language_info": {
   "codemirror_mode": {
    "name": "ipython",
    "version": 3
   },
   "file_extension": ".py",
   "mimetype": "text/x-python",
   "name": "python",
   "nbconvert_exporter": "python",
   "pygments_lexer": "ipython3",
   "version": "3.10.6"
  },
  "orig_nbformat": 4
 },
 "nbformat": 4,
 "nbformat_minor": 2
}
