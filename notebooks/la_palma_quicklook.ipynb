{
 "cells": [
  {
   "cell_type": "code",
   "execution_count": 555,
   "metadata": {},
   "outputs": [],
   "source": [
    "# import libraries related to querying links and downloading files from the web\n",
    "import pandas as pd\n",
    "from pipmag import selector_utils as su\n",
    "from pipmag import ads_utils as ads\n",
    "# If you get the error ModuleNotFoundError: No module named 'pipmag', run the following line and restart the kernel:\n",
    "# %pip install -e .."
   ]
  },
  {
   "cell_type": "code",
   "execution_count": 556,
   "metadata": {},
   "outputs": [],
   "source": [
    "# get the latest csv file\n",
    "la_palma_obs_data_file = '../data/la_palma_obs_data.csv'"
   ]
  },
  {
   "cell_type": "code",
   "execution_count": 557,
   "metadata": {},
   "outputs": [],
   "source": [
    "# Load the DataFrame from the CSV file\n",
    "df = pd.read_csv(la_palma_obs_data_file)"
   ]
  },
  {
   "cell_type": "code",
   "execution_count": 558,
   "metadata": {},
   "outputs": [
    {
     "name": "stdout",
     "output_type": "stream",
     "text": [
      "<class 'pandas.core.frame.DataFrame'>\n",
      "RangeIndex: 666 entries, 0 to 665\n",
      "Data columns (total 13 columns):\n",
      " #   Column       Non-Null Count  Dtype         \n",
      "---  ------       --------------  -----         \n",
      " 0   date_time    666 non-null    datetime64[ns]\n",
      " 1   year         666 non-null    int64         \n",
      " 2   month        666 non-null    int64         \n",
      " 3   day          666 non-null    int64         \n",
      " 4   time         666 non-null    object        \n",
      " 5   instruments  666 non-null    object        \n",
      " 6   target       0 non-null      object        \n",
      " 7   comments     0 non-null      object        \n",
      " 8   video_links  666 non-null    object        \n",
      " 9   image_links  666 non-null    object        \n",
      " 10  links        666 non-null    object        \n",
      " 11  num_links    666 non-null    int64         \n",
      " 12  polarimetry  1 non-null      object        \n",
      "dtypes: datetime64[ns](1), int64(4), object(8)\n",
      "memory usage: 67.8+ KB\n"
     ]
    }
   ],
   "source": [
    "# Read the date_time column as datetime\n",
    "df['date_time'] = pd.to_datetime(df['date_time'])\n",
    "\n",
    "# List of columns to convert from strings to lists\n",
    "columns_to_convert = ['links', 'video_links', 'image_links', 'instruments']\n",
    "\n",
    "# Convert the strings in each column back to lists\n",
    "for col in columns_to_convert:\n",
    "    df[col] = df[col].apply(lambda x: x.split(';') if isinstance(x, str) else [])\n",
    "\n",
    "# List of columns to convert from NaN to None \n",
    "columns_to_convert = ['comments', 'target', 'polarimetry']\n",
    "\n",
    "# Convert the NaNs in each column back to None\n",
    "for col in columns_to_convert:\n",
    "    df[col] = df[col].apply(lambda x: None if pd.isna(x) else x)\n",
    "\n",
    "df.info()"
   ]
  },
  {
   "cell_type": "code",
   "execution_count": 559,
   "metadata": {},
   "outputs": [
    {
     "data": {
      "text/html": [
       "<div>\n",
       "<style scoped>\n",
       "    .dataframe tbody tr th:only-of-type {\n",
       "        vertical-align: middle;\n",
       "    }\n",
       "\n",
       "    .dataframe tbody tr th {\n",
       "        vertical-align: top;\n",
       "    }\n",
       "\n",
       "    .dataframe thead th {\n",
       "        text-align: right;\n",
       "    }\n",
       "</style>\n",
       "<table border=\"1\" class=\"dataframe\">\n",
       "  <thead>\n",
       "    <tr style=\"text-align: right;\">\n",
       "      <th></th>\n",
       "      <th>date_time</th>\n",
       "      <th>year</th>\n",
       "      <th>month</th>\n",
       "      <th>day</th>\n",
       "      <th>time</th>\n",
       "      <th>instruments</th>\n",
       "      <th>target</th>\n",
       "      <th>comments</th>\n",
       "      <th>video_links</th>\n",
       "      <th>image_links</th>\n",
       "      <th>links</th>\n",
       "      <th>num_links</th>\n",
       "      <th>polarimetry</th>\n",
       "    </tr>\n",
       "  </thead>\n",
       "  <tbody>\n",
       "    <tr>\n",
       "      <th>0</th>\n",
       "      <td>2013-06-30 09:15:50</td>\n",
       "      <td>2013</td>\n",
       "      <td>6</td>\n",
       "      <td>30</td>\n",
       "      <td>09:15:50</td>\n",
       "      <td>[CRISP]</td>\n",
       "      <td>None</td>\n",
       "      <td>None</td>\n",
       "      <td>[http://tsih3.uio.no/lapalma/2013/2013-06-30//...</td>\n",
       "      <td>[]</td>\n",
       "      <td>[http://tsih3.uio.no/lapalma/2013/2013-06-30//...</td>\n",
       "      <td>3</td>\n",
       "      <td>False</td>\n",
       "    </tr>\n",
       "    <tr>\n",
       "      <th>1</th>\n",
       "      <td>2014-09-09 07:59:43</td>\n",
       "      <td>2014</td>\n",
       "      <td>9</td>\n",
       "      <td>9</td>\n",
       "      <td>07:59:43</td>\n",
       "      <td>[CRISP, IRIS]</td>\n",
       "      <td>None</td>\n",
       "      <td>None</td>\n",
       "      <td>[http://tsih3.uio.no/lapalma/2014/2014-09-09//...</td>\n",
       "      <td>[]</td>\n",
       "      <td>[http://tsih3.uio.no/lapalma/2014/2014-09-09//...</td>\n",
       "      <td>2</td>\n",
       "      <td>None</td>\n",
       "    </tr>\n",
       "    <tr>\n",
       "      <th>2</th>\n",
       "      <td>2014-09-09 08:13:40</td>\n",
       "      <td>2014</td>\n",
       "      <td>9</td>\n",
       "      <td>9</td>\n",
       "      <td>08:13:40</td>\n",
       "      <td>[CRISP, IRIS]</td>\n",
       "      <td>None</td>\n",
       "      <td>None</td>\n",
       "      <td>[http://tsih3.uio.no/lapalma/2014/2014-09-09//...</td>\n",
       "      <td>[]</td>\n",
       "      <td>[http://tsih3.uio.no/lapalma/2014/2014-09-09//...</td>\n",
       "      <td>3</td>\n",
       "      <td>None</td>\n",
       "    </tr>\n",
       "    <tr>\n",
       "      <th>3</th>\n",
       "      <td>2014-09-09 08:42:38</td>\n",
       "      <td>2014</td>\n",
       "      <td>9</td>\n",
       "      <td>9</td>\n",
       "      <td>08:42:38</td>\n",
       "      <td>[CRISP, IRIS]</td>\n",
       "      <td>None</td>\n",
       "      <td>None</td>\n",
       "      <td>[http://tsih3.uio.no/lapalma/2014/2014-09-09//...</td>\n",
       "      <td>[]</td>\n",
       "      <td>[http://tsih3.uio.no/lapalma/2014/2014-09-09//...</td>\n",
       "      <td>2</td>\n",
       "      <td>None</td>\n",
       "    </tr>\n",
       "    <tr>\n",
       "      <th>4</th>\n",
       "      <td>2014-09-15 07:49:41</td>\n",
       "      <td>2014</td>\n",
       "      <td>9</td>\n",
       "      <td>15</td>\n",
       "      <td>07:49:41</td>\n",
       "      <td>[CRISP, IRIS]</td>\n",
       "      <td>None</td>\n",
       "      <td>None</td>\n",
       "      <td>[http://tsih3.uio.no/lapalma/2014/2014-09-15//...</td>\n",
       "      <td>[]</td>\n",
       "      <td>[http://tsih3.uio.no/lapalma/2014/2014-09-15//...</td>\n",
       "      <td>1</td>\n",
       "      <td>None</td>\n",
       "    </tr>\n",
       "  </tbody>\n",
       "</table>\n",
       "</div>"
      ],
      "text/plain": [
       "            date_time  year  month  day      time    instruments target  \\\n",
       "0 2013-06-30 09:15:50  2013      6   30  09:15:50        [CRISP]   None   \n",
       "1 2014-09-09 07:59:43  2014      9    9  07:59:43  [CRISP, IRIS]   None   \n",
       "2 2014-09-09 08:13:40  2014      9    9  08:13:40  [CRISP, IRIS]   None   \n",
       "3 2014-09-09 08:42:38  2014      9    9  08:42:38  [CRISP, IRIS]   None   \n",
       "4 2014-09-15 07:49:41  2014      9   15  07:49:41  [CRISP, IRIS]   None   \n",
       "\n",
       "  comments                                        video_links image_links  \\\n",
       "0     None  [http://tsih3.uio.no/lapalma/2013/2013-06-30//...          []   \n",
       "1     None  [http://tsih3.uio.no/lapalma/2014/2014-09-09//...          []   \n",
       "2     None  [http://tsih3.uio.no/lapalma/2014/2014-09-09//...          []   \n",
       "3     None  [http://tsih3.uio.no/lapalma/2014/2014-09-09//...          []   \n",
       "4     None  [http://tsih3.uio.no/lapalma/2014/2014-09-15//...          []   \n",
       "\n",
       "                                               links  num_links polarimetry  \n",
       "0  [http://tsih3.uio.no/lapalma/2013/2013-06-30//...          3       False  \n",
       "1  [http://tsih3.uio.no/lapalma/2014/2014-09-09//...          2        None  \n",
       "2  [http://tsih3.uio.no/lapalma/2014/2014-09-09//...          3        None  \n",
       "3  [http://tsih3.uio.no/lapalma/2014/2014-09-09//...          2        None  \n",
       "4  [http://tsih3.uio.no/lapalma/2014/2014-09-15//...          1        None  "
      ]
     },
     "execution_count": 559,
     "metadata": {},
     "output_type": "execute_result"
    }
   ],
   "source": [
    "df.head()"
   ]
  },
  {
   "cell_type": "code",
   "execution_count": 560,
   "metadata": {},
   "outputs": [
    {
     "data": {
      "application/vnd.jupyter.widget-view+json": {
       "model_id": "c594b1781a99433f85cb3027fe5be021",
       "version_major": 2,
       "version_minor": 0
      },
      "text/plain": [
       "Dropdown(description='Year:', options=(2013, 2014, 2015, 2016, 2017, 2018, 2019, 2020, 2021, 2022, 2023), valu…"
      ]
     },
     "metadata": {},
     "output_type": "display_data"
    },
    {
     "data": {
      "application/vnd.jupyter.widget-view+json": {
       "model_id": "702a8cfb99d745f4943bfc22c06ee5bb",
       "version_major": 2,
       "version_minor": 0
      },
      "text/plain": [
       "Dropdown(description='Month:', options=(), value=None)"
      ]
     },
     "metadata": {},
     "output_type": "display_data"
    },
    {
     "data": {
      "application/vnd.jupyter.widget-view+json": {
       "model_id": "09aacc211a344a518a5479355dc4b489",
       "version_major": 2,
       "version_minor": 0
      },
      "text/plain": [
       "Dropdown(description='Day:', options=(), value=None)"
      ]
     },
     "metadata": {},
     "output_type": "display_data"
    },
    {
     "data": {
      "application/vnd.jupyter.widget-view+json": {
       "model_id": "f045c67f96d94c6ab1132adfc9d8604f",
       "version_major": 2,
       "version_minor": 0
      },
      "text/plain": [
       "Dropdown(description='Time:', options=(), value=None)"
      ]
     },
     "metadata": {},
     "output_type": "display_data"
    },
    {
     "data": {
      "application/vnd.jupyter.widget-view+json": {
       "model_id": "d9e6cf61073246239c0c2f9349dd2de6",
       "version_major": 2,
       "version_minor": 0
      },
      "text/plain": [
       "Dropdown(description='Links:', options=(), value=None)"
      ]
     },
     "metadata": {},
     "output_type": "display_data"
    },
    {
     "data": {
      "application/vnd.jupyter.widget-view+json": {
       "model_id": "3be5cb33978542088b7053eaef59afb9",
       "version_major": 2,
       "version_minor": 0
      },
      "text/plain": [
       "Button(description='Show', style=ButtonStyle())"
      ]
     },
     "metadata": {},
     "output_type": "display_data"
    },
    {
     "data": {
      "application/vnd.jupyter.widget-view+json": {
       "model_id": "e7dd8e87be0e47a29a18c92253460ed8",
       "version_major": 2,
       "version_minor": 0
      },
      "text/plain": [
       "Output()"
      ]
     },
     "metadata": {},
     "output_type": "display_data"
    },
    {
     "data": {
      "application/vnd.jupyter.widget-view+json": {
       "model_id": "b557308c410e43078421975c7a5d9244",
       "version_major": 2,
       "version_minor": 0
      },
      "text/plain": [
       "Button(description='Update', style=ButtonStyle())"
      ]
     },
     "metadata": {},
     "output_type": "display_data"
    },
    {
     "data": {
      "application/vnd.jupyter.widget-view+json": {
       "model_id": "73b2e64dcbe040d48d552c40fa41bd14",
       "version_major": 2,
       "version_minor": 0
      },
      "text/plain": [
       "Text(value='', description='target:')"
      ]
     },
     "metadata": {},
     "output_type": "display_data"
    },
    {
     "data": {
      "application/vnd.jupyter.widget-view+json": {
       "model_id": "0e67a989bd4545828024bc431255b740",
       "version_major": 2,
       "version_minor": 0
      },
      "text/plain": [
       "Text(value='', description='instruments:')"
      ]
     },
     "metadata": {},
     "output_type": "display_data"
    },
    {
     "data": {
      "application/vnd.jupyter.widget-view+json": {
       "model_id": "aa0fe3209a0d43ebb568a4fbeee0120f",
       "version_major": 2,
       "version_minor": 0
      },
      "text/plain": [
       "Text(value='', description='polarimetry:')"
      ]
     },
     "metadata": {},
     "output_type": "display_data"
    },
    {
     "data": {
      "application/vnd.jupyter.widget-view+json": {
       "model_id": "e3f7583a637241ad93524bada0d128ad",
       "version_major": 2,
       "version_minor": 0
      },
      "text/plain": [
       "Text(value='', description='comments:')"
      ]
     },
     "metadata": {},
     "output_type": "display_data"
    },
    {
     "data": {
      "application/vnd.jupyter.widget-view+json": {
       "model_id": "b557308c410e43078421975c7a5d9244",
       "version_major": 2,
       "version_minor": 0
      },
      "text/plain": [
       "Button(description='Update', style=ButtonStyle())"
      ]
     },
     "metadata": {},
     "output_type": "display_data"
    }
   ],
   "source": [
    "# create a widget to display movies based on year, month, day and time\n",
    "# and to update the target, instrumnets and comments columns of the dataframe\n",
    "selector = su.VideoSelector2(df, ['target', 'instruments', 'polarimetry', 'comments'])\n",
    "selector.create_widget()"
   ]
  },
  {
   "cell_type": "code",
   "execution_count": 561,
   "metadata": {},
   "outputs": [],
   "source": [
    "# # 🔍 ADS Search\n",
    "# index = 34\n",
    "# search = ads.ADS_Search(df)\n",
    "# search.get_results(index, pretty_print=True)"
   ]
  },
  {
   "cell_type": "code",
   "execution_count": 562,
   "metadata": {},
   "outputs": [
    {
     "name": "stderr",
     "output_type": "stream",
     "text": [
      "/tmp/ipykernel_5459/2237949957.py:1: SettingWithCopyWarning: \n",
      "A value is trying to be set on a copy of a slice from a DataFrame\n",
      "\n",
      "See the caveats in the documentation: https://pandas.pydata.org/pandas-docs/stable/user_guide/indexing.html#returning-a-view-versus-a-copy\n",
      "  df['polarimetry'][0] = False\n"
     ]
    },
    {
     "data": {
      "text/html": [
       "<div>\n",
       "<style scoped>\n",
       "    .dataframe tbody tr th:only-of-type {\n",
       "        vertical-align: middle;\n",
       "    }\n",
       "\n",
       "    .dataframe tbody tr th {\n",
       "        vertical-align: top;\n",
       "    }\n",
       "\n",
       "    .dataframe thead th {\n",
       "        text-align: right;\n",
       "    }\n",
       "</style>\n",
       "<table border=\"1\" class=\"dataframe\">\n",
       "  <thead>\n",
       "    <tr style=\"text-align: right;\">\n",
       "      <th></th>\n",
       "      <th>date_time</th>\n",
       "      <th>year</th>\n",
       "      <th>month</th>\n",
       "      <th>day</th>\n",
       "      <th>time</th>\n",
       "      <th>instruments</th>\n",
       "      <th>target</th>\n",
       "      <th>comments</th>\n",
       "      <th>video_links</th>\n",
       "      <th>image_links</th>\n",
       "      <th>links</th>\n",
       "      <th>num_links</th>\n",
       "      <th>polarimetry</th>\n",
       "    </tr>\n",
       "  </thead>\n",
       "  <tbody>\n",
       "    <tr>\n",
       "      <th>0</th>\n",
       "      <td>2013-06-30 09:15:50</td>\n",
       "      <td>2013</td>\n",
       "      <td>6</td>\n",
       "      <td>30</td>\n",
       "      <td>09:15:50</td>\n",
       "      <td>[CRISP]</td>\n",
       "      <td>None</td>\n",
       "      <td>None</td>\n",
       "      <td>[http://tsih3.uio.no/lapalma/2013/2013-06-30//...</td>\n",
       "      <td>[]</td>\n",
       "      <td>[http://tsih3.uio.no/lapalma/2013/2013-06-30//...</td>\n",
       "      <td>3</td>\n",
       "      <td>False</td>\n",
       "    </tr>\n",
       "    <tr>\n",
       "      <th>1</th>\n",
       "      <td>2014-09-09 07:59:43</td>\n",
       "      <td>2014</td>\n",
       "      <td>9</td>\n",
       "      <td>9</td>\n",
       "      <td>07:59:43</td>\n",
       "      <td>[CRISP, IRIS]</td>\n",
       "      <td>None</td>\n",
       "      <td>None</td>\n",
       "      <td>[http://tsih3.uio.no/lapalma/2014/2014-09-09//...</td>\n",
       "      <td>[]</td>\n",
       "      <td>[http://tsih3.uio.no/lapalma/2014/2014-09-09//...</td>\n",
       "      <td>2</td>\n",
       "      <td>None</td>\n",
       "    </tr>\n",
       "    <tr>\n",
       "      <th>2</th>\n",
       "      <td>2014-09-09 08:13:40</td>\n",
       "      <td>2014</td>\n",
       "      <td>9</td>\n",
       "      <td>9</td>\n",
       "      <td>08:13:40</td>\n",
       "      <td>[CRISP, IRIS]</td>\n",
       "      <td>None</td>\n",
       "      <td>None</td>\n",
       "      <td>[http://tsih3.uio.no/lapalma/2014/2014-09-09//...</td>\n",
       "      <td>[]</td>\n",
       "      <td>[http://tsih3.uio.no/lapalma/2014/2014-09-09//...</td>\n",
       "      <td>3</td>\n",
       "      <td>None</td>\n",
       "    </tr>\n",
       "    <tr>\n",
       "      <th>3</th>\n",
       "      <td>2014-09-09 08:42:38</td>\n",
       "      <td>2014</td>\n",
       "      <td>9</td>\n",
       "      <td>9</td>\n",
       "      <td>08:42:38</td>\n",
       "      <td>[CRISP, IRIS]</td>\n",
       "      <td>None</td>\n",
       "      <td>None</td>\n",
       "      <td>[http://tsih3.uio.no/lapalma/2014/2014-09-09//...</td>\n",
       "      <td>[]</td>\n",
       "      <td>[http://tsih3.uio.no/lapalma/2014/2014-09-09//...</td>\n",
       "      <td>2</td>\n",
       "      <td>None</td>\n",
       "    </tr>\n",
       "    <tr>\n",
       "      <th>4</th>\n",
       "      <td>2014-09-15 07:49:41</td>\n",
       "      <td>2014</td>\n",
       "      <td>9</td>\n",
       "      <td>15</td>\n",
       "      <td>07:49:41</td>\n",
       "      <td>[CRISP, IRIS]</td>\n",
       "      <td>None</td>\n",
       "      <td>None</td>\n",
       "      <td>[http://tsih3.uio.no/lapalma/2014/2014-09-15//...</td>\n",
       "      <td>[]</td>\n",
       "      <td>[http://tsih3.uio.no/lapalma/2014/2014-09-15//...</td>\n",
       "      <td>1</td>\n",
       "      <td>None</td>\n",
       "    </tr>\n",
       "  </tbody>\n",
       "</table>\n",
       "</div>"
      ],
      "text/plain": [
       "            date_time  year  month  day      time    instruments target  \\\n",
       "0 2013-06-30 09:15:50  2013      6   30  09:15:50        [CRISP]   None   \n",
       "1 2014-09-09 07:59:43  2014      9    9  07:59:43  [CRISP, IRIS]   None   \n",
       "2 2014-09-09 08:13:40  2014      9    9  08:13:40  [CRISP, IRIS]   None   \n",
       "3 2014-09-09 08:42:38  2014      9    9  08:42:38  [CRISP, IRIS]   None   \n",
       "4 2014-09-15 07:49:41  2014      9   15  07:49:41  [CRISP, IRIS]   None   \n",
       "\n",
       "  comments                                        video_links image_links  \\\n",
       "0     None  [http://tsih3.uio.no/lapalma/2013/2013-06-30//...          []   \n",
       "1     None  [http://tsih3.uio.no/lapalma/2014/2014-09-09//...          []   \n",
       "2     None  [http://tsih3.uio.no/lapalma/2014/2014-09-09//...          []   \n",
       "3     None  [http://tsih3.uio.no/lapalma/2014/2014-09-09//...          []   \n",
       "4     None  [http://tsih3.uio.no/lapalma/2014/2014-09-15//...          []   \n",
       "\n",
       "                                               links  num_links polarimetry  \n",
       "0  [http://tsih3.uio.no/lapalma/2013/2013-06-30//...          3       False  \n",
       "1  [http://tsih3.uio.no/lapalma/2014/2014-09-09//...          2        None  \n",
       "2  [http://tsih3.uio.no/lapalma/2014/2014-09-09//...          3        None  \n",
       "3  [http://tsih3.uio.no/lapalma/2014/2014-09-09//...          2        None  \n",
       "4  [http://tsih3.uio.no/lapalma/2014/2014-09-15//...          1        None  "
      ]
     },
     "execution_count": 562,
     "metadata": {},
     "output_type": "execute_result"
    }
   ],
   "source": [
    "df['polarimetry'][0] = False\n",
    "df.head()"
   ]
  },
  {
   "cell_type": "code",
   "execution_count": 563,
   "metadata": {},
   "outputs": [],
   "source": [
    "# List of columns to convert from lists to strings\n",
    "# columns_to_convert = ['links', 'video_links', 'image_links', 'instruments']\n",
    "# for col in columns_to_convert:\n",
    "#     df[col] = df[col].apply(lambda x: ';'.join(x))\n",
    "\n",
    "# save the updated dataframe as a .csv file\n",
    "# df.to_csv(la_palma_obs_data_file, index=False)"
   ]
  },
  {
   "cell_type": "code",
   "execution_count": 564,
   "metadata": {},
   "outputs": [],
   "source": [
    "def add_dataframes(new_df):\n",
    "    \"\"\"\n",
    "    Add a potential new DataFrame to the old DataFrame file without losing any data.\n",
    "    \"\"\"\n",
    "    # Load the existing .csv file as a dataframe\n",
    "    existing_df = pd.read_csv('../data/la_palma_obs_data.csv')\n",
    "\n",
    "    # Read the date_time column as datetime\n",
    "    existing_df['date_time'] = pd.to_datetime(existing_df['date_time'])\n",
    "\n",
    "    # Concatenate the existing dataframe and the new dataframe\n",
    "    df3 = pd.concat([existing_df, new_df])\n",
    "    df3.drop_duplicates(subset=['date_time'], inplace=True, keep='last')\n",
    "\n",
    "    return df3 \n",
    "\n",
    "df3 = add_dataframes(df)\n",
    "\n",
    "# List of columns to convert from lists to strings\n",
    "columns_to_convert = ['links', 'video_links', 'image_links', 'instruments']\n",
    "for col in columns_to_convert:\n",
    "    df3[col] = df3[col].apply(lambda x: ';'.join(x))\n",
    "\n",
    "df3.to_csv(la_palma_obs_data_file, index=False)"
   ]
  },
  {
   "cell_type": "code",
   "execution_count": 565,
   "metadata": {},
   "outputs": [
    {
     "data": {
      "text/html": [
       "<div>\n",
       "<style scoped>\n",
       "    .dataframe tbody tr th:only-of-type {\n",
       "        vertical-align: middle;\n",
       "    }\n",
       "\n",
       "    .dataframe tbody tr th {\n",
       "        vertical-align: top;\n",
       "    }\n",
       "\n",
       "    .dataframe thead th {\n",
       "        text-align: right;\n",
       "    }\n",
       "</style>\n",
       "<table border=\"1\" class=\"dataframe\">\n",
       "  <thead>\n",
       "    <tr style=\"text-align: right;\">\n",
       "      <th></th>\n",
       "      <th>date_time</th>\n",
       "      <th>year</th>\n",
       "      <th>month</th>\n",
       "      <th>day</th>\n",
       "      <th>time</th>\n",
       "      <th>instruments</th>\n",
       "      <th>target</th>\n",
       "      <th>comments</th>\n",
       "      <th>video_links</th>\n",
       "      <th>image_links</th>\n",
       "      <th>links</th>\n",
       "      <th>num_links</th>\n",
       "      <th>polarimetry</th>\n",
       "    </tr>\n",
       "  </thead>\n",
       "  <tbody>\n",
       "    <tr>\n",
       "      <th>0</th>\n",
       "      <td>2013-06-30 09:15:50</td>\n",
       "      <td>2013</td>\n",
       "      <td>6</td>\n",
       "      <td>30</td>\n",
       "      <td>09:15:50</td>\n",
       "      <td>CRISP</td>\n",
       "      <td>None</td>\n",
       "      <td>None</td>\n",
       "      <td>http://tsih3.uio.no/lapalma/2013/2013-06-30//....</td>\n",
       "      <td></td>\n",
       "      <td>http://tsih3.uio.no/lapalma/2013/2013-06-30//....</td>\n",
       "      <td>3</td>\n",
       "      <td>False</td>\n",
       "    </tr>\n",
       "    <tr>\n",
       "      <th>1</th>\n",
       "      <td>2014-09-09 07:59:43</td>\n",
       "      <td>2014</td>\n",
       "      <td>9</td>\n",
       "      <td>9</td>\n",
       "      <td>07:59:43</td>\n",
       "      <td>CRISP;IRIS</td>\n",
       "      <td>None</td>\n",
       "      <td>None</td>\n",
       "      <td>http://tsih3.uio.no/lapalma/2014/2014-09-09//h...</td>\n",
       "      <td></td>\n",
       "      <td>http://tsih3.uio.no/lapalma/2014/2014-09-09//h...</td>\n",
       "      <td>2</td>\n",
       "      <td>None</td>\n",
       "    </tr>\n",
       "    <tr>\n",
       "      <th>2</th>\n",
       "      <td>2014-09-09 08:13:40</td>\n",
       "      <td>2014</td>\n",
       "      <td>9</td>\n",
       "      <td>9</td>\n",
       "      <td>08:13:40</td>\n",
       "      <td>CRISP;IRIS</td>\n",
       "      <td>None</td>\n",
       "      <td>None</td>\n",
       "      <td>http://tsih3.uio.no/lapalma/2014/2014-09-09//h...</td>\n",
       "      <td></td>\n",
       "      <td>http://tsih3.uio.no/lapalma/2014/2014-09-09//h...</td>\n",
       "      <td>3</td>\n",
       "      <td>None</td>\n",
       "    </tr>\n",
       "    <tr>\n",
       "      <th>3</th>\n",
       "      <td>2014-09-09 08:42:38</td>\n",
       "      <td>2014</td>\n",
       "      <td>9</td>\n",
       "      <td>9</td>\n",
       "      <td>08:42:38</td>\n",
       "      <td>CRISP;IRIS</td>\n",
       "      <td>None</td>\n",
       "      <td>None</td>\n",
       "      <td>http://tsih3.uio.no/lapalma/2014/2014-09-09//s...</td>\n",
       "      <td></td>\n",
       "      <td>http://tsih3.uio.no/lapalma/2014/2014-09-09//s...</td>\n",
       "      <td>2</td>\n",
       "      <td>None</td>\n",
       "    </tr>\n",
       "    <tr>\n",
       "      <th>4</th>\n",
       "      <td>2014-09-15 07:49:41</td>\n",
       "      <td>2014</td>\n",
       "      <td>9</td>\n",
       "      <td>15</td>\n",
       "      <td>07:49:41</td>\n",
       "      <td>CRISP;IRIS</td>\n",
       "      <td>None</td>\n",
       "      <td>None</td>\n",
       "      <td>http://tsih3.uio.no/lapalma/2014/2014-09-15//h...</td>\n",
       "      <td></td>\n",
       "      <td>http://tsih3.uio.no/lapalma/2014/2014-09-15//h...</td>\n",
       "      <td>1</td>\n",
       "      <td>None</td>\n",
       "    </tr>\n",
       "  </tbody>\n",
       "</table>\n",
       "</div>"
      ],
      "text/plain": [
       "            date_time  year  month  day      time instruments target comments  \\\n",
       "0 2013-06-30 09:15:50  2013      6   30  09:15:50       CRISP   None     None   \n",
       "1 2014-09-09 07:59:43  2014      9    9  07:59:43  CRISP;IRIS   None     None   \n",
       "2 2014-09-09 08:13:40  2014      9    9  08:13:40  CRISP;IRIS   None     None   \n",
       "3 2014-09-09 08:42:38  2014      9    9  08:42:38  CRISP;IRIS   None     None   \n",
       "4 2014-09-15 07:49:41  2014      9   15  07:49:41  CRISP;IRIS   None     None   \n",
       "\n",
       "                                         video_links image_links  \\\n",
       "0  http://tsih3.uio.no/lapalma/2013/2013-06-30//....               \n",
       "1  http://tsih3.uio.no/lapalma/2014/2014-09-09//h...               \n",
       "2  http://tsih3.uio.no/lapalma/2014/2014-09-09//h...               \n",
       "3  http://tsih3.uio.no/lapalma/2014/2014-09-09//s...               \n",
       "4  http://tsih3.uio.no/lapalma/2014/2014-09-15//h...               \n",
       "\n",
       "                                               links  num_links polarimetry  \n",
       "0  http://tsih3.uio.no/lapalma/2013/2013-06-30//....          3       False  \n",
       "1  http://tsih3.uio.no/lapalma/2014/2014-09-09//h...          2        None  \n",
       "2  http://tsih3.uio.no/lapalma/2014/2014-09-09//h...          3        None  \n",
       "3  http://tsih3.uio.no/lapalma/2014/2014-09-09//s...          2        None  \n",
       "4  http://tsih3.uio.no/lapalma/2014/2014-09-15//h...          1        None  "
      ]
     },
     "execution_count": 565,
     "metadata": {},
     "output_type": "execute_result"
    }
   ],
   "source": [
    "df3.head()"
   ]
  },
  {
   "cell_type": "code",
   "execution_count": 566,
   "metadata": {},
   "outputs": [
    {
     "data": {
      "text/html": [
       "<div>\n",
       "<style scoped>\n",
       "    .dataframe tbody tr th:only-of-type {\n",
       "        vertical-align: middle;\n",
       "    }\n",
       "\n",
       "    .dataframe tbody tr th {\n",
       "        vertical-align: top;\n",
       "    }\n",
       "\n",
       "    .dataframe thead th {\n",
       "        text-align: right;\n",
       "    }\n",
       "</style>\n",
       "<table border=\"1\" class=\"dataframe\">\n",
       "  <thead>\n",
       "    <tr style=\"text-align: right;\">\n",
       "      <th></th>\n",
       "      <th>date_time</th>\n",
       "      <th>year</th>\n",
       "      <th>month</th>\n",
       "      <th>day</th>\n",
       "      <th>time</th>\n",
       "      <th>instruments</th>\n",
       "      <th>target</th>\n",
       "      <th>comments</th>\n",
       "      <th>video_links</th>\n",
       "      <th>image_links</th>\n",
       "      <th>links</th>\n",
       "      <th>num_links</th>\n",
       "      <th>polarimetry</th>\n",
       "    </tr>\n",
       "  </thead>\n",
       "  <tbody>\n",
       "    <tr>\n",
       "      <th>0</th>\n",
       "      <td>2013-06-30 09:15:50</td>\n",
       "      <td>2013</td>\n",
       "      <td>6</td>\n",
       "      <td>30</td>\n",
       "      <td>09:15:50</td>\n",
       "      <td>[CRISP]</td>\n",
       "      <td>None</td>\n",
       "      <td>None</td>\n",
       "      <td>[http://tsih3.uio.no/lapalma/2013/2013-06-30//...</td>\n",
       "      <td>[]</td>\n",
       "      <td>[http://tsih3.uio.no/lapalma/2013/2013-06-30//...</td>\n",
       "      <td>3</td>\n",
       "      <td>False</td>\n",
       "    </tr>\n",
       "    <tr>\n",
       "      <th>1</th>\n",
       "      <td>2014-09-09 07:59:43</td>\n",
       "      <td>2014</td>\n",
       "      <td>9</td>\n",
       "      <td>9</td>\n",
       "      <td>07:59:43</td>\n",
       "      <td>[CRISP, IRIS]</td>\n",
       "      <td>None</td>\n",
       "      <td>None</td>\n",
       "      <td>[http://tsih3.uio.no/lapalma/2014/2014-09-09//...</td>\n",
       "      <td>[]</td>\n",
       "      <td>[http://tsih3.uio.no/lapalma/2014/2014-09-09//...</td>\n",
       "      <td>2</td>\n",
       "      <td>None</td>\n",
       "    </tr>\n",
       "    <tr>\n",
       "      <th>2</th>\n",
       "      <td>2014-09-09 08:13:40</td>\n",
       "      <td>2014</td>\n",
       "      <td>9</td>\n",
       "      <td>9</td>\n",
       "      <td>08:13:40</td>\n",
       "      <td>[CRISP, IRIS]</td>\n",
       "      <td>None</td>\n",
       "      <td>None</td>\n",
       "      <td>[http://tsih3.uio.no/lapalma/2014/2014-09-09//...</td>\n",
       "      <td>[]</td>\n",
       "      <td>[http://tsih3.uio.no/lapalma/2014/2014-09-09//...</td>\n",
       "      <td>3</td>\n",
       "      <td>None</td>\n",
       "    </tr>\n",
       "    <tr>\n",
       "      <th>3</th>\n",
       "      <td>2014-09-09 08:42:38</td>\n",
       "      <td>2014</td>\n",
       "      <td>9</td>\n",
       "      <td>9</td>\n",
       "      <td>08:42:38</td>\n",
       "      <td>[CRISP, IRIS]</td>\n",
       "      <td>None</td>\n",
       "      <td>None</td>\n",
       "      <td>[http://tsih3.uio.no/lapalma/2014/2014-09-09//...</td>\n",
       "      <td>[]</td>\n",
       "      <td>[http://tsih3.uio.no/lapalma/2014/2014-09-09//...</td>\n",
       "      <td>2</td>\n",
       "      <td>None</td>\n",
       "    </tr>\n",
       "    <tr>\n",
       "      <th>4</th>\n",
       "      <td>2014-09-15 07:49:41</td>\n",
       "      <td>2014</td>\n",
       "      <td>9</td>\n",
       "      <td>15</td>\n",
       "      <td>07:49:41</td>\n",
       "      <td>[CRISP, IRIS]</td>\n",
       "      <td>None</td>\n",
       "      <td>None</td>\n",
       "      <td>[http://tsih3.uio.no/lapalma/2014/2014-09-15//...</td>\n",
       "      <td>[]</td>\n",
       "      <td>[http://tsih3.uio.no/lapalma/2014/2014-09-15//...</td>\n",
       "      <td>1</td>\n",
       "      <td>None</td>\n",
       "    </tr>\n",
       "  </tbody>\n",
       "</table>\n",
       "</div>"
      ],
      "text/plain": [
       "            date_time  year  month  day      time    instruments target  \\\n",
       "0 2013-06-30 09:15:50  2013      6   30  09:15:50        [CRISP]   None   \n",
       "1 2014-09-09 07:59:43  2014      9    9  07:59:43  [CRISP, IRIS]   None   \n",
       "2 2014-09-09 08:13:40  2014      9    9  08:13:40  [CRISP, IRIS]   None   \n",
       "3 2014-09-09 08:42:38  2014      9    9  08:42:38  [CRISP, IRIS]   None   \n",
       "4 2014-09-15 07:49:41  2014      9   15  07:49:41  [CRISP, IRIS]   None   \n",
       "\n",
       "  comments                                        video_links image_links  \\\n",
       "0     None  [http://tsih3.uio.no/lapalma/2013/2013-06-30//...          []   \n",
       "1     None  [http://tsih3.uio.no/lapalma/2014/2014-09-09//...          []   \n",
       "2     None  [http://tsih3.uio.no/lapalma/2014/2014-09-09//...          []   \n",
       "3     None  [http://tsih3.uio.no/lapalma/2014/2014-09-09//...          []   \n",
       "4     None  [http://tsih3.uio.no/lapalma/2014/2014-09-15//...          []   \n",
       "\n",
       "                                               links  num_links polarimetry  \n",
       "0  [http://tsih3.uio.no/lapalma/2013/2013-06-30//...          3       False  \n",
       "1  [http://tsih3.uio.no/lapalma/2014/2014-09-09//...          2        None  \n",
       "2  [http://tsih3.uio.no/lapalma/2014/2014-09-09//...          3        None  \n",
       "3  [http://tsih3.uio.no/lapalma/2014/2014-09-09//...          2        None  \n",
       "4  [http://tsih3.uio.no/lapalma/2014/2014-09-15//...          1        None  "
      ]
     },
     "execution_count": 566,
     "metadata": {},
     "output_type": "execute_result"
    }
   ],
   "source": [
    "df.head()"
   ]
  },
  {
   "cell_type": "code",
   "execution_count": null,
   "metadata": {},
   "outputs": [],
   "source": []
  }
 ],
 "metadata": {
  "kernelspec": {
   "display_name": "pipmag",
   "language": "python",
   "name": "python3"
  },
  "language_info": {
   "codemirror_mode": {
    "name": "ipython",
    "version": 3
   },
   "file_extension": ".py",
   "mimetype": "text/x-python",
   "name": "python",
   "nbconvert_exporter": "python",
   "pygments_lexer": "ipython3",
   "version": "3.10.6"
  },
  "orig_nbformat": 4,
  "vscode": {
   "interpreter": {
    "hash": "ba2b68964390c77ef2e04277debd5475c8565a11fab30e531aaf9c5e1dfcc05e"
   }
  }
 },
 "nbformat": 4,
 "nbformat_minor": 2
}
