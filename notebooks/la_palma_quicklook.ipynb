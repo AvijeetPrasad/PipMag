{
 "cells": [
  {
   "cell_type": "code",
   "execution_count": 94,
   "metadata": {},
   "outputs": [],
   "source": [
    "# import libraries related to querying links and downloading files from the web\n",
    "import pandas as pd\n",
    "from pipmag import selector_utils as su\n",
    "from pipmag import ads_utils as ads\n",
    "# If you get the error ModuleNotFoundError: No module named 'pipmag', run the following line and restart the kernel:\n",
    "# %pip install -e .."
   ]
  },
  {
   "cell_type": "code",
   "execution_count": 95,
   "metadata": {},
   "outputs": [],
   "source": [
    "# get the latest csv file\n",
    "la_palma_obs_data_file = '../data/la_palma_obs_data.csv'"
   ]
  },
  {
   "cell_type": "code",
   "execution_count": 96,
   "metadata": {},
   "outputs": [],
   "source": [
    "# Load the DataFrame from the CSV file\n",
    "df = pd.read_csv(la_palma_obs_data_file)"
   ]
  },
  {
   "attachments": {},
   "cell_type": "markdown",
   "metadata": {},
   "source": [
    "Note to self: I think the lists are the problem. If we make all the comments etc into empty lists to be filled and treat them the same as the links, that might solve it. \n",
    "\n",
    "Yes, all the stuff where stuff should be added must be treated as a list with keywords. "
   ]
  },
  {
   "cell_type": "code",
   "execution_count": 97,
   "metadata": {},
   "outputs": [
    {
     "name": "stdout",
     "output_type": "stream",
     "text": [
      "<class 'pandas.core.frame.DataFrame'>\n",
      "RangeIndex: 666 entries, 0 to 665\n",
      "Data columns (total 13 columns):\n",
      " #   Column       Non-Null Count  Dtype         \n",
      "---  ------       --------------  -----         \n",
      " 0   date_time    666 non-null    datetime64[ns]\n",
      " 1   year         666 non-null    int64         \n",
      " 2   month        666 non-null    int64         \n",
      " 3   day          666 non-null    int64         \n",
      " 4   time         666 non-null    object        \n",
      " 5   instruments  666 non-null    object        \n",
      " 6   target       5 non-null      object        \n",
      " 7   comments     0 non-null      object        \n",
      " 8   video_links  666 non-null    object        \n",
      " 9   image_links  666 non-null    object        \n",
      " 10  links        666 non-null    object        \n",
      " 11  num_links    666 non-null    int64         \n",
      " 12  polarimetry  0 non-null      object        \n",
      "dtypes: datetime64[ns](1), int64(4), object(8)\n",
      "memory usage: 67.8+ KB\n"
     ]
    }
   ],
   "source": [
    "# Read the date_time column as datetime\n",
    "df['date_time'] = pd.to_datetime(df['date_time'])\n",
    "\n",
    "# List of columns to convert from strings to lists\n",
    "columns_to_convert = ['links', 'video_links', 'image_links', 'instruments']\n",
    "\n",
    "# Convert the strings in each column back to lists\n",
    "for col in columns_to_convert:\n",
    "    df[col] = df[col].apply(lambda x: x.split(';') if isinstance(x, str) else [])\n",
    "\n",
    "# List of columns to convert from NaN to None \n",
    "columns_to_convert = ['comments', 'polarimetry', 'target']\n",
    "\n",
    "# Convert the NaNs in each column back to None\n",
    "for col in columns_to_convert:\n",
    "    df[col] = df[col].apply(lambda x: None if pd.isna(x) else x)\n",
    "\n",
    "df.info()"
   ]
  },
  {
   "cell_type": "code",
   "execution_count": 98,
   "metadata": {},
   "outputs": [
    {
     "data": {
      "text/html": [
       "<div>\n",
       "<style scoped>\n",
       "    .dataframe tbody tr th:only-of-type {\n",
       "        vertical-align: middle;\n",
       "    }\n",
       "\n",
       "    .dataframe tbody tr th {\n",
       "        vertical-align: top;\n",
       "    }\n",
       "\n",
       "    .dataframe thead th {\n",
       "        text-align: right;\n",
       "    }\n",
       "</style>\n",
       "<table border=\"1\" class=\"dataframe\">\n",
       "  <thead>\n",
       "    <tr style=\"text-align: right;\">\n",
       "      <th></th>\n",
       "      <th>date_time</th>\n",
       "      <th>year</th>\n",
       "      <th>month</th>\n",
       "      <th>day</th>\n",
       "      <th>time</th>\n",
       "      <th>instruments</th>\n",
       "      <th>target</th>\n",
       "      <th>comments</th>\n",
       "      <th>video_links</th>\n",
       "      <th>image_links</th>\n",
       "      <th>links</th>\n",
       "      <th>num_links</th>\n",
       "      <th>polarimetry</th>\n",
       "    </tr>\n",
       "  </thead>\n",
       "  <tbody>\n",
       "    <tr>\n",
       "      <th>0</th>\n",
       "      <td>2013-06-30 09:15:50</td>\n",
       "      <td>2013</td>\n",
       "      <td>6</td>\n",
       "      <td>30</td>\n",
       "      <td>09:15:50</td>\n",
       "      <td>[CRISP,  IRIS]</td>\n",
       "      <td>Spicules</td>\n",
       "      <td>None</td>\n",
       "      <td>[http://tsih3.uio.no/lapalma/2013/2013-06-30//...</td>\n",
       "      <td>[]</td>\n",
       "      <td>[http://tsih3.uio.no/lapalma/2013/2013-06-30//...</td>\n",
       "      <td>3</td>\n",
       "      <td>None</td>\n",
       "    </tr>\n",
       "    <tr>\n",
       "      <th>1</th>\n",
       "      <td>2014-09-09 07:59:43</td>\n",
       "      <td>2014</td>\n",
       "      <td>9</td>\n",
       "      <td>9</td>\n",
       "      <td>07:59:43</td>\n",
       "      <td>[CRISP,  IRIS]</td>\n",
       "      <td>Flare</td>\n",
       "      <td>None</td>\n",
       "      <td>[http://tsih3.uio.no/lapalma/2014/2014-09-09//...</td>\n",
       "      <td>[]</td>\n",
       "      <td>[http://tsih3.uio.no/lapalma/2014/2014-09-09//...</td>\n",
       "      <td>2</td>\n",
       "      <td>None</td>\n",
       "    </tr>\n",
       "    <tr>\n",
       "      <th>2</th>\n",
       "      <td>2014-09-09 08:13:40</td>\n",
       "      <td>2014</td>\n",
       "      <td>9</td>\n",
       "      <td>9</td>\n",
       "      <td>08:13:40</td>\n",
       "      <td>[CRISP,  IRIS]</td>\n",
       "      <td>Flare</td>\n",
       "      <td>None</td>\n",
       "      <td>[http://tsih3.uio.no/lapalma/2014/2014-09-09//...</td>\n",
       "      <td>[]</td>\n",
       "      <td>[http://tsih3.uio.no/lapalma/2014/2014-09-09//...</td>\n",
       "      <td>3</td>\n",
       "      <td>None</td>\n",
       "    </tr>\n",
       "    <tr>\n",
       "      <th>3</th>\n",
       "      <td>2014-09-09 08:42:38</td>\n",
       "      <td>2014</td>\n",
       "      <td>9</td>\n",
       "      <td>9</td>\n",
       "      <td>08:42:38</td>\n",
       "      <td>[CRISP, IRIS]</td>\n",
       "      <td>None</td>\n",
       "      <td>None</td>\n",
       "      <td>[http://tsih3.uio.no/lapalma/2014/2014-09-09//...</td>\n",
       "      <td>[]</td>\n",
       "      <td>[http://tsih3.uio.no/lapalma/2014/2014-09-09//...</td>\n",
       "      <td>2</td>\n",
       "      <td>None</td>\n",
       "    </tr>\n",
       "    <tr>\n",
       "      <th>4</th>\n",
       "      <td>2014-09-15 07:49:41</td>\n",
       "      <td>2014</td>\n",
       "      <td>9</td>\n",
       "      <td>15</td>\n",
       "      <td>07:49:41</td>\n",
       "      <td>[CRISP,  IRIS]</td>\n",
       "      <td>Flare</td>\n",
       "      <td>None</td>\n",
       "      <td>[http://tsih3.uio.no/lapalma/2014/2014-09-15//...</td>\n",
       "      <td>[]</td>\n",
       "      <td>[http://tsih3.uio.no/lapalma/2014/2014-09-15//...</td>\n",
       "      <td>1</td>\n",
       "      <td>None</td>\n",
       "    </tr>\n",
       "  </tbody>\n",
       "</table>\n",
       "</div>"
      ],
      "text/plain": [
       "            date_time  year  month  day      time     instruments    target  \\\n",
       "0 2013-06-30 09:15:50  2013      6   30  09:15:50  [CRISP,  IRIS]  Spicules   \n",
       "1 2014-09-09 07:59:43  2014      9    9  07:59:43  [CRISP,  IRIS]     Flare   \n",
       "2 2014-09-09 08:13:40  2014      9    9  08:13:40  [CRISP,  IRIS]     Flare   \n",
       "3 2014-09-09 08:42:38  2014      9    9  08:42:38   [CRISP, IRIS]      None   \n",
       "4 2014-09-15 07:49:41  2014      9   15  07:49:41  [CRISP,  IRIS]     Flare   \n",
       "\n",
       "  comments                                        video_links image_links  \\\n",
       "0     None  [http://tsih3.uio.no/lapalma/2013/2013-06-30//...          []   \n",
       "1     None  [http://tsih3.uio.no/lapalma/2014/2014-09-09//...          []   \n",
       "2     None  [http://tsih3.uio.no/lapalma/2014/2014-09-09//...          []   \n",
       "3     None  [http://tsih3.uio.no/lapalma/2014/2014-09-09//...          []   \n",
       "4     None  [http://tsih3.uio.no/lapalma/2014/2014-09-15//...          []   \n",
       "\n",
       "                                               links  num_links polarimetry  \n",
       "0  [http://tsih3.uio.no/lapalma/2013/2013-06-30//...          3        None  \n",
       "1  [http://tsih3.uio.no/lapalma/2014/2014-09-09//...          2        None  \n",
       "2  [http://tsih3.uio.no/lapalma/2014/2014-09-09//...          3        None  \n",
       "3  [http://tsih3.uio.no/lapalma/2014/2014-09-09//...          2        None  \n",
       "4  [http://tsih3.uio.no/lapalma/2014/2014-09-15//...          1        None  "
      ]
     },
     "execution_count": 98,
     "metadata": {},
     "output_type": "execute_result"
    }
   ],
   "source": [
    "df.head()"
   ]
  },
  {
   "cell_type": "code",
   "execution_count": 99,
   "metadata": {},
   "outputs": [],
   "source": [
    "file1 = '../data/la_palma_obs_data.csv'\n",
    "file2 = '../data/data_with_info/la_palma_obs_data.csv'\n",
    "\n",
    "# see if there are differences between the files \n",
    "!diff $file1 $file2"
   ]
  },
  {
   "cell_type": "code",
   "execution_count": null,
   "metadata": {},
   "outputs": [
    {
     "data": {
      "application/vnd.jupyter.widget-view+json": {
       "model_id": "1c2f3730874b425a9cc67c61e2f72fb6",
       "version_major": 2,
       "version_minor": 0
      },
      "text/plain": [
       "Dropdown(description='Year:', options=(2013, 2014, 2015, 2016, 2017, 2018, 2019, 2020, 2021, 2022, 2023), valu…"
      ]
     },
     "metadata": {},
     "output_type": "display_data"
    },
    {
     "data": {
      "application/vnd.jupyter.widget-view+json": {
       "model_id": "c785c24a809a4addabf1f9f6dfe107b6",
       "version_major": 2,
       "version_minor": 0
      },
      "text/plain": [
       "Dropdown(description='Month:', options=(), value=None)"
      ]
     },
     "metadata": {},
     "output_type": "display_data"
    },
    {
     "data": {
      "application/vnd.jupyter.widget-view+json": {
       "model_id": "c46ebe26210849de94a6faee28595fe7",
       "version_major": 2,
       "version_minor": 0
      },
      "text/plain": [
       "Dropdown(description='Day:', options=(), value=None)"
      ]
     },
     "metadata": {},
     "output_type": "display_data"
    },
    {
     "data": {
      "application/vnd.jupyter.widget-view+json": {
       "model_id": "3894e8ccd2be4c62a1c7e7b6726bff5c",
       "version_major": 2,
       "version_minor": 0
      },
      "text/plain": [
       "Dropdown(description='Time:', options=(), value=None)"
      ]
     },
     "metadata": {},
     "output_type": "display_data"
    },
    {
     "data": {
      "application/vnd.jupyter.widget-view+json": {
       "model_id": "2f6c669ddd284aac8549ecfbb052de1f",
       "version_major": 2,
       "version_minor": 0
      },
      "text/plain": [
       "Dropdown(description='Links:', options=(), value=None)"
      ]
     },
     "metadata": {},
     "output_type": "display_data"
    },
    {
     "data": {
      "application/vnd.jupyter.widget-view+json": {
       "model_id": "f3a9b4b1d4eb42d0858d5e49b34c82f4",
       "version_major": 2,
       "version_minor": 0
      },
      "text/plain": [
       "Button(description='Show', style=ButtonStyle())"
      ]
     },
     "metadata": {},
     "output_type": "display_data"
    },
    {
     "data": {
      "application/vnd.jupyter.widget-view+json": {
       "model_id": "1b3d259fd0ad43cd9e8b0fc1a9ee4d4a",
       "version_major": 2,
       "version_minor": 0
      },
      "text/plain": [
       "Output()"
      ]
     },
     "metadata": {},
     "output_type": "display_data"
    },
    {
     "data": {
      "application/vnd.jupyter.widget-view+json": {
       "model_id": "b43ad2990c05452daad5abc987fa50bc",
       "version_major": 2,
       "version_minor": 0
      },
      "text/plain": [
       "Button(description='Update', style=ButtonStyle())"
      ]
     },
     "metadata": {},
     "output_type": "display_data"
    },
    {
     "data": {
      "application/vnd.jupyter.widget-view+json": {
       "model_id": "2c032a60232a49d89e8ccda48cf13072",
       "version_major": 2,
       "version_minor": 0
      },
      "text/plain": [
       "Text(value='', description='target:')"
      ]
     },
     "metadata": {},
     "output_type": "display_data"
    },
    {
     "data": {
      "application/vnd.jupyter.widget-view+json": {
       "model_id": "63658ad3642c4bb98ccdf1fa8aca26fe",
       "version_major": 2,
       "version_minor": 0
      },
      "text/plain": [
       "Text(value='', description='instruments:')"
      ]
     },
     "metadata": {},
     "output_type": "display_data"
    },
    {
     "data": {
      "application/vnd.jupyter.widget-view+json": {
       "model_id": "6e2b83d8835c435d9987c5ff523c4d5f",
       "version_major": 2,
       "version_minor": 0
      },
      "text/plain": [
       "Text(value='', description='polarimetry:')"
      ]
     },
     "metadata": {},
     "output_type": "display_data"
    },
    {
     "data": {
      "application/vnd.jupyter.widget-view+json": {
       "model_id": "20a8f3eb737b4b239a36361d6c404d2f",
       "version_major": 2,
       "version_minor": 0
      },
      "text/plain": [
       "Text(value='', description='comments:')"
      ]
     },
     "metadata": {},
     "output_type": "display_data"
    },
    {
     "data": {
      "application/vnd.jupyter.widget-view+json": {
       "model_id": "b43ad2990c05452daad5abc987fa50bc",
       "version_major": 2,
       "version_minor": 0
      },
      "text/plain": [
       "Button(description='Update', style=ButtonStyle())"
      ]
     },
     "metadata": {},
     "output_type": "display_data"
    }
   ],
   "source": [
    "# create a widget to display movies based on year, month, day and time\n",
    "# and to update the target, instrumnets and comments columns of the dataframe\n",
    "selector = su.VideoSelector2(df, ['target', 'instruments', 'polarimetry', 'comments'])\n",
    "selector.create_widget()"
   ]
  },
  {
   "cell_type": "code",
   "execution_count": 101,
   "metadata": {},
   "outputs": [
    {
     "data": {
      "text/html": [
       "<style>td { text-align: left; } th { text-align: center; }</style><table border=\"1\" class=\"dataframe\">\n",
       "  <thead>\n",
       "    <tr style=\"text-align: right;\">\n",
       "      <th>#</th>\n",
       "      <th>Title</th>\n",
       "      <th>First author</th>\n",
       "      <th>Bibcode</th>\n",
       "      <th>URL</th>\n",
       "    </tr>\n",
       "  </thead>\n",
       "  <tbody>\n",
       "    <tr>\n",
       "      <td>1</td>\n",
       "      <td>Evidence of the multi-thermal nature of spicular downflows. Impact on solar atmospheric heating</td>\n",
       "      <td>Bose, Souvik</td>\n",
       "      <td>2021A&A...654A..51B</td>\n",
       "      <td><a href=\"https://ui.adsabs.harvard.edu/abs/2021A&A...654A..51B\" target=\"_blank\">https://ui.adsabs.harvard.edu/abs/2021A&A...654A..51B</a></td>\n",
       "    </tr>\n",
       "    <tr>\n",
       "      <td>2</td>\n",
       "      <td>On the dynamics of spicules and mass flows in the solar atmosphere</td>\n",
       "      <td>Bose, Souvik</td>\n",
       "      <td>2021arXiv211010656B</td>\n",
       "      <td><a href=\"https://ui.adsabs.harvard.edu/abs/2021arXiv211010656B\" target=\"_blank\">https://ui.adsabs.harvard.edu/abs/2021arXiv211010656B</a></td>\n",
       "    </tr>\n",
       "    <tr>\n",
       "      <td>3</td>\n",
       "      <td>Analysis of Pseudo-Lyapunov Exponents of Solar Convection Using State-of-the-Art Observations</td>\n",
       "      <td>Viavattene, Giorgio</td>\n",
       "      <td>2021Entrp..23..413V</td>\n",
       "      <td><a href=\"https://ui.adsabs.harvard.edu/abs/2021Entrp..23..413V\" target=\"_blank\">https://ui.adsabs.harvard.edu/abs/2021Entrp..23..413V</a></td>\n",
       "    </tr>\n",
       "    <tr>\n",
       "      <td>4</td>\n",
       "      <td>Spicules and downflows in the solar chromosphere</td>\n",
       "      <td>Bose, Souvik</td>\n",
       "      <td>2021A&A...647A.147B</td>\n",
       "      <td><a href=\"https://ui.adsabs.harvard.edu/abs/2021A&A...647A.147B\" target=\"_blank\">https://ui.adsabs.harvard.edu/abs/2021A&A...647A.147B</a></td>\n",
       "    </tr>\n",
       "    <tr>\n",
       "      <td>5</td>\n",
       "      <td>Characterization and formation of on-disk spicules in the Ca II K and Mg II k spectral lines</td>\n",
       "      <td>Bose, Souvik</td>\n",
       "      <td>2019A&A...631L...5B</td>\n",
       "      <td><a href=\"https://ui.adsabs.harvard.edu/abs/2019A&A...631L...5B\" target=\"_blank\">https://ui.adsabs.harvard.edu/abs/2019A&A...631L...5B</a></td>\n",
       "    </tr>\n",
       "  </tbody>\n",
       "</table>"
      ],
      "text/plain": [
       "<IPython.core.display.HTML object>"
      ]
     },
     "metadata": {},
     "output_type": "display_data"
    }
   ],
   "source": [
    "# 🔍 ADS Search\n",
    "index = 34\n",
    "search = ads.ADS_Search(df)\n",
    "search.get_results(index, pretty_print=True)"
   ]
  },
  {
   "cell_type": "code",
   "execution_count": 102,
   "metadata": {},
   "outputs": [],
   "source": [
    "# make a copy of the dataframe\n",
    "df_copy = df.copy()\n",
    "\n",
    "# List of columns to convert from lists to strings\n",
    "columns_to_convert = ['links', 'video_links', 'image_links', 'instruments']\n",
    "for col in columns_to_convert:\n",
    "    df_copy[col] = df_copy[col].apply(lambda x: ';'.join(x))\n",
    "\n",
    "# save the updated dataframe as a .csv file\n",
    "df_copy.to_csv(la_palma_obs_data_file, index=False)\n",
    "\n",
    "# delete the dataframe from memory\n",
    "# del df\n",
    "# del selector\n",
    "\n",
    "# clear everything from memory\n",
    "# %reset -f"
   ]
  },
  {
   "cell_type": "code",
   "execution_count": null,
   "metadata": {},
   "outputs": [],
   "source": []
  }
 ],
 "metadata": {
  "kernelspec": {
   "display_name": "pipmag",
   "language": "python",
   "name": "python3"
  },
  "language_info": {
   "codemirror_mode": {
    "name": "ipython",
    "version": 3
   },
   "file_extension": ".py",
   "mimetype": "text/x-python",
   "name": "python",
   "nbconvert_exporter": "python",
   "pygments_lexer": "ipython3",
   "version": "3.10.6"
  },
  "orig_nbformat": 4,
  "vscode": {
   "interpreter": {
    "hash": "ba2b68964390c77ef2e04277debd5475c8565a11fab30e531aaf9c5e1dfcc05e"
   }
  }
 },
 "nbformat": 4,
 "nbformat_minor": 2
}
