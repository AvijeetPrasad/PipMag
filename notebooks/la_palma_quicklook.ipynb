{
 "cells": [
  {
   "cell_type": "code",
   "execution_count": 9,
   "metadata": {},
   "outputs": [],
   "source": [
    "# import libraries related to querying links and downloading files from the web\n",
    "import importlib\n",
    "import pandas as pd\n",
    "from pipmag import file_utils as fu\n",
    "from pipmag import selector_utils as su\n",
    "from pipmag import ads_utils as ads\n",
    "# If you get the error ModuleNotFoundError: No module named 'pipmag', run the following line and restart the kernel:\n",
    "# %pip install -e .."
   ]
  },
  {
   "cell_type": "code",
   "execution_count": 4,
   "metadata": {},
   "outputs": [
    {
     "name": "stdout",
     "output_type": "stream",
     "text": [
      "Latest file: ../data/la_palma_obs_data_20230706_081731.pkl\n"
     ]
    }
   ],
   "source": [
    "# get the latest pickle file\n",
    "latest_updated_la_palma_obs_data_file = fu.get_latest_file('../data/la_palma_obs_data_*.pkl')"
   ]
  },
  {
   "cell_type": "code",
   "execution_count": 5,
   "metadata": {},
   "outputs": [
    {
     "name": "stdout",
     "output_type": "stream",
     "text": [
      "<class 'pandas.core.frame.DataFrame'>\n",
      "Int64Index: 666 entries, 0 to 665\n",
      "Data columns (total 13 columns):\n",
      " #   Column       Non-Null Count  Dtype         \n",
      "---  ------       --------------  -----         \n",
      " 0   date_time    666 non-null    datetime64[ns]\n",
      " 1   year         666 non-null    int64         \n",
      " 2   month        666 non-null    int64         \n",
      " 3   day          666 non-null    int64         \n",
      " 4   time         666 non-null    object        \n",
      " 5   instruments  666 non-null    object        \n",
      " 6   target       0 non-null      object        \n",
      " 7   comments     0 non-null      object        \n",
      " 8   video_links  666 non-null    object        \n",
      " 9   image_links  666 non-null    object        \n",
      " 10  links        666 non-null    object        \n",
      " 11  num_links    666 non-null    int64         \n",
      " 12  polarimetry  0 non-null      float64       \n",
      "dtypes: datetime64[ns](1), float64(1), int64(4), object(7)\n",
      "memory usage: 72.8+ KB\n"
     ]
    }
   ],
   "source": [
    "df = pd.read_pickle(latest_updated_la_palma_obs_data_file)\n",
    "df.info()"
   ]
  },
  {
   "cell_type": "code",
   "execution_count": null,
   "metadata": {},
   "outputs": [],
   "source": [
    "# create a widget to display movies based on year, month, day and time\n",
    "# and to update the target, instrumnets and comments columns of the dataframe\n",
    "selector = su.VideoSelector2(df, ['target', 'instruments', 'polarimetry', 'comments'])\n",
    "selector.create_widget()"
   ]
  },
  {
   "cell_type": "code",
   "execution_count": 10,
   "metadata": {},
   "outputs": [],
   "source": [
    "# 🔍 ADS Search\n",
    "index = 36\n",
    "search = ads.ADS_Search(df)\n",
    "search.get_results(index, pretty_print=True)"
   ]
  },
  {
   "cell_type": "code",
   "execution_count": 12,
   "metadata": {},
   "outputs": [],
   "source": [
    "# save the updated dataframe as a pickle file\n",
    "df.to_pickle('../data/'+ fu.add_timestamp('la_palma_obs_data.pkl'))"
   ]
  }
 ],
 "metadata": {
  "kernelspec": {
   "display_name": "pipmag",
   "language": "python",
   "name": "python3"
  },
  "language_info": {
   "codemirror_mode": {
    "name": "ipython",
    "version": 3
   },
   "file_extension": ".py",
   "mimetype": "text/x-python",
   "name": "python",
   "nbconvert_exporter": "python",
   "pygments_lexer": "ipython3",
   "version": "3.11.0"
  },
  "orig_nbformat": 4,
  "vscode": {
   "interpreter": {
    "hash": "ba2b68964390c77ef2e04277debd5475c8565a11fab30e531aaf9c5e1dfcc05e"
   }
  }
 },
 "nbformat": 4,
 "nbformat_minor": 2
}
