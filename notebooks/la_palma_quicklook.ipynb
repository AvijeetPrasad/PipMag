{
 "cells": [
  {
   "cell_type": "code",
   "execution_count": null,
   "metadata": {},
   "outputs": [],
   "source": [
    "# import libraries related to querying links and downloading files from the web\n",
    "import pandas as pd\n",
    "from pipmag import selector_utils as su\n",
    "from pipmag import ads_utils as ads\n",
    "# If you get the error ModuleNotFoundError: No module named 'pipmag', run the following line and restart the kernel:\n",
    "# %pip install -e .."
   ]
  },
  {
   "cell_type": "code",
   "execution_count": null,
   "metadata": {},
   "outputs": [],
   "source": [
    "# get the latest csv file\n",
    "la_palma_obs_data_file = '../data/la_palma_obs_data.csv'"
   ]
  },
  {
   "cell_type": "code",
   "execution_count": null,
   "metadata": {},
   "outputs": [],
   "source": [
    "# Load the DataFrame from the CSV file\n",
    "df = pd.read_csv(la_palma_obs_data_file)"
   ]
  },
  {
   "cell_type": "code",
   "execution_count": null,
   "metadata": {},
   "outputs": [],
   "source": [
    "# Read the date_time column as datetime\n",
    "df['date_time'] = pd.to_datetime(df['date_time'])\n",
    "\n",
    "# List of columns to convert from strings to lists\n",
    "columns_to_convert = ['links', 'video_links', 'image_links', 'instruments']\n",
    "\n",
    "# Convert the strings in each column back to lists\n",
    "for col in columns_to_convert:\n",
    "    df[col] = df[col].apply(lambda x: x.split(';') if isinstance(x, str) else [])\n",
    "\n",
    "# List of columns to convert from NaN to None \n",
    "columns_to_convert = ['comments', 'polarimetry', 'target']\n",
    "\n",
    "# Convert the NaNs in each column back to None\n",
    "for col in columns_to_convert:\n",
    "    df[col] = df[col].apply(lambda x: None if pd.isna(x) else x)\n",
    "\n",
    "# Convert the 'polarimetry' column to string \n",
    "df['polarimetry'] = df['polarimetry'].apply(lambda x: str(x))\n",
    "\n",
    "df.info()"
   ]
  },
  {
   "cell_type": "code",
   "execution_count": null,
   "metadata": {},
   "outputs": [],
   "source": [
    "# create a widget to display movies based on year, month, day and time\n",
    "# and to update the target, instrumnets and comments columns of the dataframe\n",
    "selector = su.VideoSelector2(df, ['target', 'instruments', 'polarimetry', 'comments'])\n",
    "selector.create_widget()"
   ]
  },
  {
   "cell_type": "code",
   "execution_count": null,
   "metadata": {},
   "outputs": [],
   "source": [
    "# 🔍 ADS Search\n",
    "index = 34\n",
    "search = ads.ADS_Search(df)\n",
    "search.get_results(index, pretty_print=True)"
   ]
  },
  {
   "cell_type": "code",
   "execution_count": null,
   "metadata": {},
   "outputs": [],
   "source": [
    "## Rewrite keywords in target column to general terms \n",
    "def rewrite_keywords(text, target_keywords, relpacewith):\n",
    "    for keyword in target_keywords:\n",
    "        if keyword in text:\n",
    "            text = text.replace(keyword, relpacewith)\n",
    "    return text\n",
    "\n",
    "# Target keywords: \n",
    "ACTIVE_REGION_KEYWORDS = {'active region', 'Active region', 'AR'}\n",
    "QUIET_SUN_KEYWORDS     = {'quiet Sun', 'quiet sun', 'QS', 'Quiet sun'}\n",
    "SUNSPOT_KEYWORDS       = {'sunspot', 'Sunspot', 'SS', 'ss', 'SUnspot'}\n",
    "# Replace keywords in target column with more general terms\n",
    "df['target'] = df['target'].apply(lambda x: None if pd.isna(x) else rewrite_keywords(x, ACTIVE_REGION_KEYWORDS, \"Active Region\"))\n",
    "df['target'] = df['target'].apply(lambda x: None if pd.isna(x) else rewrite_keywords(x, QUIET_SUN_KEYWORDS, \"Quiet Sun\"))\n",
    "df['target'] = df['target'].apply(lambda x: None if pd.isna(x) else rewrite_keywords(x, SUNSPOT_KEYWORDS, \"Sunspot\"))"
   ]
  },
  {
   "cell_type": "code",
   "execution_count": null,
   "metadata": {},
   "outputs": [],
   "source": [
    "# make a copy of the dataframe\n",
    "df_copy = df.copy()\n",
    "\n",
    "# List of columns to convert from lists to strings\n",
    "columns_to_convert = ['links', 'instruments']\n",
    "for col in columns_to_convert:\n",
    "    df_copy[col] = df_copy[col].apply(lambda x: ';'.join(x))\n",
    "\n",
    "# save the updated dataframe as a .csv file\n",
    "df_copy.to_csv(la_palma_obs_data_file, index=False)"
   ]
  },
  {
   "cell_type": "code",
   "execution_count": null,
   "metadata": {},
   "outputs": [],
   "source": []
  }
 ],
 "metadata": {
  "kernelspec": {
   "display_name": "pipmag",
   "language": "python",
   "name": "python3"
  },
  "language_info": {
   "codemirror_mode": {
    "name": "ipython",
    "version": 3
   },
   "file_extension": ".py",
   "mimetype": "text/x-python",
   "name": "python",
   "nbconvert_exporter": "python",
   "pygments_lexer": "ipython3",
   "version": "3.10.6"
  },
  "orig_nbformat": 4,
  "vscode": {
   "interpreter": {
    "hash": "ba2b68964390c77ef2e04277debd5475c8565a11fab30e531aaf9c5e1dfcc05e"
   }
  }
 },
 "nbformat": 4,
 "nbformat_minor": 2
}
