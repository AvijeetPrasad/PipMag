{
 "cells": [
  {
   "cell_type": "code",
   "execution_count": null,
   "metadata": {},
   "outputs": [],
   "source": [
    "# import libraries related to querying links and downloading files from the web\n",
    "import pandas as pd\n",
    "from pipmag import selector_utils as su\n",
    "from pipmag import ads_utils as ads\n",
    "# If you get the error ModuleNotFoundError: No module named 'pipmag', run the following line and restart the kernel:\n",
    "# %pip install -e .."
   ]
  },
  {
   "cell_type": "code",
   "execution_count": null,
   "metadata": {},
   "outputs": [],
   "source": [
    "# get the latest csv file\n",
    "la_palma_obs_data_file = '../data/la_palma_obs_data.csv'"
   ]
  },
  {
   "cell_type": "code",
   "execution_count": null,
   "metadata": {},
   "outputs": [],
   "source": [
    "# Load the DataFrame from the CSV file\n",
    "df = pd.read_csv(la_palma_obs_data_file)"
   ]
  },
  {
   "attachments": {},
   "cell_type": "markdown",
   "metadata": {},
   "source": [
    "Note to self: I think the lists are the problem. If we make all the comments etc into empty lists to be filled and treat them the same as the links, that might solve it. \n",
    "\n",
    "Yes, all the stuff where stuff should be added must be treated as a list with keywords. "
   ]
  },
  {
   "cell_type": "code",
   "execution_count": null,
   "metadata": {},
   "outputs": [],
   "source": [
    "# Read the date_time column as datetime\n",
    "df['date_time'] = pd.to_datetime(df['date_time'])\n",
    "\n",
    "# List of columns to convert from strings to lists\n",
    "columns_to_convert = ['links', 'video_links', 'image_links', 'instruments']\n",
    "\n",
    "# Convert the strings in each column back to lists\n",
    "for col in columns_to_convert:\n",
    "    df[col] = df[col].apply(lambda x: x.split(';') if isinstance(x, str) else [])\n",
    "\n",
    "# List of columns to convert from NaN to None \n",
    "columns_to_convert = ['comments', 'polarimetry', 'target']\n",
    "\n",
    "# Convert the NaNs in each column back to None\n",
    "for col in columns_to_convert:\n",
    "    df[col] = df[col].apply(lambda x: None if pd.isna(x) else x)\n",
    "\n",
    "df.info()"
   ]
  },
  {
   "cell_type": "code",
   "execution_count": null,
   "metadata": {},
   "outputs": [],
   "source": [
    "# create a widget to display movies based on year, month, day and time\n",
    "# and to update the target, instrumnets and comments columns of the dataframe\n",
    "selector = su.VideoSelector2(df, ['target', 'instruments', 'polarimetry', 'comments'])\n",
    "selector.create_widget()"
   ]
  },
  {
   "cell_type": "code",
   "execution_count": null,
   "metadata": {},
   "outputs": [],
   "source": [
    "# 🔍 ADS Search\n",
    "index = 34\n",
    "search = ads.ADS_Search(df)\n",
    "search.get_results(index, pretty_print=True)"
   ]
  },
  {
   "cell_type": "code",
   "execution_count": null,
   "metadata": {},
   "outputs": [],
   "source": [
    "# List of columns to convert from lists to strings\n",
    "columns_to_convert = ['links', 'video_links', 'image_links', 'instruments']\n",
    "for col in columns_to_convert:\n",
    "    df[col] = df[col].apply(lambda x: ';'.join(x))\n",
    "\n",
    "# save the updated dataframe as a .csv file\n",
    "df.to_csv(la_palma_obs_data_file, index=False)"
   ]
  }
 ],
 "metadata": {
  "kernelspec": {
   "display_name": "pipmag",
   "language": "python",
   "name": "python3"
  },
  "language_info": {
   "codemirror_mode": {
    "name": "ipython",
    "version": 3
   },
   "file_extension": ".py",
   "mimetype": "text/x-python",
   "name": "python",
   "nbconvert_exporter": "python",
   "pygments_lexer": "ipython3",
   "version": "3.10.6"
  },
  "orig_nbformat": 4,
  "vscode": {
   "interpreter": {
    "hash": "ba2b68964390c77ef2e04277debd5475c8565a11fab30e531aaf9c5e1dfcc05e"
   }
  }
 },
 "nbformat": 4,
 "nbformat_minor": 2
}
