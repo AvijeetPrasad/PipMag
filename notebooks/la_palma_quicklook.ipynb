{
 "cells": [
  {
   "cell_type": "code",
   "execution_count": 1,
   "metadata": {},
   "outputs": [],
   "source": [
    "# import libraries related to querying links and downloading files from the web\n",
    "import pandas as pd\n",
    "from pipmag import file_utils as fu\n",
    "from pipmag import selector_utils as su\n",
    "from pipmag import ads_utils as ads\n",
    "# If you get the error ModuleNotFoundError: No module named 'pipmag', run the following line and restart the kernel:\n",
    "# %pip install -e .."
   ]
  },
  {
   "cell_type": "code",
   "execution_count": 2,
   "metadata": {},
   "outputs": [],
   "source": [
    "# get the latest csv file\n",
    "latest_updated_la_palma_obs_data_file = '../data/la_palma_obs_data.csv'"
   ]
  },
  {
   "cell_type": "code",
   "execution_count": 6,
   "metadata": {},
   "outputs": [
    {
     "name": "stdout",
     "output_type": "stream",
     "text": [
      "<class 'pandas.core.frame.DataFrame'>\n",
      "RangeIndex: 666 entries, 0 to 665\n",
      "Data columns (total 14 columns):\n",
      " #   Column       Non-Null Count  Dtype  \n",
      "---  ------       --------------  -----  \n",
      " 0   date_time    666 non-null    int64  \n",
      " 1   date_time.1  666 non-null    object \n",
      " 2   year         666 non-null    int64  \n",
      " 3   month        666 non-null    int64  \n",
      " 4   day          666 non-null    int64  \n",
      " 5   time         666 non-null    object \n",
      " 6   instruments  666 non-null    object \n",
      " 7   target       0 non-null      float64\n",
      " 8   comments     0 non-null      float64\n",
      " 9   video_links  666 non-null    object \n",
      " 10  image_links  666 non-null    object \n",
      " 11  links        666 non-null    object \n",
      " 12  num_links    666 non-null    int64  \n",
      " 13  polarimetry  0 non-null      float64\n",
      "dtypes: float64(3), int64(5), object(6)\n",
      "memory usage: 73.0+ KB\n"
     ]
    }
   ],
   "source": [
    "# Load the DataFrame from the CSV file\n",
    "df = pd.read_csv('../data/la_palma_obs_data.csv')\n",
    "\n",
    "# Convert the strings in 'links', 'video_links', 'image_links', 'instruments' columns back to lists\n",
    "df['links'] = df['links'].apply(lambda x: x.split(',') if isinstance(x, str) else [])\n",
    "df['video_links'] = df['video_links'].apply(lambda x: x.split(',') if isinstance(x, str) else [])\n",
    "df['image_links'] = df['image_links'].apply(lambda x: x.split(',') if isinstance(x, str) else [])\n",
    "df['instruments'] = df['instruments'].apply(lambda x: x.split(',') if isinstance(x, str) else [])\n",
    "\n",
    "df.info()"
   ]
  },
  {
   "cell_type": "code",
   "execution_count": 7,
   "metadata": {},
   "outputs": [
    {
     "data": {
      "application/vnd.jupyter.widget-view+json": {
       "model_id": "de10cc3977624f1eb3cc4a927f31fd40",
       "version_major": 2,
       "version_minor": 0
      },
      "text/plain": [
       "Dropdown(description='Year:', options=(2013, 2014, 2015, 2016, 2017, 2018, 2019, 2020, 2021, 2022, 2023), valu…"
      ]
     },
     "metadata": {},
     "output_type": "display_data"
    },
    {
     "data": {
      "application/vnd.jupyter.widget-view+json": {
       "model_id": "4caddbfedd164a39a7723be54e525be3",
       "version_major": 2,
       "version_minor": 0
      },
      "text/plain": [
       "Dropdown(description='Month:', options=(), value=None)"
      ]
     },
     "metadata": {},
     "output_type": "display_data"
    },
    {
     "data": {
      "application/vnd.jupyter.widget-view+json": {
       "model_id": "50a45a8885984635a8c6725a96ad90fc",
       "version_major": 2,
       "version_minor": 0
      },
      "text/plain": [
       "Dropdown(description='Day:', options=(), value=None)"
      ]
     },
     "metadata": {},
     "output_type": "display_data"
    },
    {
     "data": {
      "application/vnd.jupyter.widget-view+json": {
       "model_id": "b052cada3d4140afa3328864b14df954",
       "version_major": 2,
       "version_minor": 0
      },
      "text/plain": [
       "Dropdown(description='Time:', options=(), value=None)"
      ]
     },
     "metadata": {},
     "output_type": "display_data"
    },
    {
     "data": {
      "application/vnd.jupyter.widget-view+json": {
       "model_id": "68a6887a95364d6b80e67661bdfd497c",
       "version_major": 2,
       "version_minor": 0
      },
      "text/plain": [
       "Dropdown(description='Links:', options=(), value=None)"
      ]
     },
     "metadata": {},
     "output_type": "display_data"
    },
    {
     "data": {
      "application/vnd.jupyter.widget-view+json": {
       "model_id": "eaa31d9ef8a14d359753813226c9c582",
       "version_major": 2,
       "version_minor": 0
      },
      "text/plain": [
       "Button(description='Show', style=ButtonStyle())"
      ]
     },
     "metadata": {},
     "output_type": "display_data"
    },
    {
     "data": {
      "application/vnd.jupyter.widget-view+json": {
       "model_id": "386d9b18f76344778f276776b3b74ede",
       "version_major": 2,
       "version_minor": 0
      },
      "text/plain": [
       "Output()"
      ]
     },
     "metadata": {},
     "output_type": "display_data"
    },
    {
     "data": {
      "application/vnd.jupyter.widget-view+json": {
       "model_id": "395d58a1e01f46e188bc699c5882c601",
       "version_major": 2,
       "version_minor": 0
      },
      "text/plain": [
       "Button(description='Update', style=ButtonStyle())"
      ]
     },
     "metadata": {},
     "output_type": "display_data"
    },
    {
     "data": {
      "application/vnd.jupyter.widget-view+json": {
       "model_id": "2086791f76134587aa20e0382f0557cd",
       "version_major": 2,
       "version_minor": 0
      },
      "text/plain": [
       "Text(value='', description='target:')"
      ]
     },
     "metadata": {},
     "output_type": "display_data"
    },
    {
     "data": {
      "application/vnd.jupyter.widget-view+json": {
       "model_id": "c65aca20f40e4e5e92e96ffbe97ff030",
       "version_major": 2,
       "version_minor": 0
      },
      "text/plain": [
       "Text(value='', description='instruments:')"
      ]
     },
     "metadata": {},
     "output_type": "display_data"
    },
    {
     "data": {
      "application/vnd.jupyter.widget-view+json": {
       "model_id": "c218f63006c049428a58a8484611fb65",
       "version_major": 2,
       "version_minor": 0
      },
      "text/plain": [
       "Text(value='', description='polarimetry:')"
      ]
     },
     "metadata": {},
     "output_type": "display_data"
    },
    {
     "data": {
      "application/vnd.jupyter.widget-view+json": {
       "model_id": "2a673e6b758e4100ba4eb9672840024c",
       "version_major": 2,
       "version_minor": 0
      },
      "text/plain": [
       "Text(value='', description='comments:')"
      ]
     },
     "metadata": {},
     "output_type": "display_data"
    },
    {
     "data": {
      "application/vnd.jupyter.widget-view+json": {
       "model_id": "395d58a1e01f46e188bc699c5882c601",
       "version_major": 2,
       "version_minor": 0
      },
      "text/plain": [
       "Button(description='Update', style=ButtonStyle())"
      ]
     },
     "metadata": {},
     "output_type": "display_data"
    }
   ],
   "source": [
    "# create a widget to display movies based on year, month, day and time\n",
    "# and to update the target, instrumnets and comments columns of the dataframe\n",
    "selector = su.VideoSelector2(df, ['target', 'instruments', 'polarimetry', 'comments'])\n",
    "selector.create_widget()"
   ]
  },
  {
   "cell_type": "code",
   "execution_count": 10,
   "metadata": {},
   "outputs": [],
   "source": [
    "# 🔍 ADS Search\n",
    "index = 36\n",
    "search = ads.ADS_Search(df)\n",
    "search.get_results(index, pretty_print=True)"
   ]
  },
  {
   "cell_type": "code",
   "execution_count": 12,
   "metadata": {},
   "outputs": [],
   "source": [
    "# save the updated dataframe as a pickle file\n",
    "df.to_pickle('../data/'+ fu.add_timestamp('la_palma_obs_data.pkl'))"
   ]
  }
 ],
 "metadata": {
  "kernelspec": {
   "display_name": "pipmag",
   "language": "python",
   "name": "python3"
  },
  "language_info": {
   "codemirror_mode": {
    "name": "ipython",
    "version": 3
   },
   "file_extension": ".py",
   "mimetype": "text/x-python",
   "name": "python",
   "nbconvert_exporter": "python",
   "pygments_lexer": "ipython3",
   "version": "3.11.0"
  },
  "orig_nbformat": 4,
  "vscode": {
   "interpreter": {
    "hash": "ba2b68964390c77ef2e04277debd5475c8565a11fab30e531aaf9c5e1dfcc05e"
   }
  }
 },
 "nbformat": 4,
 "nbformat_minor": 2
}
