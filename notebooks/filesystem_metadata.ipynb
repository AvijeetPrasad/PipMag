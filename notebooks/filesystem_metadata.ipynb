{
 "cells": [
  {
   "cell_type": "code",
   "execution_count": null,
   "metadata": {},
   "outputs": [],
   "source": [
    "import os\n",
    "import sqlite3\n",
    "from datetime import datetime, timedelta"
   ]
  },
  {
   "cell_type": "markdown",
   "metadata": {},
   "source": [
    "### Creating the database for file metadata"
   ]
  },
  {
   "cell_type": "code",
   "execution_count": null,
   "metadata": {},
   "outputs": [],
   "source": [
    "\n",
    "# Initialize SQLite database\n",
    "conn = sqlite3.connect('metadata.db')\n",
    "cursor = conn.cursor()\n",
    "\n",
    "# Create table to store metadata\n",
    "cursor.execute('''\n",
    "CREATE TABLE IF NOT EXISTS file_metadata (\n",
    "    path TEXT PRIMARY KEY,\n",
    "    size INTEGER,\n",
    "    creation_time TEXT,\n",
    "    last_modified_time TEXT\n",
    ")''')\n",
    "\n",
    "# Commit changes\n",
    "conn.commit()\n"
   ]
  },
  {
   "cell_type": "code",
   "execution_count": null,
   "metadata": {},
   "outputs": [],
   "source": [
    "\n",
    "def gather_metadata(root_folder):\n",
    "    for root, dirs, files in os.walk(root_folder):\n",
    "        for file in files:\n",
    "            file_path = os.path.join(root, file)\n",
    "            \n",
    "            # Extract metadata\n",
    "            file_stat = os.stat(file_path)\n",
    "            size = file_stat.st_size\n",
    "            creation_time = file_stat.st_ctime\n",
    "            last_modified_time = file_stat.st_mtime\n",
    "            \n",
    "            # Insert metadata into database\n",
    "            cursor.execute('''\n",
    "            INSERT OR REPLACE INTO file_metadata\n",
    "            (path, size, creation_time, last_modified_time)\n",
    "            VALUES (?, ?, ?, ?)''', (file_path, size, creation_time, last_modified_time))\n",
    "    \n",
    "    # Commit changes to database\n",
    "    conn.commit()\n"
   ]
  },
  {
   "cell_type": "code",
   "execution_count": null,
   "metadata": {},
   "outputs": [],
   "source": [
    "\n",
    "# Gather metadata starting from root folder\n",
    "gather_metadata('/mn/stornext/d12/lapalma/reduc/2023/2023-05-03')\n",
    "\n",
    "# Query example: fetch all files larger than 1MB\n",
    "cursor.execute('SELECT * FROM file_metadata WHERE size > 1048576')\n",
    "print(cursor.fetchall())\n",
    "\n",
    "# Close the database connection\n",
    "conn.close()\n"
   ]
  },
  {
   "cell_type": "markdown",
   "metadata": {},
   "source": [
    "### Working with the metadata"
   ]
  },
  {
   "cell_type": "code",
   "execution_count": null,
   "metadata": {},
   "outputs": [],
   "source": [
    "\n",
    "# Connect to SQLite database\n",
    "conn = sqlite3.connect('metadata.db')\n",
    "cursor = conn.cursor()\n",
    "\n",
    "# Query the table schema\n",
    "cursor.execute(\"PRAGMA table_info(file_metadata)\")\n",
    "columns = cursor.fetchall()\n",
    "\n",
    "# Print metadata types\n",
    "print(\"Available Metadata Types:\")\n",
    "for column in columns:\n",
    "    print(f\"{column[1]} ({column[2]})\")\n",
    "\n",
    "# Close the database connection\n",
    "conn.close()\n"
   ]
  },
  {
   "cell_type": "code",
   "execution_count": null,
   "metadata": {},
   "outputs": [],
   "source": [
    "def filter_metadata(created_after=None, modified_within_months=None, min_size_gb=None, name_contains_list=None, extensions=None):\n",
    "    # Initialize SQL query and parameters list\n",
    "    query = \"SELECT * FROM file_metadata WHERE \"\n",
    "    params = []\n",
    "    \n",
    "    # Add conditions based on provided arguments\n",
    "    conditions = []\n",
    "    \n",
    "    if created_after:\n",
    "        timestamp = datetime.timestamp(datetime.strptime(created_after, \"%Y-%m-%d\"))\n",
    "        conditions.append(\"creation_time > ?\")\n",
    "        params.append(timestamp)\n",
    "    \n",
    "    if modified_within_months:\n",
    "        past_timestamp = datetime.timestamp(datetime.now() - timedelta(days=modified_within_months*30))\n",
    "        conditions.append(\"last_modified_time > ?\")\n",
    "        params.append(past_timestamp)\n",
    "        \n",
    "    if min_size_gb:\n",
    "        min_size_bytes = min_size_gb * (1024 ** 3)\n",
    "        conditions.append(\"size > ?\")\n",
    "        params.append(min_size_bytes)\n",
    "        \n",
    "    if name_contains_list:\n",
    "        name_conditions = []\n",
    "        for substring in name_contains_list:\n",
    "            name_conditions.append(\"path LIKE ?\")\n",
    "            params.append(f\"%{substring}%\")\n",
    "        conditions.append(\"(\" + \" AND \".join(name_conditions) + \")\")\n",
    "    \n",
    "    if extensions:\n",
    "        extension_conditions = []\n",
    "        for ext in extensions:\n",
    "            extension_conditions.append(\"path LIKE ?\")\n",
    "            params.append(f\"%.{ext}\")\n",
    "        conditions.append(\"(\" + \" OR \".join(extension_conditions) + \")\")\n",
    "        \n",
    "    # Finalize query\n",
    "    query += \" AND \".join(conditions)\n",
    "    \n",
    "    # Execute query\n",
    "    conn = sqlite3.connect('metadata.db')\n",
    "    cursor = conn.cursor()\n",
    "    cursor.execute(query, params)\n",
    "    records = cursor.fetchall()\n",
    "    \n",
    "    # Close the database connection\n",
    "    conn.close()\n",
    "    \n",
    "    return records"
   ]
  },
  {
   "cell_type": "code",
   "execution_count": null,
   "metadata": {},
   "outputs": [],
   "source": [
    "def human_readable_size(size, decimal_places=2):\n",
    "    for unit in ['B', 'KB', 'MB', 'GB', 'TB']:\n",
    "        if size < 1024.0:\n",
    "            break\n",
    "        size /= 1024.0\n",
    "    return f\"{size:.{decimal_places}f} {unit}\"\n",
    "\n",
    "def timestamp_to_date(timestamp):\n",
    "    return datetime.fromtimestamp(float(timestamp)).strftime('%Y-%m-%d %H:%M:%S')\n",
    "\n",
    "def pretty_print(records):\n",
    "    print(f\"{'Path':<160} {'Size':<12} {'Creation Time':<25} {'Last Modified Time':<25}\")\n",
    "    print(\"=\"*220)\n",
    "    \n",
    "    for record in records:\n",
    "        path, size, creation_time, last_modified_time = record\n",
    "        size_str = human_readable_size(size)\n",
    "        creation_time_str = timestamp_to_date(creation_time)\n",
    "        last_modified_time_str = timestamp_to_date(last_modified_time)\n",
    "        print(f\"{path:<160} {size_str:<12} {creation_time_str:<25} {last_modified_time_str:<25}\")\n"
   ]
  },
  {
   "cell_type": "code",
   "execution_count": null,
   "metadata": {},
   "outputs": [],
   "source": [
    "\n",
    "# Example usage\n",
    "filtered_records = filter_metadata(\n",
    "    created_after=\"2023-05-02\",\n",
    "    modified_within_months=6,\n",
    "    min_size_gb=10,\n",
    "    name_contains_list=[\"2023-05-03T09:00:41\", \"corrected_im\"],\n",
    "    extensions=[\"fits\", \"icube\"]\n",
    ")\n",
    "\n",
    "print(\"Filtered Records:\")\n",
    "pretty_print(filtered_records)\n"
   ]
  }
 ],
 "metadata": {
  "kernelspec": {
   "display_name": "pipmag",
   "language": "python",
   "name": "python3"
  },
  "language_info": {
   "codemirror_mode": {
    "name": "ipython",
    "version": 3
   },
   "file_extension": ".py",
   "mimetype": "text/x-python",
   "name": "python",
   "nbconvert_exporter": "python",
   "pygments_lexer": "ipython3",
   "version": "3.11.0"
  },
  "orig_nbformat": 4
 },
 "nbformat": 4,
 "nbformat_minor": 2
}
