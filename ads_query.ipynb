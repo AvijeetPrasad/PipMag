{
 "cells": [
  {
   "cell_type": "code",
   "execution_count": 104,
   "metadata": {},
   "outputs": [],
   "source": [
    "import os\n",
    "import requests"
   ]
  },
  {
   "cell_type": "code",
   "execution_count": 105,
   "metadata": {},
   "outputs": [],
   "source": [
    "class ADSSearch:\n",
    "    def __init__(self):\n",
    "        self.api_token = os.environ.get(\"ADS_DEV_KEY\")\n",
    "        if not self.api_token:\n",
    "            raise ValueError(\"ADS API key not found. Please set the ADS_DEV_KEY environmental variable.\")\n",
    "    \n",
    "    def search(self, search_terms):\n",
    "        headers = {\"Authorization\": f\"Bearer {self.api_token}\"}\n",
    "\n",
    "        # Construct the query string\n",
    "        query_terms = \" AND \".join(f\"full:\\\"{term}\\\"\" for term in search_terms)\n",
    "        query = f\"{query_terms}\"\n",
    "        \n",
    "        # Set up the query parameters\n",
    "        params = {\n",
    "            \"q\": query,\n",
    "            \"fl\": \"id,title,bibcode\",\n",
    "            \"rows\": 100,\n",
    "            \"sort\": \"date desc\"\n",
    "        }\n",
    "\n",
    "        # Make the API request\n",
    "        response = requests.get(\"https://api.adsabs.harvard.edu/v1/search/query\", headers=headers, params=params)\n",
    "        response_json = response.json()\n",
    "\n",
    "        # Process the response and return the results\n",
    "        results = []\n",
    "        for paper in response_json[\"response\"][\"docs\"]:\n",
    "            result = {\n",
    "                \"title\": paper[\"title\"][0],\n",
    "                \"bibcode\": paper[\"bibcode\"],\n",
    "                \"url\": f\"https://ui.adsabs.harvard.edu/abs/{paper['bibcode']}\"\n",
    "            }\n",
    "            results.append(result)\n",
    "        return results\n"
   ]
  },
  {
   "cell_type": "code",
   "execution_count": 102,
   "metadata": {},
   "outputs": [
    {
     "name": "stdout",
     "output_type": "stream",
     "text": [
      "On the dynamics of spicules and mass flows in the solar atmosphere\n",
      "2021arXiv211010656B\n",
      "https://ui.adsabs.harvard.edu/abs/2021arXiv211010656B\n",
      "Evidence of the multi-thermal nature of spicular downflows. Impact on solar atmospheric heating\n",
      "2021A&A...654A..51B\n",
      "https://ui.adsabs.harvard.edu/abs/2021A&A...654A..51B\n",
      "Spicules and downflows in the solar chromosphere\n",
      "2021A&A...647A.147B\n",
      "https://ui.adsabs.harvard.edu/abs/2021A&A...647A.147B\n",
      "Analysis of Pseudo-Lyapunov Exponents of Solar Convection Using State-of-the-Art Observations\n",
      "2021Entrp..23..413V\n",
      "https://ui.adsabs.harvard.edu/abs/2021Entrp..23..413V\n",
      "Characterization and formation of on-disk spicules in the Ca II K and Mg II k spectral lines\n",
      "2019A&A...631L...5B\n",
      "https://ui.adsabs.harvard.edu/abs/2019A&A...631L...5B\n"
     ]
    }
   ],
   "source": [
    "ads = ADSSearch()\n",
    "\n",
    "# Search for papers with the given search terms\n",
    "search_terms = [\"SST\", \"CRISP\", \"25 May 2017\"]\n",
    "results = ads.search(search_terms)\n",
    "\n",
    "# Print the paper titles, bibcodes, and URLs\n",
    "for result in results:\n",
    "    print(result[\"title\"])\n",
    "    print(result[\"bibcode\"])\n",
    "    print(result[\"url\"])\n"
   ]
  },
  {
   "cell_type": "code",
   "execution_count": null,
   "metadata": {},
   "outputs": [],
   "source": []
  }
 ],
 "metadata": {
  "kernelspec": {
   "display_name": "pipmag",
   "language": "python",
   "name": "python3"
  },
  "language_info": {
   "codemirror_mode": {
    "name": "ipython",
    "version": 3
   },
   "file_extension": ".py",
   "mimetype": "text/x-python",
   "name": "python",
   "nbconvert_exporter": "python",
   "pygments_lexer": "ipython3",
   "version": "3.11.0"
  },
  "orig_nbformat": 4,
  "vscode": {
   "interpreter": {
    "hash": "ba2b68964390c77ef2e04277debd5475c8565a11fab30e531aaf9c5e1dfcc05e"
   }
  }
 },
 "nbformat": 4,
 "nbformat_minor": 2
}
