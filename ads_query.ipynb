{
 "cells": [
  {
   "cell_type": "code",
   "execution_count": 5,
   "metadata": {},
   "outputs": [],
   "source": [
    "import configparser\n",
    "import os\n",
    "import requests\n",
    "import pandas as pd\n",
    "from IPython.display import display, clear_output, Video, HTML\n",
    "from urllib.parse import urlencode"
   ]
  },
  {
   "cell_type": "code",
   "execution_count": 6,
   "metadata": {},
   "outputs": [],
   "source": [
    "class ADSSearch:\n",
    "    \n",
    "    def __init__(self):\n",
    "        self.api_token = os.environ.get(\"ADS_DEV_KEY\")\n",
    "\n",
    "        if not self.api_token:\n",
    "            config = configparser.ConfigParser()\n",
    "            config.read('config.ini')\n",
    "            self.api_token = config.get('DEFAULT', 'ADS_DEV_KEY', fallback=None)\n",
    "\n",
    "        if not self.api_token:\n",
    "            raise ValueError(\"ADS API key not found. Please set the ADS_DEV_KEY environmental variable or add it to the config.ini file.\")\n",
    "    \n",
    "    def search(self, search_terms):\n",
    "        headers = {\"Authorization\": f\"Bearer {self.api_token}\"}\n",
    "\n",
    "        # Construct the query string\n",
    "        query_terms = \" AND \".join(f\"full:\\\"{term}\\\"\" for term in search_terms)\n",
    "        query = f\"{query_terms}\"\n",
    "        \n",
    "        # Set up the query parameters\n",
    "        params = {\n",
    "            \"q\": query,\n",
    "            \"fl\": \"id,title,bibcode,author,year\",\n",
    "            \"rows\": 100,\n",
    "            \"sort\": \"date desc\"\n",
    "        }\n",
    "\n",
    "        # Make the API request\n",
    "        response = requests.get(\"https://api.adsabs.harvard.edu/v1/search/query\", headers=headers, params=params)\n",
    "        response_json = response.json()\n",
    "        #print(response_json)\n",
    "        # Process the response and return the results\n",
    "        results = []\n",
    "        for paper in response_json[\"response\"][\"docs\"]:\n",
    "            result = {\n",
    "                \"title\": paper[\"title\"][0],\n",
    "                \"bibcode\": paper[\"bibcode\"],\n",
    "                \"first_author\": paper[\"author\"][0],\n",
    "                \"year\": paper[\"year\"],\n",
    "                \"url\": f\"https://ui.adsabs.harvard.edu/abs/{paper['bibcode']}\"\n",
    "            }\n",
    "            results.append(result)\n",
    "        return results\n",
    "    \n",
    "    def search_advanced(self, query_params):\n",
    "        headers = {\"Authorization\": f\"Bearer {self.api_token}\"}\n",
    "\n",
    "        # Encode the query parameters\n",
    "        encoded_query = urlencode(query_params)\n",
    "\n",
    "        # Make the API request\n",
    "        response = requests.get(f\"https://api.adsabs.harvard.edu/v1/search/query?{encoded_query}\", headers=headers)\n",
    "        response_json = response.json()\n",
    "\n",
    "        # Check for the 'response' key in the response JSON\n",
    "        if \"response\" not in response_json:\n",
    "            raise ValueError(\"Unexpected API response. 'response' key not found in the response JSON.\")\n",
    "\n",
    "        # Process the response and return the results\n",
    "        results = []\n",
    "        for paper in response_json[\"response\"][\"docs\"]:\n",
    "            result = {k: v for k, v in paper.items() if v}  # Filter out empty fields\n",
    "            result[\"url\"] = f\"https://ui.adsabs.harvard.edu/abs/{paper['bibcode']}\"\n",
    "            results.append(result)\n",
    "        return results\n"
   ]
  },
  {
   "cell_type": "code",
   "execution_count": 3,
   "metadata": {},
   "outputs": [
    {
     "data": {
      "text/html": [
       "<style>td { text-align: left; } th { text-align: center; }</style><table border=\"1\" class=\"dataframe\">\n",
       "  <thead>\n",
       "    <tr style=\"text-align: right;\">\n",
       "      <th>#</th>\n",
       "      <th>Title</th>\n",
       "      <th>First Author</th>\n",
       "      <th>Bibcode</th>\n",
       "      <th>URL</th>\n",
       "    </tr>\n",
       "  </thead>\n",
       "  <tbody>\n",
       "    <tr>\n",
       "      <td>1</td>\n",
       "      <td>On the dynamics of spicules and mass flows in the solar atmosphere</td>\n",
       "      <td>Bose, Souvik</td>\n",
       "      <td>2021arXiv211010656B</td>\n",
       "      <td><a href=\"https://ui.adsabs.harvard.edu/abs/2021arXiv211010656B\" target=\"_blank\">https://ui.adsabs.harvard.edu/abs/2021arXiv211010656B</a></td>\n",
       "    </tr>\n",
       "    <tr>\n",
       "      <td>2</td>\n",
       "      <td>Evidence of the multi-thermal nature of spicular downflows. Impact on solar atmospheric heating</td>\n",
       "      <td>Bose, Souvik</td>\n",
       "      <td>2021A&A...654A..51B</td>\n",
       "      <td><a href=\"https://ui.adsabs.harvard.edu/abs/2021A&A...654A..51B\" target=\"_blank\">https://ui.adsabs.harvard.edu/abs/2021A&A...654A..51B</a></td>\n",
       "    </tr>\n",
       "    <tr>\n",
       "      <td>3</td>\n",
       "      <td>Analysis of Pseudo-Lyapunov Exponents of Solar Convection Using State-of-the-Art Observations</td>\n",
       "      <td>Viavattene, Giorgio</td>\n",
       "      <td>2021Entrp..23..413V</td>\n",
       "      <td><a href=\"https://ui.adsabs.harvard.edu/abs/2021Entrp..23..413V\" target=\"_blank\">https://ui.adsabs.harvard.edu/abs/2021Entrp..23..413V</a></td>\n",
       "    </tr>\n",
       "    <tr>\n",
       "      <td>4</td>\n",
       "      <td>Spicules and downflows in the solar chromosphere</td>\n",
       "      <td>Bose, Souvik</td>\n",
       "      <td>2021A&A...647A.147B</td>\n",
       "      <td><a href=\"https://ui.adsabs.harvard.edu/abs/2021A&A...647A.147B\" target=\"_blank\">https://ui.adsabs.harvard.edu/abs/2021A&A...647A.147B</a></td>\n",
       "    </tr>\n",
       "    <tr>\n",
       "      <td>5</td>\n",
       "      <td>Characterization and formation of on-disk spicules in the Ca II K and Mg II k spectral lines</td>\n",
       "      <td>Bose, Souvik</td>\n",
       "      <td>2019A&A...631L...5B</td>\n",
       "      <td><a href=\"https://ui.adsabs.harvard.edu/abs/2019A&A...631L...5B\" target=\"_blank\">https://ui.adsabs.harvard.edu/abs/2019A&A...631L...5B</a></td>\n",
       "    </tr>\n",
       "  </tbody>\n",
       "</table>"
      ],
      "text/plain": [
       "<IPython.core.display.HTML object>"
      ]
     },
     "metadata": {},
     "output_type": "display_data"
    }
   ],
   "source": [
    "ads = ADSSearch()\n",
    "\n",
    "# Search for papers with the given search terms\n",
    "search_terms = [\"SST\", \"CRISP\", \"25 May 2017\"]\n",
    "results = ads.search(search_terms)\n",
    "\n",
    "# Print the paper titles, bibcodes, and URLs\n",
    "# for result in results:\n",
    "#     print(result[\"title\"])\n",
    "#     print(result[\"bibcode\"])\n",
    "#     print(result[\"first_author\"])\n",
    "#     print(result[\"year\"])\n",
    "#     print(result[\"url\"])\n",
    "headers = [\"#\", \"Title\", \"First Author\", \"Bibcode\", \"URL\"]\n",
    "rows = [[i+1, result[\"title\"],result[\"first_author\"], result[\"bibcode\"], result[\"url\"]] for i, result in enumerate(results)]\n",
    "df = pd.DataFrame(rows, columns=headers)\n",
    "if len(rows) > 0:\n",
    "    # Generate the HTML table with links and disable HTML escaping\n",
    "    html_table = df.to_html(render_links=True, escape=False, index=False)\n",
    "\n",
    "    # Define CSS style rules for the table cells and header cells\n",
    "    cell_style = \"td { text-align: left; }\"\n",
    "    header_style = \"th { text-align: center; }\"\n",
    "\n",
    "    # Use the HTML module to display the table with the style rules\n",
    "    display(HTML(f'<style>{cell_style} {header_style}</style>{html_table}'))\n"
   ]
  },
  {
   "cell_type": "code",
   "execution_count": 20,
   "metadata": {},
   "outputs": [
    {
     "name": "stdout",
     "output_type": "stream",
     "text": [
      " Souvik\n",
      "Bose\n"
     ]
    }
   ],
   "source": [
    "author_list = {'author': ['Bose, Souvik', 'Rouppe van der Voort, Luc', 'Joshi, Jayant', 'Henriques, Vasco M. J.', 'Nóbrega-Siverio, Daniel', 'Martínez-Sykora, Juan', 'De Pontieu, Bart']}\n",
    "author_list['author'][0]\n",
    "#split the author list into first and last name\n",
    "first_name = author_list['author'][0].split(',')[1]\n",
    "last_name = author_list['author'][0].split(',')[0]\n",
    "print(first_name)\n",
    "print(last_name)"
   ]
  },
  {
   "cell_type": "code",
   "execution_count": 15,
   "metadata": {},
   "outputs": [
    {
     "name": "stdout",
     "output_type": "stream",
     "text": [
      "Latest file: data/la_palma_obs_data_20230216_182941.pkl\n"
     ]
    }
   ],
   "source": [
    "import pandas as pd\n",
    "import pipmag as pm\n",
    "latest_updated_la_palma_obs_data_file = pm.get_latest_file('data/la_palma_obs_data_*.pkl')\n",
    "df = pd.read_pickle(latest_updated_la_palma_obs_data_file)"
   ]
  },
  {
   "cell_type": "code",
   "execution_count": 16,
   "metadata": {},
   "outputs": [],
   "source": [
    "dt = df.iloc[42].date_time"
   ]
  },
  {
   "cell_type": "code",
   "execution_count": 17,
   "metadata": {},
   "outputs": [
    {
     "name": "stdout",
     "output_type": "stream",
     "text": [
      "06 June 2019\n"
     ]
    }
   ],
   "source": [
    "# convert dt into string in the format 25 May 2017\n",
    "dt_str = dt.strftime('%d %B %Y')\n",
    "print(dt_str)"
   ]
  },
  {
   "cell_type": "code",
   "execution_count": 18,
   "metadata": {},
   "outputs": [
    {
     "name": "stdout",
     "output_type": "stream",
     "text": [
      "6 June 2019\n"
     ]
    }
   ],
   "source": [
    "# convert dt into string in the format 6 June 2019\n",
    "dt_str = dt.strftime('%-d %B %Y')\n",
    "print(dt_str)"
   ]
  },
  {
   "cell_type": "code",
   "execution_count": 19,
   "metadata": {},
   "outputs": [],
   "source": [
    "#convert the dt into string in the format 25 May 2017 if the date is two digits, otherwise 6 June 2019\n",
    "dt_str = dt.strftime('%-d %B %Y') if dt.day < 10 else dt.strftime('%d %B %Y')"
   ]
  },
  {
   "cell_type": "code",
   "execution_count": 20,
   "metadata": {},
   "outputs": [],
   "source": [
    "ins = df.iloc[36].instruments"
   ]
  },
  {
   "cell_type": "code",
   "execution_count": 21,
   "metadata": {},
   "outputs": [
    {
     "name": "stdout",
     "output_type": "stream",
     "text": [
      "['SST', 'CRISP', '6 June 2019']\n"
     ]
    }
   ],
   "source": [
    "# combine the list of instruments and dt_str into a list\n",
    "search_terms = ['SST'] + ins + [dt_str]\n",
    "print(search_terms)"
   ]
  },
  {
   "cell_type": "code",
   "execution_count": 22,
   "metadata": {},
   "outputs": [
    {
     "name": "stdout",
     "output_type": "stream",
     "text": [
      "Properties of shock waves in the quiet-Sun chromosphere\n",
      "2022A&A...668A.153M\n",
      "https://ui.adsabs.harvard.edu/abs/2022A&A...668A.153M\n",
      "Properties of ubiquitous magnetic reconnection events in the lower solar atmosphere\n",
      "2022A&A...664A..72J\n",
      "https://ui.adsabs.harvard.edu/abs/2022A&A...664A..72J\n",
      "Signatures of ubiquitous magnetic reconnection in the lower solar atmosphere\n",
      "2020A&A...641L...5J\n",
      "https://ui.adsabs.harvard.edu/abs/2020A&A...641L...5J\n"
     ]
    }
   ],
   "source": [
    "results = ads.search(search_terms)\n",
    "\n",
    "# Print the paper titles, bibcodes, and URLs\n",
    "for result in results:\n",
    "    print(result[\"title\"])\n",
    "    print(result[\"bibcode\"])\n",
    "    print(result[\"url\"])"
   ]
  },
  {
   "cell_type": "code",
   "execution_count": null,
   "metadata": {},
   "outputs": [],
   "source": [
    "\n"
   ]
  }
 ],
 "metadata": {
  "kernelspec": {
   "display_name": "pipmag",
   "language": "python",
   "name": "python3"
  },
  "language_info": {
   "codemirror_mode": {
    "name": "ipython",
    "version": 3
   },
   "file_extension": ".py",
   "mimetype": "text/x-python",
   "name": "python",
   "nbconvert_exporter": "python",
   "pygments_lexer": "ipython3",
   "version": "3.11.0"
  },
  "orig_nbformat": 4,
  "vscode": {
   "interpreter": {
    "hash": "1232b9098adf6b0faec6fa1a0e29c66861b0d081e122eeffbb012b9519281154"
   }
  }
 },
 "nbformat": 4,
 "nbformat_minor": 2
}
